{
 "cells": [
  {
   "cell_type": "code",
   "execution_count": 5,
   "id": "9d2e7f41",
   "metadata": {},
   "outputs": [],
   "source": [
    "# !pip install polars"
   ]
  },
  {
   "cell_type": "code",
   "execution_count": 6,
   "id": "86151326",
   "metadata": {},
   "outputs": [],
   "source": [
    "import polars as pl\n",
    "import numpy as np\n",
    "import pandas as pd\n",
    "# from polars import sample/\n",
    "# https://github.com/martinbel/polars-tutorial/blob/master/01%20-%20Polars.ipynb"
   ]
  },
  {
   "cell_type": "code",
   "execution_count": 7,
   "id": "ec9a93c4",
   "metadata": {},
   "outputs": [
    {
     "data": {
      "text/html": [
       "<div><style>\n",
       ".dataframe > thead > tr > th,\n",
       ".dataframe > tbody > tr > td {\n",
       "  text-align: right;\n",
       "}\n",
       "</style>\n",
       "<small>shape: (5, 4)</small><table border=\"1\" class=\"dataframe\"><thead><tr><th>id</th><th>name</th><th>rgb</th><th>is_trans</th></tr><tr><td>i64</td><td>str</td><td>str</td><td>str</td></tr></thead><tbody><tr><td>-1</td><td>&quot;Unknown&quot;</td><td>&quot;0033B2&quot;</td><td>&quot;f&quot;</td></tr><tr><td>0</td><td>&quot;Black&quot;</td><td>&quot;05131D&quot;</td><td>&quot;f&quot;</td></tr><tr><td>1</td><td>&quot;Blue&quot;</td><td>&quot;0055BF&quot;</td><td>&quot;f&quot;</td></tr><tr><td>2</td><td>&quot;Green&quot;</td><td>&quot;237841&quot;</td><td>&quot;f&quot;</td></tr><tr><td>3</td><td>&quot;Dark Turquoise…</td><td>&quot;008F9B&quot;</td><td>&quot;f&quot;</td></tr></tbody></table></div>"
      ],
      "text/plain": [
       "shape: (5, 4)\n",
       "┌─────┬────────────────┬────────┬──────────┐\n",
       "│ id  ┆ name           ┆ rgb    ┆ is_trans │\n",
       "│ --- ┆ ---            ┆ ---    ┆ ---      │\n",
       "│ i64 ┆ str            ┆ str    ┆ str      │\n",
       "╞═════╪════════════════╪════════╪══════════╡\n",
       "│ -1  ┆ Unknown        ┆ 0033B2 ┆ f        │\n",
       "│ 0   ┆ Black          ┆ 05131D ┆ f        │\n",
       "│ 1   ┆ Blue           ┆ 0055BF ┆ f        │\n",
       "│ 2   ┆ Green          ┆ 237841 ┆ f        │\n",
       "│ 3   ┆ Dark Turquoise ┆ 008F9B ┆ f        │\n",
       "└─────┴────────────────┴────────┴──────────┘"
      ]
     },
     "execution_count": 7,
     "metadata": {},
     "output_type": "execute_result"
    }
   ],
   "source": [
    "df = pl.read_csv(\"Data/colors.csv\")\n",
    "df.head()"
   ]
  },
  {
   "cell_type": "code",
   "execution_count": 8,
   "id": "26028399",
   "metadata": {},
   "outputs": [
    {
     "data": {
      "text/plain": [
       "(135, 4)"
      ]
     },
     "execution_count": 8,
     "metadata": {},
     "output_type": "execute_result"
    }
   ],
   "source": [
    "df.shape"
   ]
  },
  {
   "cell_type": "code",
   "execution_count": 9,
   "id": "5d160feb",
   "metadata": {},
   "outputs": [
    {
     "name": "stdout",
     "output_type": "stream",
     "text": [
      "shape: (2, 4)\n",
      "┌─────┬─────────┬────────┬──────────┐\n",
      "│ id  ┆ name    ┆ rgb    ┆ is_trans │\n",
      "│ --- ┆ ---     ┆ ---    ┆ ---      │\n",
      "│ i64 ┆ str     ┆ str    ┆ str      │\n",
      "╞═════╪═════════╪════════╪══════════╡\n",
      "│ -1  ┆ Unknown ┆ 0033B2 ┆ f        │\n",
      "│ 0   ┆ Black   ┆ 05131D ┆ f        │\n",
      "└─────┴─────────┴────────┴──────────┘\n"
     ]
    }
   ],
   "source": [
    "print(df.head(2))"
   ]
  },
  {
   "cell_type": "code",
   "execution_count": 10,
   "id": "1a865448",
   "metadata": {},
   "outputs": [
    {
     "data": {
      "text/plain": [
       "[Int64, Utf8, Utf8, Utf8]"
      ]
     },
     "execution_count": 10,
     "metadata": {},
     "output_type": "execute_result"
    }
   ],
   "source": [
    "df.dtypes"
   ]
  },
  {
   "cell_type": "markdown",
   "id": "ed6ff65a",
   "metadata": {},
   "source": [
    "# Selecting and Filtering Data\n",
    "Here I'll do some operations that are similar to the SELECT and WHERE in sql"
   ]
  },
  {
   "cell_type": "markdown",
   "id": "3f733d3b",
   "metadata": {},
   "source": [
    "# Indexing with[but is an Anti Pattern ] in polars\n",
    "There in no loc and iloc functions in polars,it dosen't have indexes"
   ]
  },
  {
   "cell_type": "code",
   "execution_count": 11,
   "id": "27f9b1a3",
   "metadata": {},
   "outputs": [
    {
     "data": {
      "text/html": [
       "<div><style>\n",
       ".dataframe > thead > tr > th,\n",
       ".dataframe > tbody > tr > td {\n",
       "  text-align: right;\n",
       "}\n",
       "</style>\n",
       "<small>shape: (1, 4)</small><table border=\"1\" class=\"dataframe\"><thead><tr><th>id</th><th>name</th><th>rgb</th><th>is_trans</th></tr><tr><td>i64</td><td>str</td><td>str</td><td>str</td></tr></thead><tbody><tr><td>-1</td><td>&quot;Unknown&quot;</td><td>&quot;0033B2&quot;</td><td>&quot;f&quot;</td></tr></tbody></table></div>"
      ],
      "text/plain": [
       "shape: (1, 4)\n",
       "┌─────┬─────────┬────────┬──────────┐\n",
       "│ id  ┆ name    ┆ rgb    ┆ is_trans │\n",
       "│ --- ┆ ---     ┆ ---    ┆ ---      │\n",
       "│ i64 ┆ str     ┆ str    ┆ str      │\n",
       "╞═════╪═════════╪════════╪══════════╡\n",
       "│ -1  ┆ Unknown ┆ 0033B2 ┆ f        │\n",
       "└─────┴─────────┴────────┴──────────┘"
      ]
     },
     "execution_count": 11,
     "metadata": {},
     "output_type": "execute_result"
    }
   ],
   "source": [
    "df[0,:]"
   ]
  },
  {
   "cell_type": "code",
   "execution_count": 12,
   "id": "8c7a9392",
   "metadata": {},
   "outputs": [
    {
     "data": {
      "text/html": [
       "<div><style>\n",
       ".dataframe > thead > tr > th,\n",
       ".dataframe > tbody > tr > td {\n",
       "  text-align: right;\n",
       "}\n",
       "</style>\n",
       "<small>shape: (5, 2)</small><table border=\"1\" class=\"dataframe\"><thead><tr><th>id</th><th>name</th></tr><tr><td>i64</td><td>str</td></tr></thead><tbody><tr><td>-1</td><td>&quot;Unknown&quot;</td></tr><tr><td>0</td><td>&quot;Black&quot;</td></tr><tr><td>1</td><td>&quot;Blue&quot;</td></tr><tr><td>2</td><td>&quot;Green&quot;</td></tr><tr><td>3</td><td>&quot;Dark Turquoise…</td></tr></tbody></table></div>"
      ],
      "text/plain": [
       "shape: (5, 2)\n",
       "┌─────┬────────────────┐\n",
       "│ id  ┆ name           │\n",
       "│ --- ┆ ---            │\n",
       "│ i64 ┆ str            │\n",
       "╞═════╪════════════════╡\n",
       "│ -1  ┆ Unknown        │\n",
       "│ 0   ┆ Black          │\n",
       "│ 1   ┆ Blue           │\n",
       "│ 2   ┆ Green          │\n",
       "│ 3   ┆ Dark Turquoise │\n",
       "└─────┴────────────────┘"
      ]
     },
     "execution_count": 12,
     "metadata": {},
     "output_type": "execute_result"
    }
   ],
   "source": [
    "#  R:C\n",
    "df[ : ,['id','name']].head()"
   ]
  },
  {
   "cell_type": "code",
   "execution_count": 13,
   "id": "f09f57f0",
   "metadata": {},
   "outputs": [
    {
     "data": {
      "text/html": [
       "<div><style>\n",
       ".dataframe > thead > tr > th,\n",
       ".dataframe > tbody > tr > td {\n",
       "  text-align: right;\n",
       "}\n",
       "</style>\n",
       "<small>shape: (128, 4)</small><table border=\"1\" class=\"dataframe\"><thead><tr><th>id</th><th>name</th><th>rgb</th><th>is_trans</th></tr><tr><td>i64</td><td>str</td><td>str</td><td>str</td></tr></thead><tbody><tr><td>6</td><td>&quot;Brown&quot;</td><td>&quot;583927&quot;</td><td>&quot;f&quot;</td></tr><tr><td>7</td><td>&quot;Light Gray&quot;</td><td>&quot;9BA19D&quot;</td><td>&quot;f&quot;</td></tr><tr><td>8</td><td>&quot;Dark Gray&quot;</td><td>&quot;6D6E5C&quot;</td><td>&quot;f&quot;</td></tr><tr><td>9</td><td>&quot;Light Blue&quot;</td><td>&quot;B4D2E3&quot;</td><td>&quot;f&quot;</td></tr><tr><td>10</td><td>&quot;Bright Green&quot;</td><td>&quot;4B9F4A&quot;</td><td>&quot;f&quot;</td></tr><tr><td>11</td><td>&quot;Light Turquois…</td><td>&quot;55A5AF&quot;</td><td>&quot;f&quot;</td></tr><tr><td>12</td><td>&quot;Salmon&quot;</td><td>&quot;F2705E&quot;</td><td>&quot;f&quot;</td></tr><tr><td>13</td><td>&quot;Pink&quot;</td><td>&quot;FC97AC&quot;</td><td>&quot;f&quot;</td></tr><tr><td>14</td><td>&quot;Yellow&quot;</td><td>&quot;F2CD37&quot;</td><td>&quot;f&quot;</td></tr><tr><td>15</td><td>&quot;White&quot;</td><td>&quot;FFFFFF&quot;</td><td>&quot;f&quot;</td></tr><tr><td>17</td><td>&quot;Light Green&quot;</td><td>&quot;C2DAB8&quot;</td><td>&quot;f&quot;</td></tr><tr><td>18</td><td>&quot;Light Yellow&quot;</td><td>&quot;FBE696&quot;</td><td>&quot;f&quot;</td></tr><tr><td>&hellip;</td><td>&hellip;</td><td>&hellip;</td><td>&hellip;</td></tr><tr><td>462</td><td>&quot;Medium Orange&quot;</td><td>&quot;FFA70B&quot;</td><td>&quot;f&quot;</td></tr><tr><td>484</td><td>&quot;Dark Orange&quot;</td><td>&quot;A95500&quot;</td><td>&quot;f&quot;</td></tr><tr><td>503</td><td>&quot;Very Light Gra…</td><td>&quot;E6E3DA&quot;</td><td>&quot;f&quot;</td></tr><tr><td>1000</td><td>&quot;Glow in Dark W…</td><td>&quot;D9D9D9&quot;</td><td>&quot;f&quot;</td></tr><tr><td>1001</td><td>&quot;Medium Violet&quot;</td><td>&quot;9391E4&quot;</td><td>&quot;f&quot;</td></tr><tr><td>1002</td><td>&quot;Glitter Trans-…</td><td>&quot;C0F500&quot;</td><td>&quot;t&quot;</td></tr><tr><td>1003</td><td>&quot;Glitter Trans-…</td><td>&quot;68BCC5&quot;</td><td>&quot;t&quot;</td></tr><tr><td>1004</td><td>&quot;Trans Flame Ye…</td><td>&quot;FCB76D&quot;</td><td>&quot;t&quot;</td></tr><tr><td>1005</td><td>&quot;Trans Fire Yel…</td><td>&quot;FBE890&quot;</td><td>&quot;t&quot;</td></tr><tr><td>1006</td><td>&quot;Trans Light Ro…</td><td>&quot;B4D4F7&quot;</td><td>&quot;t&quot;</td></tr><tr><td>1007</td><td>&quot;Reddish Lilac&quot;</td><td>&quot;8E5597&quot;</td><td>&quot;f&quot;</td></tr><tr><td>9999</td><td>&quot;[No Color]&quot;</td><td>&quot;05131D&quot;</td><td>&quot;f&quot;</td></tr></tbody></table></div>"
      ],
      "text/plain": [
       "shape: (128, 4)\n",
       "┌──────┬────────────────────────┬────────┬──────────┐\n",
       "│ id   ┆ name                   ┆ rgb    ┆ is_trans │\n",
       "│ ---  ┆ ---                    ┆ ---    ┆ ---      │\n",
       "│ i64  ┆ str                    ┆ str    ┆ str      │\n",
       "╞══════╪════════════════════════╪════════╪══════════╡\n",
       "│ 6    ┆ Brown                  ┆ 583927 ┆ f        │\n",
       "│ 7    ┆ Light Gray             ┆ 9BA19D ┆ f        │\n",
       "│ 8    ┆ Dark Gray              ┆ 6D6E5C ┆ f        │\n",
       "│ 9    ┆ Light Blue             ┆ B4D2E3 ┆ f        │\n",
       "│ …    ┆ …                      ┆ …      ┆ …        │\n",
       "│ 1005 ┆ Trans Fire Yellow      ┆ FBE890 ┆ t        │\n",
       "│ 1006 ┆ Trans Light Royal Blue ┆ B4D4F7 ┆ t        │\n",
       "│ 1007 ┆ Reddish Lilac          ┆ 8E5597 ┆ f        │\n",
       "│ 9999 ┆ [No Color]             ┆ 05131D ┆ f        │\n",
       "└──────┴────────────────────────┴────────┴──────────┘"
      ]
     },
     "execution_count": 13,
     "metadata": {},
     "output_type": "execute_result"
    }
   ],
   "source": [
    "df.filter(pl.col(\"id\")>=6)"
   ]
  },
  {
   "cell_type": "markdown",
   "id": "db3d0893",
   "metadata": {},
   "source": [
    "# Select Data with Idiomatic Polars"
   ]
  },
  {
   "cell_type": "code",
   "execution_count": 14,
   "id": "a3b0a167",
   "metadata": {},
   "outputs": [],
   "source": [
    "# df.sample(5).to_pandas()"
   ]
  },
  {
   "cell_type": "code",
   "execution_count": 15,
   "id": "cf2637df",
   "metadata": {},
   "outputs": [
    {
     "data": {
      "text/html": [
       "<div><style>\n",
       ".dataframe > thead > tr > th,\n",
       ".dataframe > tbody > tr > td {\n",
       "  text-align: right;\n",
       "}\n",
       "</style>\n",
       "<small>shape: (135, 2)</small><table border=\"1\" class=\"dataframe\"><thead><tr><th>id</th><th>name</th></tr><tr><td>i64</td><td>str</td></tr></thead><tbody><tr><td>-1</td><td>&quot;Unknown&quot;</td></tr><tr><td>0</td><td>&quot;Black&quot;</td></tr><tr><td>1</td><td>&quot;Blue&quot;</td></tr><tr><td>2</td><td>&quot;Green&quot;</td></tr><tr><td>3</td><td>&quot;Dark Turquoise…</td></tr><tr><td>4</td><td>&quot;Red&quot;</td></tr><tr><td>5</td><td>&quot;Dark Pink&quot;</td></tr><tr><td>6</td><td>&quot;Brown&quot;</td></tr><tr><td>7</td><td>&quot;Light Gray&quot;</td></tr><tr><td>8</td><td>&quot;Dark Gray&quot;</td></tr><tr><td>9</td><td>&quot;Light Blue&quot;</td></tr><tr><td>10</td><td>&quot;Bright Green&quot;</td></tr><tr><td>&hellip;</td><td>&hellip;</td></tr><tr><td>462</td><td>&quot;Medium Orange&quot;</td></tr><tr><td>484</td><td>&quot;Dark Orange&quot;</td></tr><tr><td>503</td><td>&quot;Very Light Gra…</td></tr><tr><td>1000</td><td>&quot;Glow in Dark W…</td></tr><tr><td>1001</td><td>&quot;Medium Violet&quot;</td></tr><tr><td>1002</td><td>&quot;Glitter Trans-…</td></tr><tr><td>1003</td><td>&quot;Glitter Trans-…</td></tr><tr><td>1004</td><td>&quot;Trans Flame Ye…</td></tr><tr><td>1005</td><td>&quot;Trans Fire Yel…</td></tr><tr><td>1006</td><td>&quot;Trans Light Ro…</td></tr><tr><td>1007</td><td>&quot;Reddish Lilac&quot;</td></tr><tr><td>9999</td><td>&quot;[No Color]&quot;</td></tr></tbody></table></div>"
      ],
      "text/plain": [
       "shape: (135, 2)\n",
       "┌──────┬────────────────────────┐\n",
       "│ id   ┆ name                   │\n",
       "│ ---  ┆ ---                    │\n",
       "│ i64  ┆ str                    │\n",
       "╞══════╪════════════════════════╡\n",
       "│ -1   ┆ Unknown                │\n",
       "│ 0    ┆ Black                  │\n",
       "│ 1    ┆ Blue                   │\n",
       "│ 2    ┆ Green                  │\n",
       "│ …    ┆ …                      │\n",
       "│ 1005 ┆ Trans Fire Yellow      │\n",
       "│ 1006 ┆ Trans Light Royal Blue │\n",
       "│ 1007 ┆ Reddish Lilac          │\n",
       "│ 9999 ┆ [No Color]             │\n",
       "└──────┴────────────────────────┘"
      ]
     },
     "execution_count": 15,
     "metadata": {},
     "output_type": "execute_result"
    }
   ],
   "source": [
    "df.select(['id','name'])"
   ]
  },
  {
   "cell_type": "code",
   "execution_count": 16,
   "id": "5d8a0841",
   "metadata": {},
   "outputs": [],
   "source": [
    "# keeps all the orignal columns and add new column\n",
    "# similar to SELECT* in SQL\n",
    "\n",
    "# df.columns([\n",
    "#     (pl.col('is_trans') + \"Hehe\").alias(\"HeheAdded\")\n",
    "# ]).head()"
   ]
  },
  {
   "cell_type": "code",
   "execution_count": 17,
   "id": "b32543bd",
   "metadata": {},
   "outputs": [
    {
     "data": {
      "text/html": [
       "<div><style>\n",
       ".dataframe > thead > tr > th,\n",
       ".dataframe > tbody > tr > td {\n",
       "  text-align: right;\n",
       "}\n",
       "</style>\n",
       "<small>shape: (2, 4)</small><table border=\"1\" class=\"dataframe\"><thead><tr><th>id</th><th>name</th><th>rgb</th><th>is_trans</th></tr><tr><td>i64</td><td>str</td><td>str</td><td>str</td></tr></thead><tbody><tr><td>1</td><td>&quot;Blue&quot;</td><td>&quot;0055BF&quot;</td><td>&quot;f&quot;</td></tr><tr><td>2</td><td>&quot;Green&quot;</td><td>&quot;237841&quot;</td><td>&quot;f&quot;</td></tr></tbody></table></div>"
      ],
      "text/plain": [
       "shape: (2, 4)\n",
       "┌─────┬───────┬────────┬──────────┐\n",
       "│ id  ┆ name  ┆ rgb    ┆ is_trans │\n",
       "│ --- ┆ ---   ┆ ---    ┆ ---      │\n",
       "│ i64 ┆ str   ┆ str    ┆ str      │\n",
       "╞═════╪═══════╪════════╪══════════╡\n",
       "│ 1   ┆ Blue  ┆ 0055BF ┆ f        │\n",
       "│ 2   ┆ Green ┆ 237841 ┆ f        │\n",
       "└─────┴───────┴────────┴──────────┘"
      ]
     },
     "execution_count": 17,
     "metadata": {},
     "output_type": "execute_result"
    }
   ],
   "source": [
    "df.filter(pl.col('id').is_in([1,2]))"
   ]
  },
  {
   "cell_type": "code",
   "execution_count": 18,
   "id": "79cc256e",
   "metadata": {},
   "outputs": [
    {
     "data": {
      "text/html": [
       "<div><style>\n",
       ".dataframe > thead > tr > th,\n",
       ".dataframe > tbody > tr > td {\n",
       "  text-align: right;\n",
       "}\n",
       "</style>\n",
       "<small>shape: (1, 1)</small><table border=\"1\" class=\"dataframe\"><thead><tr><th>id</th></tr><tr><td>u32</td></tr></thead><tbody><tr><td>135</td></tr></tbody></table></div>"
      ],
      "text/plain": [
       "shape: (1, 1)\n",
       "┌─────┐\n",
       "│ id  │\n",
       "│ --- │\n",
       "│ u32 │\n",
       "╞═════╡\n",
       "│ 135 │\n",
       "└─────┘"
      ]
     },
     "execution_count": 18,
     "metadata": {},
     "output_type": "execute_result"
    }
   ],
   "source": [
    "df.select(pl.col('id').n_unique())"
   ]
  },
  {
   "cell_type": "code",
   "execution_count": 19,
   "id": "5fd14dc9",
   "metadata": {},
   "outputs": [],
   "source": [
    "# .min()\n",
    "# .max().alias('ss')\n",
    "# .median().alias(\"ss\")\n",
    "# .mean()\n",
    "# .std()alias()"
   ]
  },
  {
   "cell_type": "code",
   "execution_count": 20,
   "id": "fba51802",
   "metadata": {},
   "outputs": [
    {
     "data": {
      "text/html": [
       "<div><style>\n",
       ".dataframe > thead > tr > th,\n",
       ".dataframe > tbody > tr > td {\n",
       "  text-align: right;\n",
       "}\n",
       "</style>\n",
       "<small>shape: (9, 3)</small><table border=\"1\" class=\"dataframe\"><thead><tr><th>describe</th><th>id</th><th>name</th></tr><tr><td>str</td><td>f64</td><td>str</td></tr></thead><tbody><tr><td>&quot;count&quot;</td><td>135.0</td><td>&quot;135&quot;</td></tr><tr><td>&quot;null_count&quot;</td><td>0.0</td><td>&quot;0&quot;</td></tr><tr><td>&quot;mean&quot;</td><td>253.037037</td><td>null</td></tr><tr><td>&quot;std&quot;</td><td>878.441466</td><td>null</td></tr><tr><td>&quot;min&quot;</td><td>-1.0</td><td>&quot;Aqua&quot;</td></tr><tr><td>&quot;max&quot;</td><td>9999.0</td><td>&quot;[No Color]&quot;</td></tr><tr><td>&quot;median&quot;</td><td>85.0</td><td>null</td></tr><tr><td>&quot;25%&quot;</td><td>34.0</td><td>null</td></tr><tr><td>&quot;75%&quot;</td><td>232.0</td><td>null</td></tr></tbody></table></div>"
      ],
      "text/plain": [
       "shape: (9, 3)\n",
       "┌────────────┬────────────┬────────────┐\n",
       "│ describe   ┆ id         ┆ name       │\n",
       "│ ---        ┆ ---        ┆ ---        │\n",
       "│ str        ┆ f64        ┆ str        │\n",
       "╞════════════╪════════════╪════════════╡\n",
       "│ count      ┆ 135.0      ┆ 135        │\n",
       "│ null_count ┆ 0.0        ┆ 0          │\n",
       "│ mean       ┆ 253.037037 ┆ null       │\n",
       "│ std        ┆ 878.441466 ┆ null       │\n",
       "│ min        ┆ -1.0       ┆ Aqua       │\n",
       "│ max        ┆ 9999.0     ┆ [No Color] │\n",
       "│ median     ┆ 85.0       ┆ null       │\n",
       "│ 25%        ┆ 34.0       ┆ null       │\n",
       "│ 75%        ┆ 232.0      ┆ null       │\n",
       "└────────────┴────────────┴────────────┘"
      ]
     },
     "execution_count": 20,
     "metadata": {},
     "output_type": "execute_result"
    }
   ],
   "source": [
    "df.select(['id','name']).describe()"
   ]
  },
  {
   "cell_type": "code",
   "execution_count": 21,
   "id": "39c5674f",
   "metadata": {},
   "outputs": [],
   "source": [
    "# id.sample(13).to_pandas().hist(bins=30)"
   ]
  },
  {
   "cell_type": "code",
   "execution_count": 22,
   "id": "c37da624",
   "metadata": {},
   "outputs": [
    {
     "ename": "NameError",
     "evalue": "name 'np' is not defined",
     "output_type": "error",
     "traceback": [
      "\u001b[1;31m---------------------------------------------------------------------------\u001b[0m",
      "\u001b[1;31mNameError\u001b[0m                                 Traceback (most recent call last)",
      "\u001b[1;32m~\\AppData\\Local\\Temp\\ipykernel_1416\\2238582904.py\u001b[0m in \u001b[0;36m<module>\u001b[1;34m\u001b[0m\n\u001b[0;32m      3\u001b[0m \u001b[1;33m\u001b[0m\u001b[0m\n\u001b[0;32m      4\u001b[0m df = pl.DataFrame({\n\u001b[1;32m----> 5\u001b[1;33m     \u001b[1;34m\"roll_number\"\u001b[0m\u001b[1;33m:\u001b[0m \u001b[0mnp\u001b[0m\u001b[1;33m.\u001b[0m\u001b[0marange\u001b[0m\u001b[1;33m(\u001b[0m\u001b[1;36m1\u001b[0m\u001b[1;33m,\u001b[0m\u001b[0msample\u001b[0m\u001b[1;33m+\u001b[0m\u001b[1;36m1\u001b[0m\u001b[1;33m)\u001b[0m\u001b[1;33m,\u001b[0m\u001b[1;33m\u001b[0m\u001b[1;33m\u001b[0m\u001b[0m\n\u001b[0m\u001b[0;32m      6\u001b[0m     \u001b[1;34m\"student name\"\u001b[0m\u001b[1;33m:\u001b[0m \u001b[0mnp\u001b[0m\u001b[1;33m.\u001b[0m\u001b[0mrandom\u001b[0m\u001b[1;33m.\u001b[0m\u001b[0mchoice\u001b[0m\u001b[1;33m(\u001b[0m\u001b[1;33m[\u001b[0m\u001b[1;34m\"Ali\"\u001b[0m\u001b[1;33m,\u001b[0m\u001b[1;34m\"Hamza\"\u001b[0m\u001b[1;33m,\u001b[0m\u001b[1;34m\"Junaid\"\u001b[0m\u001b[1;33m,\u001b[0m\u001b[1;34m\"Asif\"\u001b[0m\u001b[1;33m,\u001b[0m\u001b[1;34m\"Raza\"\u001b[0m\u001b[1;33m,\u001b[0m\u001b[1;34m'Khuzaima'\u001b[0m\u001b[1;33m,\u001b[0m\u001b[1;34m\"kamil\"\u001b[0m\u001b[1;33m,\u001b[0m\u001b[1;34m\"Maaz\"\u001b[0m\u001b[1;33m,\u001b[0m\u001b[1;34m\"Rafay\"\u001b[0m\u001b[1;33m,\u001b[0m\u001b[1;34m\"Usman\"\u001b[0m\u001b[1;33m]\u001b[0m\u001b[1;33m,\u001b[0m \u001b[0msample\u001b[0m\u001b[1;33m)\u001b[0m\u001b[1;33m,\u001b[0m\u001b[1;33m\u001b[0m\u001b[1;33m\u001b[0m\u001b[0m\n\u001b[0;32m      7\u001b[0m     \u001b[1;34m\"father name\"\u001b[0m\u001b[1;33m:\u001b[0m \u001b[0mnp\u001b[0m\u001b[1;33m.\u001b[0m\u001b[0mrandom\u001b[0m\u001b[1;33m.\u001b[0m\u001b[0mchoice\u001b[0m\u001b[1;33m(\u001b[0m\u001b[1;33m[\u001b[0m\u001b[1;34m\"Ebad\"\u001b[0m\u001b[1;33m,\u001b[0m\u001b[1;34m\"Hashim\"\u001b[0m\u001b[1;33m,\u001b[0m\u001b[1;34m\"Konain\"\u001b[0m\u001b[1;33m,\u001b[0m\u001b[1;34m\"Yasir\"\u001b[0m\u001b[1;33m,\u001b[0m\u001b[1;34m\"Iqbal\"\u001b[0m\u001b[1;33m]\u001b[0m\u001b[1;33m,\u001b[0m \u001b[0msample\u001b[0m\u001b[1;33m)\u001b[0m\u001b[1;33m,\u001b[0m\u001b[1;33m\u001b[0m\u001b[1;33m\u001b[0m\u001b[0m\n",
      "\u001b[1;31mNameError\u001b[0m: name 'np' is not defined"
     ]
    }
   ],
   "source": [
    "sample = 10000\n",
    "\n",
    "\n",
    "df = pl.DataFrame({\n",
    "    \"roll_number\": np.arange(1,sample+1),\n",
    "    \"student name\": np.random.choice([\"Ali\",\"Hamza\",\"Junaid\",\"Asif\",\"Raza\",'Khuzaima',\"kamil\",\"Maaz\",\"Rafay\",\"Usman\"], sample),\n",
    "    \"father name\": np.random.choice([\"Ebad\",\"Hashim\",\"Konain\",\"Yasir\",\"Iqbal\"], sample),\n",
    "    \"DOB\": np.random.choice(pd.date_range(\"1960-01-01\", \"2015-12-31\", freq=\"D\").values, sample),\n",
    "    \"s1\": np.random.randint(1,100, sample),\n",
    "    \"s2\": np.random.randint(1,100, sample),\n",
    "    \"s3\": np.random.randint(1,100, sample),\n",
    "    \"s4\": np.random.randint(1,100, sample),\n",
    "    \"s5\": np.random.randint(1,100, sample)\n",
    "    \n",
    "})\n",
    "df.head()"
   ]
  },
  {
   "cell_type": "markdown",
   "id": "cd9567be",
   "metadata": {},
   "source": [
    "# Updating Columns/Adding Columns"
   ]
  },
  {
   "cell_type": "code",
   "execution_count": null,
   "id": "be891c9c",
   "metadata": {},
   "outputs": [],
   "source": [
    "df.with_columns([\n",
    "    ('Mr.'+ pl.col('student name')).alias(\"Attendent\"),( pl.col('s1')*0.20).alias(\"Viva\")\n",
    "]).head()\n"
   ]
  },
  {
   "cell_type": "code",
   "execution_count": null,
   "id": "5cc0ba3b",
   "metadata": {},
   "outputs": [],
   "source": [
    "df.with_columns([\n",
    "    ( pl.col('s5')).mean().over('s5').alias(\"Mean\")\n",
    "]).head()\n"
   ]
  },
  {
   "cell_type": "code",
   "execution_count": null,
   "id": "d20a0d38",
   "metadata": {},
   "outputs": [],
   "source": []
  },
  {
   "cell_type": "code",
   "execution_count": null,
   "id": "cb229efe",
   "metadata": {},
   "outputs": [],
   "source": []
  },
  {
   "cell_type": "code",
   "execution_count": null,
   "id": "e9c33a6c",
   "metadata": {},
   "outputs": [],
   "source": []
  }
 ],
 "metadata": {
  "kernelspec": {
   "display_name": "Python 3 (ipykernel)",
   "language": "python",
   "name": "python3"
  },
  "language_info": {
   "codemirror_mode": {
    "name": "ipython",
    "version": 3
   },
   "file_extension": ".py",
   "mimetype": "text/x-python",
   "name": "python",
   "nbconvert_exporter": "python",
   "pygments_lexer": "ipython3",
   "version": "3.9.13"
  }
 },
 "nbformat": 4,
 "nbformat_minor": 5
}
