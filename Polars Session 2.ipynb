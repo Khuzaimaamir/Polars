{
 "cells": [
  {
   "cell_type": "code",
   "execution_count": 1,
   "id": "82dfa24b",
   "metadata": {},
   "outputs": [],
   "source": [
    "# !pip install pyarrow"
   ]
  },
  {
   "cell_type": "code",
   "execution_count": null,
   "id": "fb40248f",
   "metadata": {},
   "outputs": [],
   "source": [
    "import polars as pl\n",
    "import pandas as pd\n",
    "import numpy as np\n",
    "import pyarrow\n",
    "import matplotlib.pyplot as plt\n",
    "import seaborn as sns\n",
    "# https://github.com/martinbel/polars-tutorial/blob/master/02%20-%20Polars.ipynb"
   ]
  },
  {
   "cell_type": "code",
   "execution_count": 3,
   "id": "71b4ac93",
   "metadata": {},
   "outputs": [
    {
     "data": {
      "text/html": [
       "<div><style>\n",
       ".dataframe > thead > tr > th,\n",
       ".dataframe > tbody > tr > td {\n",
       "  text-align: right;\n",
       "}\n",
       "</style>\n",
       "<small>shape: (5, 9)</small><table border=\"1\" class=\"dataframe\"><thead><tr><th>event_time</th><th>event_type</th><th>product_id</th><th>category_id</th><th>category_code</th><th>brand</th><th>price</th><th>user_id</th><th>user_session</th></tr><tr><td>str</td><td>str</td><td>i64</td><td>f64</td><td>str</td><td>str</td><td>f64</td><td>i64</td><td>str</td></tr></thead><tbody><tr><td>&quot;2019-10-01 00:…</td><td>&quot;view&quot;</td><td>44600062</td><td>2.1038e18</td><td>null</td><td>&quot;shiseido&quot;</td><td>35.79</td><td>541312140</td><td>&quot;72d76fde-8bb3-…</td></tr><tr><td>&quot;2019-10-01 00:…</td><td>&quot;view&quot;</td><td>3900821</td><td>2.0530e18</td><td>&quot;appliances.env…</td><td>&quot;aqua&quot;</td><td>33.2</td><td>554748717</td><td>&quot;9333dfbd-b87a-…</td></tr><tr><td>&quot;2019-10-01 00:…</td><td>&quot;view&quot;</td><td>17200506</td><td>2.0530e18</td><td>&quot;furniture.livi…</td><td>null</td><td>543.1</td><td>519107250</td><td>&quot;566511c2-e2e3-…</td></tr><tr><td>&quot;2019-10-01 00:…</td><td>&quot;view&quot;</td><td>1307067</td><td>2.0530e18</td><td>&quot;computers.note…</td><td>&quot;lenovo&quot;</td><td>251.74</td><td>550050854</td><td>&quot;7c90fc70-0e80-…</td></tr><tr><td>&quot;2019-10-01 00:…</td><td>&quot;view&quot;</td><td>1004237</td><td>2.0530e18</td><td>&quot;electronics.sm…</td><td>&quot;apple&quot;</td><td>1081.98</td><td>535871217</td><td>&quot;c6bd7419-2748-…</td></tr></tbody></table></div>"
      ],
      "text/plain": [
       "shape: (5, 9)\n",
       "┌──────────────┬────────────┬────────────┬─────────────┬───┬──────────┬─────────┬───────────┬──────────────────────────┐\n",
       "│ event_time   ┆ event_type ┆ product_id ┆ category_id ┆ … ┆ brand    ┆ price   ┆ user_id   ┆ user_session             │\n",
       "│ ---          ┆ ---        ┆ ---        ┆ ---         ┆   ┆ ---      ┆ ---     ┆ ---       ┆ ---                      │\n",
       "│ str          ┆ str        ┆ i64        ┆ f64         ┆   ┆ str      ┆ f64     ┆ i64       ┆ str                      │\n",
       "╞══════════════╪════════════╪════════════╪═════════════╪═══╪══════════╪═════════╪═══════════╪══════════════════════════╡\n",
       "│ 2019-10-01   ┆ view       ┆ 44600062   ┆ 2.1038e18   ┆ … ┆ shiseido ┆ 35.79   ┆ 541312140 ┆ 72d76fde-8bb3-4e00-8c23- │\n",
       "│ 00:00:00 UTC ┆            ┆            ┆             ┆   ┆          ┆         ┆           ┆ a032dfed…                │\n",
       "│ 2019-10-01   ┆ view       ┆ 3900821    ┆ 2.0530e18   ┆ … ┆ aqua     ┆ 33.2    ┆ 554748717 ┆ 9333dfbd-b87a-4708-9857- │\n",
       "│ 00:00:00 UTC ┆            ┆            ┆             ┆   ┆          ┆         ┆           ┆ 6336556b…                │\n",
       "│ 2019-10-01   ┆ view       ┆ 17200506   ┆ 2.0530e18   ┆ … ┆ null     ┆ 543.1   ┆ 519107250 ┆ 566511c2-e2e3-422b-b695- │\n",
       "│ 00:00:01 UTC ┆            ┆            ┆             ┆   ┆          ┆         ┆           ┆ cf8e6e79…                │\n",
       "│ 2019-10-01   ┆ view       ┆ 1307067    ┆ 2.0530e18   ┆ … ┆ lenovo   ┆ 251.74  ┆ 550050854 ┆ 7c90fc70-0e80-4590-96f3- │\n",
       "│ 00:00:01 UTC ┆            ┆            ┆             ┆   ┆          ┆         ┆           ┆ 13c02c18…                │\n",
       "│ 2019-10-01   ┆ view       ┆ 1004237    ┆ 2.0530e18   ┆ … ┆ apple    ┆ 1081.98 ┆ 535871217 ┆ c6bd7419-2748-4c56-95b4- │\n",
       "│ 00:00:04 UTC ┆            ┆            ┆             ┆   ┆          ┆         ┆           ┆ 8cec9ff8…                │\n",
       "└──────────────┴────────────┴────────────┴─────────────┴───┴──────────┴─────────┴───────────┴──────────────────────────┘"
      ]
     },
     "execution_count": 3,
     "metadata": {},
     "output_type": "execute_result"
    }
   ],
   "source": [
    "df = pl.read_csv(\"2019-Oct-reduced.csv\")\n",
    "df.head()"
   ]
  },
  {
   "cell_type": "code",
   "execution_count": 4,
   "id": "32f00e9c",
   "metadata": {},
   "outputs": [
    {
     "data": {
      "text/plain": [
       "1048575"
      ]
     },
     "execution_count": 4,
     "metadata": {},
     "output_type": "execute_result"
    }
   ],
   "source": [
    "(len(df))"
   ]
  },
  {
   "cell_type": "code",
   "execution_count": 5,
   "id": "76f9362c",
   "metadata": {},
   "outputs": [
    {
     "data": {
      "text/plain": [
       "(1048575, 9)"
      ]
     },
     "execution_count": 5,
     "metadata": {},
     "output_type": "execute_result"
    }
   ],
   "source": [
    "df.shape"
   ]
  },
  {
   "cell_type": "markdown",
   "id": "94515e88",
   "metadata": {},
   "source": [
    "# 1. Update values on one or multiple columns"
   ]
  },
  {
   "cell_type": "code",
   "execution_count": 6,
   "id": "3d699e8e",
   "metadata": {},
   "outputs": [
    {
     "data": {
      "text/html": [
       "<div><style>\n",
       ".dataframe > thead > tr > th,\n",
       ".dataframe > tbody > tr > td {\n",
       "  text-align: right;\n",
       "}\n",
       "</style>\n",
       "<small>shape: (5, 9)</small><table border=\"1\" class=\"dataframe\"><thead><tr><th>event_time</th><th>event_type</th><th>product_id</th><th>category_id</th><th>category_code</th><th>brand</th><th>price</th><th>user_id</th><th>user_session</th></tr><tr><td>str</td><td>str</td><td>i64</td><td>f64</td><td>str</td><td>str</td><td>f64</td><td>i64</td><td>str</td></tr></thead><tbody><tr><td>&quot;2019-10-01 00:…</td><td>&quot;view&quot;</td><td>44600062</td><td>2.1038e18</td><td>null</td><td>&quot;shiseido&quot;</td><td>35.79</td><td>541312140</td><td>&quot;72d76fde-8bb3-…</td></tr><tr><td>&quot;2019-10-01 00:…</td><td>&quot;view&quot;</td><td>3900821</td><td>2.0530e18</td><td>&quot;appliances.env…</td><td>&quot;aqua&quot;</td><td>33.2</td><td>554748717</td><td>&quot;9333dfbd-b87a-…</td></tr><tr><td>&quot;2019-10-01 00:…</td><td>&quot;view&quot;</td><td>17200506</td><td>2.0530e18</td><td>&quot;furniture.livi…</td><td>null</td><td>543.1</td><td>519107250</td><td>&quot;566511c2-e2e3-…</td></tr><tr><td>&quot;2019-10-01 00:…</td><td>&quot;view&quot;</td><td>1307067</td><td>2.0530e18</td><td>&quot;computers.note…</td><td>&quot;lenovo&quot;</td><td>251.74</td><td>550050854</td><td>&quot;7c90fc70-0e80-…</td></tr><tr><td>&quot;2019-10-01 00:…</td><td>&quot;view&quot;</td><td>1004237</td><td>2.0530e18</td><td>&quot;electronics.sm…</td><td>&quot;apple&quot;</td><td>1081.98</td><td>535871217</td><td>&quot;c6bd7419-2748-…</td></tr></tbody></table></div>"
      ],
      "text/plain": [
       "shape: (5, 9)\n",
       "┌──────────────┬────────────┬────────────┬─────────────┬───┬──────────┬─────────┬───────────┬──────────────────────────┐\n",
       "│ event_time   ┆ event_type ┆ product_id ┆ category_id ┆ … ┆ brand    ┆ price   ┆ user_id   ┆ user_session             │\n",
       "│ ---          ┆ ---        ┆ ---        ┆ ---         ┆   ┆ ---      ┆ ---     ┆ ---       ┆ ---                      │\n",
       "│ str          ┆ str        ┆ i64        ┆ f64         ┆   ┆ str      ┆ f64     ┆ i64       ┆ str                      │\n",
       "╞══════════════╪════════════╪════════════╪═════════════╪═══╪══════════╪═════════╪═══════════╪══════════════════════════╡\n",
       "│ 2019-10-01   ┆ view       ┆ 44600062   ┆ 2.1038e18   ┆ … ┆ shiseido ┆ 35.79   ┆ 541312140 ┆ 72d76fde-8bb3-4e00-8c23- │\n",
       "│ 00:00:00 UTC ┆            ┆            ┆             ┆   ┆          ┆         ┆           ┆ a032dfed…                │\n",
       "│ 2019-10-01   ┆ view       ┆ 3900821    ┆ 2.0530e18   ┆ … ┆ aqua     ┆ 33.2    ┆ 554748717 ┆ 9333dfbd-b87a-4708-9857- │\n",
       "│ 00:00:00 UTC ┆            ┆            ┆             ┆   ┆          ┆         ┆           ┆ 6336556b…                │\n",
       "│ 2019-10-01   ┆ view       ┆ 17200506   ┆ 2.0530e18   ┆ … ┆ null     ┆ 543.1   ┆ 519107250 ┆ 566511c2-e2e3-422b-b695- │\n",
       "│ 00:00:01 UTC ┆            ┆            ┆             ┆   ┆          ┆         ┆           ┆ cf8e6e79…                │\n",
       "│ 2019-10-01   ┆ view       ┆ 1307067    ┆ 2.0530e18   ┆ … ┆ lenovo   ┆ 251.74  ┆ 550050854 ┆ 7c90fc70-0e80-4590-96f3- │\n",
       "│ 00:00:01 UTC ┆            ┆            ┆             ┆   ┆          ┆         ┆           ┆ 13c02c18…                │\n",
       "│ 2019-10-01   ┆ view       ┆ 1004237    ┆ 2.0530e18   ┆ … ┆ apple    ┆ 1081.98 ┆ 535871217 ┆ c6bd7419-2748-4c56-95b4- │\n",
       "│ 00:00:04 UTC ┆            ┆            ┆             ┆   ┆          ┆         ┆           ┆ 8cec9ff8…                │\n",
       "└──────────────┴────────────┴────────────┴─────────────┴───┴──────────┴─────────┴───────────┴──────────────────────────┘"
      ]
     },
     "execution_count": 6,
     "metadata": {},
     "output_type": "execute_result"
    }
   ],
   "source": [
    "df_top = df.head()\n",
    "df_top"
   ]
  },
  {
   "cell_type": "code",
   "execution_count": 7,
   "id": "6bab070b",
   "metadata": {},
   "outputs": [
    {
     "data": {
      "text/html": [
       "<div><style>\n",
       ".dataframe > thead > tr > th,\n",
       ".dataframe > tbody > tr > td {\n",
       "  text-align: right;\n",
       "}\n",
       "</style>\n",
       "<small>shape: (5, 10)</small><table border=\"1\" class=\"dataframe\"><thead><tr><th>event_time</th><th>event_type</th><th>product_id</th><th>category_id</th><th>category_code</th><th>brand</th><th>price</th><th>user_id</th><th>user_session</th><th>brand_name</th></tr><tr><td>str</td><td>str</td><td>i64</td><td>f64</td><td>str</td><td>str</td><td>f64</td><td>i64</td><td>str</td><td>str</td></tr></thead><tbody><tr><td>&quot;2019-10-01 00:…</td><td>&quot;view&quot;</td><td>44600062</td><td>2.1038e18</td><td>null</td><td>&quot;shiseido&quot;</td><td>35.79</td><td>541312140</td><td>&quot;72d76fde-8bb3-…</td><td>&quot;Brandshiseido&quot;</td></tr><tr><td>&quot;2019-10-01 00:…</td><td>&quot;view&quot;</td><td>3900821</td><td>2.0530e18</td><td>&quot;appliances.env…</td><td>&quot;aqua&quot;</td><td>33.2</td><td>554748717</td><td>&quot;9333dfbd-b87a-…</td><td>&quot;Brandaqua&quot;</td></tr><tr><td>&quot;2019-10-01 00:…</td><td>&quot;view&quot;</td><td>17200506</td><td>2.0530e18</td><td>&quot;furniture.livi…</td><td>null</td><td>543.1</td><td>519107250</td><td>&quot;566511c2-e2e3-…</td><td>null</td></tr><tr><td>&quot;2019-10-01 00:…</td><td>&quot;view&quot;</td><td>1307067</td><td>2.0530e18</td><td>&quot;computers.note…</td><td>&quot;lenovo&quot;</td><td>251.74</td><td>550050854</td><td>&quot;7c90fc70-0e80-…</td><td>&quot;Brandlenovo&quot;</td></tr><tr><td>&quot;2019-10-01 00:…</td><td>&quot;view&quot;</td><td>1004237</td><td>2.0530e18</td><td>&quot;electronics.sm…</td><td>&quot;apple&quot;</td><td>1081.98</td><td>535871217</td><td>&quot;c6bd7419-2748-…</td><td>&quot;Brandapple&quot;</td></tr></tbody></table></div>"
      ],
      "text/plain": [
       "shape: (5, 10)\n",
       "┌──────────────┬────────────┬────────────┬─────────────┬───┬─────────┬───────────┬─────────────────────┬───────────────┐\n",
       "│ event_time   ┆ event_type ┆ product_id ┆ category_id ┆ … ┆ price   ┆ user_id   ┆ user_session        ┆ brand_name    │\n",
       "│ ---          ┆ ---        ┆ ---        ┆ ---         ┆   ┆ ---     ┆ ---       ┆ ---                 ┆ ---           │\n",
       "│ str          ┆ str        ┆ i64        ┆ f64         ┆   ┆ f64     ┆ i64       ┆ str                 ┆ str           │\n",
       "╞══════════════╪════════════╪════════════╪═════════════╪═══╪═════════╪═══════════╪═════════════════════╪═══════════════╡\n",
       "│ 2019-10-01   ┆ view       ┆ 44600062   ┆ 2.1038e18   ┆ … ┆ 35.79   ┆ 541312140 ┆ 72d76fde-8bb3-4e00- ┆ Brandshiseido │\n",
       "│ 00:00:00 UTC ┆            ┆            ┆             ┆   ┆         ┆           ┆ 8c23-a032dfed…      ┆               │\n",
       "│ 2019-10-01   ┆ view       ┆ 3900821    ┆ 2.0530e18   ┆ … ┆ 33.2    ┆ 554748717 ┆ 9333dfbd-b87a-4708- ┆ Brandaqua     │\n",
       "│ 00:00:00 UTC ┆            ┆            ┆             ┆   ┆         ┆           ┆ 9857-6336556b…      ┆               │\n",
       "│ 2019-10-01   ┆ view       ┆ 17200506   ┆ 2.0530e18   ┆ … ┆ 543.1   ┆ 519107250 ┆ 566511c2-e2e3-422b- ┆ null          │\n",
       "│ 00:00:01 UTC ┆            ┆            ┆             ┆   ┆         ┆           ┆ b695-cf8e6e79…      ┆               │\n",
       "│ 2019-10-01   ┆ view       ┆ 1307067    ┆ 2.0530e18   ┆ … ┆ 251.74  ┆ 550050854 ┆ 7c90fc70-0e80-4590- ┆ Brandlenovo   │\n",
       "│ 00:00:01 UTC ┆            ┆            ┆             ┆   ┆         ┆           ┆ 96f3-13c02c18…      ┆               │\n",
       "│ 2019-10-01   ┆ view       ┆ 1004237    ┆ 2.0530e18   ┆ … ┆ 1081.98 ┆ 535871217 ┆ c6bd7419-2748-4c56- ┆ Brandapple    │\n",
       "│ 00:00:04 UTC ┆            ┆            ┆             ┆   ┆         ┆           ┆ 95b4-8cec9ff8…      ┆               │\n",
       "└──────────────┴────────────┴────────────┴─────────────┴───┴─────────┴───────────┴─────────────────────┴───────────────┘"
      ]
     },
     "execution_count": 7,
     "metadata": {},
     "output_type": "execute_result"
    }
   ],
   "source": [
    "df_top.with_columns(\n",
    "    (\"Brand\" + pl.col('brand')).alias(\"brand_name\")\n",
    ")"
   ]
  },
  {
   "cell_type": "code",
   "execution_count": 8,
   "id": "96ad4b3e",
   "metadata": {},
   "outputs": [
    {
     "data": {
      "text/html": [
       "<div><style>\n",
       ".dataframe > thead > tr > th,\n",
       ".dataframe > tbody > tr > td {\n",
       "  text-align: right;\n",
       "}\n",
       "</style>\n",
       "<small>shape: (5, 11)</small><table border=\"1\" class=\"dataframe\"><thead><tr><th>event_time</th><th>event_type</th><th>product_id</th><th>category_id</th><th>category_code</th><th>brand</th><th>price</th><th>user_id</th><th>user_session</th><th>brand_name</th><th>price_mul</th></tr><tr><td>str</td><td>str</td><td>i64</td><td>f64</td><td>str</td><td>str</td><td>f64</td><td>i64</td><td>str</td><td>str</td><td>f64</td></tr></thead><tbody><tr><td>&quot;2019-10-01 00:…</td><td>&quot;view&quot;</td><td>44600062</td><td>2.1038e18</td><td>null</td><td>&quot;shiseido&quot;</td><td>35.79</td><td>541312140</td><td>&quot;72d76fde-8bb3-…</td><td>&quot;Brandshiseido&quot;</td><td>3579.0</td></tr><tr><td>&quot;2019-10-01 00:…</td><td>&quot;view&quot;</td><td>3900821</td><td>2.0530e18</td><td>&quot;appliances.env…</td><td>&quot;aqua&quot;</td><td>33.2</td><td>554748717</td><td>&quot;9333dfbd-b87a-…</td><td>&quot;Brandaqua&quot;</td><td>3320.0</td></tr><tr><td>&quot;2019-10-01 00:…</td><td>&quot;view&quot;</td><td>17200506</td><td>2.0530e18</td><td>&quot;furniture.livi…</td><td>null</td><td>543.1</td><td>519107250</td><td>&quot;566511c2-e2e3-…</td><td>null</td><td>54310.0</td></tr><tr><td>&quot;2019-10-01 00:…</td><td>&quot;view&quot;</td><td>1307067</td><td>2.0530e18</td><td>&quot;computers.note…</td><td>&quot;lenovo&quot;</td><td>251.74</td><td>550050854</td><td>&quot;7c90fc70-0e80-…</td><td>&quot;Brandlenovo&quot;</td><td>25174.0</td></tr><tr><td>&quot;2019-10-01 00:…</td><td>&quot;view&quot;</td><td>1004237</td><td>2.0530e18</td><td>&quot;electronics.sm…</td><td>&quot;apple&quot;</td><td>1081.98</td><td>535871217</td><td>&quot;c6bd7419-2748-…</td><td>&quot;Brandapple&quot;</td><td>108198.0</td></tr></tbody></table></div>"
      ],
      "text/plain": [
       "shape: (5, 11)\n",
       "┌─────────────────┬────────────┬────────────┬─────────────┬───┬───────────┬────────────────┬───────────────┬───────────┐\n",
       "│ event_time      ┆ event_type ┆ product_id ┆ category_id ┆ … ┆ user_id   ┆ user_session   ┆ brand_name    ┆ price_mul │\n",
       "│ ---             ┆ ---        ┆ ---        ┆ ---         ┆   ┆ ---       ┆ ---            ┆ ---           ┆ ---       │\n",
       "│ str             ┆ str        ┆ i64        ┆ f64         ┆   ┆ i64       ┆ str            ┆ str           ┆ f64       │\n",
       "╞═════════════════╪════════════╪════════════╪═════════════╪═══╪═══════════╪════════════════╪═══════════════╪═══════════╡\n",
       "│ 2019-10-01      ┆ view       ┆ 44600062   ┆ 2.1038e18   ┆ … ┆ 541312140 ┆ 72d76fde-8bb3- ┆ Brandshiseido ┆ 3579.0    │\n",
       "│ 00:00:00 UTC    ┆            ┆            ┆             ┆   ┆           ┆ 4e00-8c23-a032 ┆               ┆           │\n",
       "│                 ┆            ┆            ┆             ┆   ┆           ┆ dfed…          ┆               ┆           │\n",
       "│ 2019-10-01      ┆ view       ┆ 3900821    ┆ 2.0530e18   ┆ … ┆ 554748717 ┆ 9333dfbd-b87a- ┆ Brandaqua     ┆ 3320.0    │\n",
       "│ 00:00:00 UTC    ┆            ┆            ┆             ┆   ┆           ┆ 4708-9857-6336 ┆               ┆           │\n",
       "│                 ┆            ┆            ┆             ┆   ┆           ┆ 556b…          ┆               ┆           │\n",
       "│ 2019-10-01      ┆ view       ┆ 17200506   ┆ 2.0530e18   ┆ … ┆ 519107250 ┆ 566511c2-e2e3- ┆ null          ┆ 54310.0   │\n",
       "│ 00:00:01 UTC    ┆            ┆            ┆             ┆   ┆           ┆ 422b-b695-cf8e ┆               ┆           │\n",
       "│                 ┆            ┆            ┆             ┆   ┆           ┆ 6e79…          ┆               ┆           │\n",
       "│ 2019-10-01      ┆ view       ┆ 1307067    ┆ 2.0530e18   ┆ … ┆ 550050854 ┆ 7c90fc70-0e80- ┆ Brandlenovo   ┆ 25174.0   │\n",
       "│ 00:00:01 UTC    ┆            ┆            ┆             ┆   ┆           ┆ 4590-96f3-13c0 ┆               ┆           │\n",
       "│                 ┆            ┆            ┆             ┆   ┆           ┆ 2c18…          ┆               ┆           │\n",
       "│ 2019-10-01      ┆ view       ┆ 1004237    ┆ 2.0530e18   ┆ … ┆ 535871217 ┆ c6bd7419-2748- ┆ Brandapple    ┆ 108198.0  │\n",
       "│ 00:00:04 UTC    ┆            ┆            ┆             ┆   ┆           ┆ 4c56-95b4-8cec ┆               ┆           │\n",
       "│                 ┆            ┆            ┆             ┆   ┆           ┆ 9ff8…          ┆               ┆           │\n",
       "└─────────────────┴────────────┴────────────┴─────────────┴───┴───────────┴────────────────┴───────────────┴───────────┘"
      ]
     },
     "execution_count": 8,
     "metadata": {},
     "output_type": "execute_result"
    }
   ],
   "source": [
    "# update a numeric column\n",
    "df_top.with_columns(\n",
    "    (\"Brand\" + pl.col('brand')).alias(\"brand_name\"),\n",
    "    (pl.col('price')*100).alias(\"price_mul\")\n",
    ")"
   ]
  },
  {
   "cell_type": "code",
   "execution_count": 9,
   "id": "8439e321",
   "metadata": {},
   "outputs": [
    {
     "data": {
      "text/html": [
       "<div><style>\n",
       ".dataframe > thead > tr > th,\n",
       ".dataframe > tbody > tr > td {\n",
       "  text-align: right;\n",
       "}\n",
       "</style>\n",
       "<small>shape: (5, 10)</small><table border=\"1\" class=\"dataframe\"><thead><tr><th>event_time</th><th>event_type</th><th>product_id</th><th>category_id</th><th>category_code</th><th>brand</th><th>price</th><th>user_id</th><th>user_session</th><th>price_mean</th></tr><tr><td>str</td><td>str</td><td>i64</td><td>f64</td><td>str</td><td>str</td><td>f64</td><td>i64</td><td>str</td><td>f64</td></tr></thead><tbody><tr><td>&quot;2019-10-01 00:…</td><td>&quot;view&quot;</td><td>44600062</td><td>2.1038e18</td><td>null</td><td>&quot;shiseido&quot;</td><td>35.79</td><td>541312140</td><td>&quot;72d76fde-8bb3-…</td><td>389.162</td></tr><tr><td>&quot;2019-10-01 00:…</td><td>&quot;view&quot;</td><td>3900821</td><td>2.0530e18</td><td>&quot;appliances.env…</td><td>&quot;aqua&quot;</td><td>33.2</td><td>554748717</td><td>&quot;9333dfbd-b87a-…</td><td>389.162</td></tr><tr><td>&quot;2019-10-01 00:…</td><td>&quot;view&quot;</td><td>17200506</td><td>2.0530e18</td><td>&quot;furniture.livi…</td><td>null</td><td>543.1</td><td>519107250</td><td>&quot;566511c2-e2e3-…</td><td>389.162</td></tr><tr><td>&quot;2019-10-01 00:…</td><td>&quot;view&quot;</td><td>1307067</td><td>2.0530e18</td><td>&quot;computers.note…</td><td>&quot;lenovo&quot;</td><td>251.74</td><td>550050854</td><td>&quot;7c90fc70-0e80-…</td><td>389.162</td></tr><tr><td>&quot;2019-10-01 00:…</td><td>&quot;view&quot;</td><td>1004237</td><td>2.0530e18</td><td>&quot;electronics.sm…</td><td>&quot;apple&quot;</td><td>1081.98</td><td>535871217</td><td>&quot;c6bd7419-2748-…</td><td>389.162</td></tr></tbody></table></div>"
      ],
      "text/plain": [
       "shape: (5, 10)\n",
       "┌──────────────┬────────────┬────────────┬─────────────┬───┬─────────┬───────────┬────────────────────────┬────────────┐\n",
       "│ event_time   ┆ event_type ┆ product_id ┆ category_id ┆ … ┆ price   ┆ user_id   ┆ user_session           ┆ price_mean │\n",
       "│ ---          ┆ ---        ┆ ---        ┆ ---         ┆   ┆ ---     ┆ ---       ┆ ---                    ┆ ---        │\n",
       "│ str          ┆ str        ┆ i64        ┆ f64         ┆   ┆ f64     ┆ i64       ┆ str                    ┆ f64        │\n",
       "╞══════════════╪════════════╪════════════╪═════════════╪═══╪═════════╪═══════════╪════════════════════════╪════════════╡\n",
       "│ 2019-10-01   ┆ view       ┆ 44600062   ┆ 2.1038e18   ┆ … ┆ 35.79   ┆ 541312140 ┆ 72d76fde-8bb3-4e00-8c2 ┆ 389.162    │\n",
       "│ 00:00:00 UTC ┆            ┆            ┆             ┆   ┆         ┆           ┆ 3-a032dfed…            ┆            │\n",
       "│ 2019-10-01   ┆ view       ┆ 3900821    ┆ 2.0530e18   ┆ … ┆ 33.2    ┆ 554748717 ┆ 9333dfbd-b87a-4708-985 ┆ 389.162    │\n",
       "│ 00:00:00 UTC ┆            ┆            ┆             ┆   ┆         ┆           ┆ 7-6336556b…            ┆            │\n",
       "│ 2019-10-01   ┆ view       ┆ 17200506   ┆ 2.0530e18   ┆ … ┆ 543.1   ┆ 519107250 ┆ 566511c2-e2e3-422b-b69 ┆ 389.162    │\n",
       "│ 00:00:01 UTC ┆            ┆            ┆             ┆   ┆         ┆           ┆ 5-cf8e6e79…            ┆            │\n",
       "│ 2019-10-01   ┆ view       ┆ 1307067    ┆ 2.0530e18   ┆ … ┆ 251.74  ┆ 550050854 ┆ 7c90fc70-0e80-4590-96f ┆ 389.162    │\n",
       "│ 00:00:01 UTC ┆            ┆            ┆             ┆   ┆         ┆           ┆ 3-13c02c18…            ┆            │\n",
       "│ 2019-10-01   ┆ view       ┆ 1004237    ┆ 2.0530e18   ┆ … ┆ 1081.98 ┆ 535871217 ┆ c6bd7419-2748-4c56-95b ┆ 389.162    │\n",
       "│ 00:00:04 UTC ┆            ┆            ┆             ┆   ┆         ┆           ┆ 4-8cec9ff8…            ┆            │\n",
       "└──────────────┴────────────┴────────────┴─────────────┴───┴─────────┴───────────┴────────────────────────┴────────────┘"
      ]
     },
     "execution_count": 9,
     "metadata": {},
     "output_type": "execute_result"
    }
   ],
   "source": [
    "# Create a column with a constant (based on the mean) \n",
    "df_top.select([\n",
    "    pl.all(),\n",
    "    pl.col('price').mean().alias(\"price_mean\")\n",
    "])\n",
    "# pl.all() returns all rows & columns"
   ]
  },
  {
   "cell_type": "markdown",
   "id": "593c7ebd",
   "metadata": {},
   "source": [
    "# 2. Update values based on window function"
   ]
  },
  {
   "cell_type": "markdown",
   "id": "1038e209",
   "metadata": {},
   "source": [
    "In pandas this is done with transform. In R's dplyr with mutate.\n",
    "\n",
    "The idea is we update values of a column BY a group and the new column has the same size of the original dataframe.\n",
    "\n",
    "The over() call defines the group we are interested in"
   ]
  },
  {
   "cell_type": "code",
   "execution_count": 10,
   "id": "e4fd499a",
   "metadata": {},
   "outputs": [
    {
     "data": {
      "text/html": [
       "<div><style>\n",
       ".dataframe > thead > tr > th,\n",
       ".dataframe > tbody > tr > td {\n",
       "  text-align: right;\n",
       "}\n",
       "</style>\n",
       "<small>shape: (5, 9)</small><table border=\"1\" class=\"dataframe\"><thead><tr><th>event_time</th><th>event_type</th><th>product_id</th><th>category_id</th><th>category_code</th><th>brand</th><th>price</th><th>user_id</th><th>user_session</th></tr><tr><td>str</td><td>str</td><td>i64</td><td>f64</td><td>str</td><td>str</td><td>f64</td><td>i64</td><td>str</td></tr></thead><tbody><tr><td>&quot;2019-10-01 00:…</td><td>&quot;view&quot;</td><td>44600062</td><td>2.1038e18</td><td>null</td><td>&quot;shiseido&quot;</td><td>35.79</td><td>541312140</td><td>&quot;72d76fde-8bb3-…</td></tr><tr><td>&quot;2019-10-01 00:…</td><td>&quot;view&quot;</td><td>3900821</td><td>2.0530e18</td><td>&quot;appliances.env…</td><td>&quot;aqua&quot;</td><td>33.2</td><td>554748717</td><td>&quot;9333dfbd-b87a-…</td></tr><tr><td>&quot;2019-10-01 00:…</td><td>&quot;view&quot;</td><td>17200506</td><td>2.0530e18</td><td>&quot;furniture.livi…</td><td>null</td><td>543.1</td><td>519107250</td><td>&quot;566511c2-e2e3-…</td></tr><tr><td>&quot;2019-10-01 00:…</td><td>&quot;view&quot;</td><td>1307067</td><td>2.0530e18</td><td>&quot;computers.note…</td><td>&quot;lenovo&quot;</td><td>251.74</td><td>550050854</td><td>&quot;7c90fc70-0e80-…</td></tr><tr><td>&quot;2019-10-01 00:…</td><td>&quot;view&quot;</td><td>1004237</td><td>2.0530e18</td><td>&quot;electronics.sm…</td><td>&quot;apple&quot;</td><td>1081.98</td><td>535871217</td><td>&quot;c6bd7419-2748-…</td></tr></tbody></table></div>"
      ],
      "text/plain": [
       "shape: (5, 9)\n",
       "┌──────────────┬────────────┬────────────┬─────────────┬───┬──────────┬─────────┬───────────┬──────────────────────────┐\n",
       "│ event_time   ┆ event_type ┆ product_id ┆ category_id ┆ … ┆ brand    ┆ price   ┆ user_id   ┆ user_session             │\n",
       "│ ---          ┆ ---        ┆ ---        ┆ ---         ┆   ┆ ---      ┆ ---     ┆ ---       ┆ ---                      │\n",
       "│ str          ┆ str        ┆ i64        ┆ f64         ┆   ┆ str      ┆ f64     ┆ i64       ┆ str                      │\n",
       "╞══════════════╪════════════╪════════════╪═════════════╪═══╪══════════╪═════════╪═══════════╪══════════════════════════╡\n",
       "│ 2019-10-01   ┆ view       ┆ 44600062   ┆ 2.1038e18   ┆ … ┆ shiseido ┆ 35.79   ┆ 541312140 ┆ 72d76fde-8bb3-4e00-8c23- │\n",
       "│ 00:00:00 UTC ┆            ┆            ┆             ┆   ┆          ┆         ┆           ┆ a032dfed…                │\n",
       "│ 2019-10-01   ┆ view       ┆ 3900821    ┆ 2.0530e18   ┆ … ┆ aqua     ┆ 33.2    ┆ 554748717 ┆ 9333dfbd-b87a-4708-9857- │\n",
       "│ 00:00:00 UTC ┆            ┆            ┆             ┆   ┆          ┆         ┆           ┆ 6336556b…                │\n",
       "│ 2019-10-01   ┆ view       ┆ 17200506   ┆ 2.0530e18   ┆ … ┆ null     ┆ 543.1   ┆ 519107250 ┆ 566511c2-e2e3-422b-b695- │\n",
       "│ 00:00:01 UTC ┆            ┆            ┆             ┆   ┆          ┆         ┆           ┆ cf8e6e79…                │\n",
       "│ 2019-10-01   ┆ view       ┆ 1307067    ┆ 2.0530e18   ┆ … ┆ lenovo   ┆ 251.74  ┆ 550050854 ┆ 7c90fc70-0e80-4590-96f3- │\n",
       "│ 00:00:01 UTC ┆            ┆            ┆             ┆   ┆          ┆         ┆           ┆ 13c02c18…                │\n",
       "│ 2019-10-01   ┆ view       ┆ 1004237    ┆ 2.0530e18   ┆ … ┆ apple    ┆ 1081.98 ┆ 535871217 ┆ c6bd7419-2748-4c56-95b4- │\n",
       "│ 00:00:04 UTC ┆            ┆            ┆             ┆   ┆          ┆         ┆           ┆ 8cec9ff8…                │\n",
       "└──────────────┴────────────┴────────────┴─────────────┴───┴──────────┴─────────┴───────────┴──────────────────────────┘"
      ]
     },
     "execution_count": 10,
     "metadata": {},
     "output_type": "execute_result"
    }
   ],
   "source": [
    "df.head()"
   ]
  },
  {
   "cell_type": "code",
   "execution_count": 11,
   "id": "8d8eb9dc",
   "metadata": {},
   "outputs": [
    {
     "data": {
      "text/html": [
       "<div><style>\n",
       ".dataframe > thead > tr > th,\n",
       ".dataframe > tbody > tr > td {\n",
       "  text-align: right;\n",
       "}\n",
       "</style>\n",
       "<small>shape: (5, 10)</small><table border=\"1\" class=\"dataframe\"><thead><tr><th>event_time</th><th>event_type</th><th>product_id</th><th>category_id</th><th>category_code</th><th>brand</th><th>price</th><th>user_id</th><th>user_session</th><th>price_by_categorycode</th></tr><tr><td>str</td><td>str</td><td>i64</td><td>f64</td><td>str</td><td>str</td><td>f64</td><td>i64</td><td>str</td><td>f64</td></tr></thead><tbody><tr><td>&quot;2019-10-01 00:…</td><td>&quot;view&quot;</td><td>44600062</td><td>2.1038e18</td><td>null</td><td>&quot;shiseido&quot;</td><td>35.79</td><td>541312140</td><td>&quot;72d76fde-8bb3-…</td><td>184.456724</td></tr><tr><td>&quot;2019-10-01 00:…</td><td>&quot;view&quot;</td><td>3900821</td><td>2.0530e18</td><td>&quot;appliances.env…</td><td>&quot;aqua&quot;</td><td>33.2</td><td>554748717</td><td>&quot;9333dfbd-b87a-…</td><td>110.654408</td></tr><tr><td>&quot;2019-10-01 00:…</td><td>&quot;view&quot;</td><td>17200506</td><td>2.0530e18</td><td>&quot;furniture.livi…</td><td>null</td><td>543.1</td><td>519107250</td><td>&quot;566511c2-e2e3-…</td><td>626.305071</td></tr><tr><td>&quot;2019-10-01 00:…</td><td>&quot;view&quot;</td><td>1307067</td><td>2.0530e18</td><td>&quot;computers.note…</td><td>&quot;lenovo&quot;</td><td>251.74</td><td>550050854</td><td>&quot;7c90fc70-0e80-…</td><td>704.101398</td></tr><tr><td>&quot;2019-10-01 00:…</td><td>&quot;view&quot;</td><td>1004237</td><td>2.0530e18</td><td>&quot;electronics.sm…</td><td>&quot;apple&quot;</td><td>1081.98</td><td>535871217</td><td>&quot;c6bd7419-2748-…</td><td>497.39842</td></tr></tbody></table></div>"
      ],
      "text/plain": [
       "shape: (5, 10)\n",
       "┌─────────────────┬────────────┬────────────┬─────────────┬───┬─────────┬───────────┬─────────────────┬────────────────┐\n",
       "│ event_time      ┆ event_type ┆ product_id ┆ category_id ┆ … ┆ price   ┆ user_id   ┆ user_session    ┆ price_by_categ │\n",
       "│ ---             ┆ ---        ┆ ---        ┆ ---         ┆   ┆ ---     ┆ ---       ┆ ---             ┆ orycode        │\n",
       "│ str             ┆ str        ┆ i64        ┆ f64         ┆   ┆ f64     ┆ i64       ┆ str             ┆ ---            │\n",
       "│                 ┆            ┆            ┆             ┆   ┆         ┆           ┆                 ┆ f64            │\n",
       "╞═════════════════╪════════════╪════════════╪═════════════╪═══╪═════════╪═══════════╪═════════════════╪════════════════╡\n",
       "│ 2019-10-01      ┆ view       ┆ 44600062   ┆ 2.1038e18   ┆ … ┆ 35.79   ┆ 541312140 ┆ 72d76fde-8bb3-4 ┆ 184.456724     │\n",
       "│ 00:00:00 UTC    ┆            ┆            ┆             ┆   ┆         ┆           ┆ e00-8c23-a032df ┆                │\n",
       "│                 ┆            ┆            ┆             ┆   ┆         ┆           ┆ ed…             ┆                │\n",
       "│ 2019-10-01      ┆ view       ┆ 3900821    ┆ 2.0530e18   ┆ … ┆ 33.2    ┆ 554748717 ┆ 9333dfbd-b87a-4 ┆ 110.654408     │\n",
       "│ 00:00:00 UTC    ┆            ┆            ┆             ┆   ┆         ┆           ┆ 708-9857-633655 ┆                │\n",
       "│                 ┆            ┆            ┆             ┆   ┆         ┆           ┆ 6b…             ┆                │\n",
       "│ 2019-10-01      ┆ view       ┆ 17200506   ┆ 2.0530e18   ┆ … ┆ 543.1   ┆ 519107250 ┆ 566511c2-e2e3-4 ┆ 626.305071     │\n",
       "│ 00:00:01 UTC    ┆            ┆            ┆             ┆   ┆         ┆           ┆ 22b-b695-cf8e6e ┆                │\n",
       "│                 ┆            ┆            ┆             ┆   ┆         ┆           ┆ 79…             ┆                │\n",
       "│ 2019-10-01      ┆ view       ┆ 1307067    ┆ 2.0530e18   ┆ … ┆ 251.74  ┆ 550050854 ┆ 7c90fc70-0e80-4 ┆ 704.101398     │\n",
       "│ 00:00:01 UTC    ┆            ┆            ┆             ┆   ┆         ┆           ┆ 590-96f3-13c02c ┆                │\n",
       "│                 ┆            ┆            ┆             ┆   ┆         ┆           ┆ 18…             ┆                │\n",
       "│ 2019-10-01      ┆ view       ┆ 1004237    ┆ 2.0530e18   ┆ … ┆ 1081.98 ┆ 535871217 ┆ c6bd7419-2748-4 ┆ 497.39842      │\n",
       "│ 00:00:04 UTC    ┆            ┆            ┆             ┆   ┆         ┆           ┆ c56-95b4-8cec9f ┆                │\n",
       "│                 ┆            ┆            ┆             ┆   ┆         ┆           ┆ f8…             ┆                │\n",
       "└─────────────────┴────────────┴────────────┴─────────────┴───┴─────────┴───────────┴─────────────────┴────────────────┘"
      ]
     },
     "execution_count": 11,
     "metadata": {},
     "output_type": "execute_result"
    }
   ],
   "source": [
    "df.with_columns([\n",
    "    pl.col('price').mean().over('category_code').alias('price_by_categorycode')\n",
    "]).head()"
   ]
  },
  {
   "cell_type": "code",
   "execution_count": 12,
   "id": "e66d88b6",
   "metadata": {},
   "outputs": [
    {
     "data": {
      "text/html": [
       "<div><style>\n",
       ".dataframe > thead > tr > th,\n",
       ".dataframe > tbody > tr > td {\n",
       "  text-align: right;\n",
       "}\n",
       "</style>\n",
       "<small>shape: (10, 4)</small><table border=\"1\" class=\"dataframe\"><thead><tr><th>category_code</th><th>price</th><th>price_by_categorycode</th><th>price_div_cat_average</th></tr><tr><td>str</td><td>f64</td><td>f64</td><td>f64</td></tr></thead><tbody><tr><td>null</td><td>35.79</td><td>184.456724</td><td>0.194029</td></tr><tr><td>&quot;appliances.env…</td><td>33.2</td><td>110.654408</td><td>0.300033</td></tr><tr><td>&quot;furniture.livi…</td><td>543.1</td><td>626.305071</td><td>0.867149</td></tr><tr><td>&quot;computers.note…</td><td>251.74</td><td>704.101398</td><td>0.357534</td></tr><tr><td>&quot;electronics.sm…</td><td>1081.98</td><td>497.39842</td><td>2.175278</td></tr><tr><td>&quot;computers.desk…</td><td>908.62</td><td>629.130478</td><td>1.444247</td></tr><tr><td>null</td><td>380.96</td><td>184.456724</td><td>2.065308</td></tr><tr><td>null</td><td>41.16</td><td>184.456724</td><td>0.223142</td></tr><tr><td>&quot;apparel.shoes.…</td><td>102.71</td><td>86.075662</td><td>1.193253</td></tr><tr><td>&quot;electronics.sm…</td><td>566.01</td><td>497.39842</td><td>1.137941</td></tr></tbody></table></div>"
      ],
      "text/plain": [
       "shape: (10, 4)\n",
       "┌───────────────────────────────────┬────────┬───────────────────────┬───────────────────────┐\n",
       "│ category_code                     ┆ price  ┆ price_by_categorycode ┆ price_div_cat_average │\n",
       "│ ---                               ┆ ---    ┆ ---                   ┆ ---                   │\n",
       "│ str                               ┆ f64    ┆ f64                   ┆ f64                   │\n",
       "╞═══════════════════════════════════╪════════╪═══════════════════════╪═══════════════════════╡\n",
       "│ null                              ┆ 35.79  ┆ 184.456724            ┆ 0.194029              │\n",
       "│ appliances.environment.water_hea… ┆ 33.2   ┆ 110.654408            ┆ 0.300033              │\n",
       "│ furniture.living_room.sofa        ┆ 543.1  ┆ 626.305071            ┆ 0.867149              │\n",
       "│ computers.notebook                ┆ 251.74 ┆ 704.101398            ┆ 0.357534              │\n",
       "│ …                                 ┆ …      ┆ …                     ┆ …                     │\n",
       "│ null                              ┆ 380.96 ┆ 184.456724            ┆ 2.065308              │\n",
       "│ null                              ┆ 41.16  ┆ 184.456724            ┆ 0.223142              │\n",
       "│ apparel.shoes.keds                ┆ 102.71 ┆ 86.075662             ┆ 1.193253              │\n",
       "│ electronics.smartphone            ┆ 566.01 ┆ 497.39842             ┆ 1.137941              │\n",
       "└───────────────────────────────────┴────────┴───────────────────────┴───────────────────────┘"
      ]
     },
     "execution_count": 12,
     "metadata": {},
     "output_type": "execute_result"
    }
   ],
   "source": [
    "# now I can compute the difference between the price and the category average.\n",
    "df_cat_window  = df.select([\n",
    "    pl.col(\"category_code\"),\n",
    "    pl.col('price'),\n",
    "    pl.col('price').mean().over('category_code').alias('price_by_categorycode'),\n",
    "    (pl.col('price')/pl.col(\"price\").mean().over(\"category_code\")).alias(\"price_div_cat_average\")\n",
    "])\n",
    "df_cat_window .head(10)"
   ]
  },
  {
   "cell_type": "code",
   "execution_count": 13,
   "id": "28d11897",
   "metadata": {},
   "outputs": [],
   "source": [
    "df_cat_window_sample = df_cat_window.sample(10000).to_pandas()"
   ]
  },
  {
   "cell_type": "code",
   "execution_count": 14,
   "id": "87b5c358",
   "metadata": {},
   "outputs": [
    {
     "data": {
      "text/plain": [
       "<AxesSubplot:>"
      ]
     },
     "execution_count": 14,
     "metadata": {},
     "output_type": "execute_result"
    },
    {
     "data": {
      "image/png": "[encoded data removed]",
      "text/plain": [
       "<Figure size 640x480 with 1 Axes>"
      ]
     },
     "metadata": {},
     "output_type": "display_data"
    }
   ],
   "source": [
    "df_cat_window_sample.price_div_cat_average.hist(bins=30, range=[0, 5])"
   ]
  },
  {
   "cell_type": "code",
   "execution_count": 15,
   "id": "dd853230",
   "metadata": {},
   "outputs": [
    {
     "data": {
      "text/plain": [
       "category_code             object\n",
       "price                    float64\n",
       "price_by_categorycode    float64\n",
       "price_div_cat_average    float64\n",
       "dtype: object"
      ]
     },
     "execution_count": 15,
     "metadata": {},
     "output_type": "execute_result"
    }
   ],
   "source": [
    "df_cat_window_sample.dtypes"
   ]
  },
  {
   "cell_type": "code",
   "execution_count": 16,
   "id": "1f580be0",
   "metadata": {},
   "outputs": [
    {
     "data": {
      "text/html": [
       "<div>\n",
       "<style scoped>\n",
       "    .dataframe tbody tr th:only-of-type {\n",
       "        vertical-align: middle;\n",
       "    }\n",
       "\n",
       "    .dataframe tbody tr th {\n",
       "        vertical-align: top;\n",
       "    }\n",
       "\n",
       "    .dataframe thead th {\n",
       "        text-align: right;\n",
       "    }\n",
       "</style>\n",
       "<table border=\"1\" class=\"dataframe\">\n",
       "  <thead>\n",
       "    <tr style=\"text-align: right;\">\n",
       "      <th></th>\n",
       "      <th>category_code</th>\n",
       "      <th>price</th>\n",
       "      <th>price_by_categorycode</th>\n",
       "      <th>price_div_cat_average</th>\n",
       "    </tr>\n",
       "  </thead>\n",
       "  <tbody>\n",
       "    <tr>\n",
       "      <th>0</th>\n",
       "      <td>computers.notebook</td>\n",
       "      <td>486.47</td>\n",
       "      <td>704.101398</td>\n",
       "      <td>0.690909</td>\n",
       "    </tr>\n",
       "    <tr>\n",
       "      <th>1</th>\n",
       "      <td>None</td>\n",
       "      <td>90.02</td>\n",
       "      <td>184.456724</td>\n",
       "      <td>0.488028</td>\n",
       "    </tr>\n",
       "    <tr>\n",
       "      <th>2</th>\n",
       "      <td>None</td>\n",
       "      <td>271.82</td>\n",
       "      <td>184.456724</td>\n",
       "      <td>1.473625</td>\n",
       "    </tr>\n",
       "    <tr>\n",
       "      <th>3</th>\n",
       "      <td>electronics.smartphone</td>\n",
       "      <td>308.63</td>\n",
       "      <td>497.398420</td>\n",
       "      <td>0.620489</td>\n",
       "    </tr>\n",
       "    <tr>\n",
       "      <th>4</th>\n",
       "      <td>None</td>\n",
       "      <td>34.88</td>\n",
       "      <td>184.456724</td>\n",
       "      <td>0.189096</td>\n",
       "    </tr>\n",
       "  </tbody>\n",
       "</table>\n",
       "</div>"
      ],
      "text/plain": [
       "            category_code   price  price_by_categorycode  \\\n",
       "0      computers.notebook  486.47             704.101398   \n",
       "1                    None   90.02             184.456724   \n",
       "2                    None  271.82             184.456724   \n",
       "3  electronics.smartphone  308.63             497.398420   \n",
       "4                    None   34.88             184.456724   \n",
       "\n",
       "   price_div_cat_average  \n",
       "0               0.690909  \n",
       "1               0.488028  \n",
       "2               1.473625  \n",
       "3               0.620489  \n",
       "4               0.189096  "
      ]
     },
     "execution_count": 16,
     "metadata": {},
     "output_type": "execute_result"
    }
   ],
   "source": [
    "df_cat_window_sample.head()"
   ]
  },
  {
   "cell_type": "code",
   "execution_count": 17,
   "id": "10eb2e45",
   "metadata": {},
   "outputs": [
    {
     "data": {
      "text/plain": [
       "0.0     0.000000\n",
       "0.1     0.181289\n",
       "0.2     0.269020\n",
       "0.3     0.374112\n",
       "0.4     0.510840\n",
       "0.5     0.648824\n",
       "0.6     0.859581\n",
       "0.7     1.129283\n",
       "0.8     1.484504\n",
       "0.9     2.098616\n",
       "1.0    38.519336\n",
       "Name: price_div_cat_average, dtype: float64"
      ]
     },
     "execution_count": 17,
     "metadata": {},
     "output_type": "execute_result"
    }
   ],
   "source": [
    "df_cat_window_sample.price_div_cat_average.quantile(np.arange(0, 1.1, 0.1))"
   ]
  },
  {
   "cell_type": "code",
   "execution_count": 18,
   "id": "9b3c69ac",
   "metadata": {},
   "outputs": [
    {
     "data": {
      "text/html": [
       "<div>\n",
       "<style scoped>\n",
       "    .dataframe tbody tr th:only-of-type {\n",
       "        vertical-align: middle;\n",
       "    }\n",
       "\n",
       "    .dataframe tbody tr th {\n",
       "        vertical-align: top;\n",
       "    }\n",
       "\n",
       "    .dataframe thead th {\n",
       "        text-align: right;\n",
       "    }\n",
       "</style>\n",
       "<table border=\"1\" class=\"dataframe\">\n",
       "  <thead>\n",
       "    <tr style=\"text-align: right;\">\n",
       "      <th></th>\n",
       "      <th>category_code</th>\n",
       "      <th>price</th>\n",
       "      <th>price_by_categorycode</th>\n",
       "      <th>price_div_cat_average</th>\n",
       "    </tr>\n",
       "  </thead>\n",
       "  <tbody>\n",
       "    <tr>\n",
       "      <th>6856</th>\n",
       "      <td>appliances.environment.air_heater</td>\n",
       "      <td>1740.91</td>\n",
       "      <td>45.195743</td>\n",
       "      <td>38.519336</td>\n",
       "    </tr>\n",
       "    <tr>\n",
       "      <th>3515</th>\n",
       "      <td>appliances.iron</td>\n",
       "      <td>1750.34</td>\n",
       "      <td>94.144214</td>\n",
       "      <td>18.592114</td>\n",
       "    </tr>\n",
       "    <tr>\n",
       "      <th>9692</th>\n",
       "      <td>appliances.kitchen.microwave</td>\n",
       "      <td>1555.32</td>\n",
       "      <td>112.053070</td>\n",
       "      <td>13.880209</td>\n",
       "    </tr>\n",
       "    <tr>\n",
       "      <th>7091</th>\n",
       "      <td>None</td>\n",
       "      <td>2557.82</td>\n",
       "      <td>184.456724</td>\n",
       "      <td>13.866776</td>\n",
       "    </tr>\n",
       "    <tr>\n",
       "      <th>2391</th>\n",
       "      <td>None</td>\n",
       "      <td>2557.59</td>\n",
       "      <td>184.456724</td>\n",
       "      <td>13.865529</td>\n",
       "    </tr>\n",
       "    <tr>\n",
       "      <th>9715</th>\n",
       "      <td>None</td>\n",
       "      <td>2123.28</td>\n",
       "      <td>184.456724</td>\n",
       "      <td>11.510993</td>\n",
       "    </tr>\n",
       "    <tr>\n",
       "      <th>4681</th>\n",
       "      <td>None</td>\n",
       "      <td>2084.74</td>\n",
       "      <td>184.456724</td>\n",
       "      <td>11.302055</td>\n",
       "    </tr>\n",
       "    <tr>\n",
       "      <th>3956</th>\n",
       "      <td>appliances.kitchen.toster</td>\n",
       "      <td>549.28</td>\n",
       "      <td>49.075216</td>\n",
       "      <td>11.192615</td>\n",
       "    </tr>\n",
       "    <tr>\n",
       "      <th>3427</th>\n",
       "      <td>appliances.environment.air_heater</td>\n",
       "      <td>501.94</td>\n",
       "      <td>45.195743</td>\n",
       "      <td>11.105913</td>\n",
       "    </tr>\n",
       "    <tr>\n",
       "      <th>698</th>\n",
       "      <td>None</td>\n",
       "      <td>2033.50</td>\n",
       "      <td>184.456724</td>\n",
       "      <td>11.024266</td>\n",
       "    </tr>\n",
       "    <tr>\n",
       "      <th>5338</th>\n",
       "      <td>None</td>\n",
       "      <td>2033.50</td>\n",
       "      <td>184.456724</td>\n",
       "      <td>11.024266</td>\n",
       "    </tr>\n",
       "    <tr>\n",
       "      <th>7432</th>\n",
       "      <td>None</td>\n",
       "      <td>2033.50</td>\n",
       "      <td>184.456724</td>\n",
       "      <td>11.024266</td>\n",
       "    </tr>\n",
       "    <tr>\n",
       "      <th>2000</th>\n",
       "      <td>country_yard.lawn_mower</td>\n",
       "      <td>2426.32</td>\n",
       "      <td>223.800000</td>\n",
       "      <td>10.841466</td>\n",
       "    </tr>\n",
       "    <tr>\n",
       "      <th>6643</th>\n",
       "      <td>None</td>\n",
       "      <td>1891.94</td>\n",
       "      <td>184.456724</td>\n",
       "      <td>10.256823</td>\n",
       "    </tr>\n",
       "    <tr>\n",
       "      <th>332</th>\n",
       "      <td>appliances.sewing_machine</td>\n",
       "      <td>2571.49</td>\n",
       "      <td>255.529251</td>\n",
       "      <td>10.063388</td>\n",
       "    </tr>\n",
       "    <tr>\n",
       "      <th>8393</th>\n",
       "      <td>None</td>\n",
       "      <td>1853.84</td>\n",
       "      <td>184.456724</td>\n",
       "      <td>10.050271</td>\n",
       "    </tr>\n",
       "  </tbody>\n",
       "</table>\n",
       "</div>"
      ],
      "text/plain": [
       "                          category_code    price  price_by_categorycode  \\\n",
       "6856  appliances.environment.air_heater  1740.91              45.195743   \n",
       "3515                    appliances.iron  1750.34              94.144214   \n",
       "9692       appliances.kitchen.microwave  1555.32             112.053070   \n",
       "7091                               None  2557.82             184.456724   \n",
       "2391                               None  2557.59             184.456724   \n",
       "9715                               None  2123.28             184.456724   \n",
       "4681                               None  2084.74             184.456724   \n",
       "3956          appliances.kitchen.toster   549.28              49.075216   \n",
       "3427  appliances.environment.air_heater   501.94              45.195743   \n",
       "698                                None  2033.50             184.456724   \n",
       "5338                               None  2033.50             184.456724   \n",
       "7432                               None  2033.50             184.456724   \n",
       "2000            country_yard.lawn_mower  2426.32             223.800000   \n",
       "6643                               None  1891.94             184.456724   \n",
       "332           appliances.sewing_machine  2571.49             255.529251   \n",
       "8393                               None  1853.84             184.456724   \n",
       "\n",
       "      price_div_cat_average  \n",
       "6856              38.519336  \n",
       "3515              18.592114  \n",
       "9692              13.880209  \n",
       "7091              13.866776  \n",
       "2391              13.865529  \n",
       "9715              11.510993  \n",
       "4681              11.302055  \n",
       "3956              11.192615  \n",
       "3427              11.105913  \n",
       "698               11.024266  \n",
       "5338              11.024266  \n",
       "7432              11.024266  \n",
       "2000              10.841466  \n",
       "6643              10.256823  \n",
       "332               10.063388  \n",
       "8393              10.050271  "
      ]
     },
     "execution_count": 18,
     "metadata": {},
     "output_type": "execute_result"
    }
   ],
   "source": [
    "df_cat_window_sample[df_cat_window_sample.price_div_cat_average > 10].sort_values(\"price_div_cat_average\", ascending=False)"
   ]
  }
 ],
 "metadata": {
  "kernelspec": {
   "display_name": "Python 3 (ipykernel)",
   "language": "python",
   "name": "python3"
  },
  "language_info": {
   "codemirror_mode": {
    "name": "ipython",
    "version": 3
   },
   "file_extension": ".py",
   "mimetype": "text/x-python",
   "name": "python",
   "nbconvert_exporter": "python",
   "pygments_lexer": "ipython3",
   "version": "3.9.13"
  }
 },
 "nbformat": 4,
 "nbformat_minor": 5
}
