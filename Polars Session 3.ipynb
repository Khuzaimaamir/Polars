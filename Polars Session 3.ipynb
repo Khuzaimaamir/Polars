{
 "cells": [
  {
   "cell_type": "code",
   "execution_count": 2,
   "id": "d12a817f",
   "metadata": {},
   "outputs": [],
   "source": [
    "import polars as pl\n",
    "import pandas as pd\n",
    "import numpy as np\n",
    "import pyarrow\n",
    "\n",
    "import matplotlib.pyplot as plt\n",
    "import seaborn as sns\n",
    "# https://github.com/martinbel/polars-tutorial/blob/master/03-Polars.ipynb"
   ]
  },
  {
   "cell_type": "code",
   "execution_count": 5,
   "id": "7bdb7adc",
   "metadata": {},
   "outputs": [
    {
     "data": {
      "text/html": [
       "<div><style>\n",
       ".dataframe > thead > tr > th,\n",
       ".dataframe > tbody > tr > td {\n",
       "  text-align: right;\n",
       "}\n",
       "</style>\n",
       "<small>shape: (5, 9)</small><table border=\"1\" class=\"dataframe\"><thead><tr><th>event_time</th><th>event_type</th><th>product_id</th><th>category_id</th><th>category_code</th><th>brand</th><th>price</th><th>user_id</th><th>user_session</th></tr><tr><td>str</td><td>str</td><td>i64</td><td>f64</td><td>str</td><td>str</td><td>f64</td><td>i64</td><td>str</td></tr></thead><tbody><tr><td>&quot;2019-10-01 00:…</td><td>&quot;view&quot;</td><td>44600062</td><td>2.1038e18</td><td>null</td><td>&quot;shiseido&quot;</td><td>35.79</td><td>541312140</td><td>&quot;72d76fde-8bb3-…</td></tr><tr><td>&quot;2019-10-01 00:…</td><td>&quot;view&quot;</td><td>3900821</td><td>2.0530e18</td><td>&quot;appliances.env…</td><td>&quot;aqua&quot;</td><td>33.2</td><td>554748717</td><td>&quot;9333dfbd-b87a-…</td></tr><tr><td>&quot;2019-10-01 00:…</td><td>&quot;view&quot;</td><td>17200506</td><td>2.0530e18</td><td>&quot;furniture.livi…</td><td>null</td><td>543.1</td><td>519107250</td><td>&quot;566511c2-e2e3-…</td></tr><tr><td>&quot;2019-10-01 00:…</td><td>&quot;view&quot;</td><td>1307067</td><td>2.0530e18</td><td>&quot;computers.note…</td><td>&quot;lenovo&quot;</td><td>251.74</td><td>550050854</td><td>&quot;7c90fc70-0e80-…</td></tr><tr><td>&quot;2019-10-01 00:…</td><td>&quot;view&quot;</td><td>1004237</td><td>2.0530e18</td><td>&quot;electronics.sm…</td><td>&quot;apple&quot;</td><td>1081.98</td><td>535871217</td><td>&quot;c6bd7419-2748-…</td></tr></tbody></table></div>"
      ],
      "text/plain": [
       "shape: (5, 9)\n",
       "┌──────────────┬────────────┬────────────┬─────────────┬───┬──────────┬─────────┬───────────┬──────────────────────────┐\n",
       "│ event_time   ┆ event_type ┆ product_id ┆ category_id ┆ … ┆ brand    ┆ price   ┆ user_id   ┆ user_session             │\n",
       "│ ---          ┆ ---        ┆ ---        ┆ ---         ┆   ┆ ---      ┆ ---     ┆ ---       ┆ ---                      │\n",
       "│ str          ┆ str        ┆ i64        ┆ f64         ┆   ┆ str      ┆ f64     ┆ i64       ┆ str                      │\n",
       "╞══════════════╪════════════╪════════════╪═════════════╪═══╪══════════╪═════════╪═══════════╪══════════════════════════╡\n",
       "│ 2019-10-01   ┆ view       ┆ 44600062   ┆ 2.1038e18   ┆ … ┆ shiseido ┆ 35.79   ┆ 541312140 ┆ 72d76fde-8bb3-4e00-8c23- │\n",
       "│ 00:00:00 UTC ┆            ┆            ┆             ┆   ┆          ┆         ┆           ┆ a032dfed…                │\n",
       "│ 2019-10-01   ┆ view       ┆ 3900821    ┆ 2.0530e18   ┆ … ┆ aqua     ┆ 33.2    ┆ 554748717 ┆ 9333dfbd-b87a-4708-9857- │\n",
       "│ 00:00:00 UTC ┆            ┆            ┆             ┆   ┆          ┆         ┆           ┆ 6336556b…                │\n",
       "│ 2019-10-01   ┆ view       ┆ 17200506   ┆ 2.0530e18   ┆ … ┆ null     ┆ 543.1   ┆ 519107250 ┆ 566511c2-e2e3-422b-b695- │\n",
       "│ 00:00:01 UTC ┆            ┆            ┆             ┆   ┆          ┆         ┆           ┆ cf8e6e79…                │\n",
       "│ 2019-10-01   ┆ view       ┆ 1307067    ┆ 2.0530e18   ┆ … ┆ lenovo   ┆ 251.74  ┆ 550050854 ┆ 7c90fc70-0e80-4590-96f3- │\n",
       "│ 00:00:01 UTC ┆            ┆            ┆             ┆   ┆          ┆         ┆           ┆ 13c02c18…                │\n",
       "│ 2019-10-01   ┆ view       ┆ 1004237    ┆ 2.0530e18   ┆ … ┆ apple    ┆ 1081.98 ┆ 535871217 ┆ c6bd7419-2748-4c56-95b4- │\n",
       "│ 00:00:04 UTC ┆            ┆            ┆             ┆   ┆          ┆         ┆           ┆ 8cec9ff8…                │\n",
       "└──────────────┴────────────┴────────────┴─────────────┴───┴──────────┴─────────┴───────────┴──────────────────────────┘"
      ]
     },
     "execution_count": 5,
     "metadata": {},
     "output_type": "execute_result"
    }
   ],
   "source": [
    "df = pl.read_csv(\"2019-Oct-reduced.csv\")\n",
    "df.head()"
   ]
  },
  {
   "cell_type": "markdown",
   "id": "6a05d1c1",
   "metadata": {},
   "source": [
    "# 1. Groupby - pl.count (one group)"
   ]
  },
  {
   "cell_type": "code",
   "execution_count": 12,
   "id": "3aba93c6",
   "metadata": {},
   "outputs": [
    {
     "data": {
      "text/html": [
       "<div><style>\n",
       ".dataframe > thead > tr > th,\n",
       ".dataframe > tbody > tr > td {\n",
       "  text-align: right;\n",
       "}\n",
       "</style>\n",
       "<small>shape: (10, 2)</small><table border=\"1\" class=\"dataframe\"><thead><tr><th>brand</th><th>count</th></tr><tr><td>str</td><td>u32</td></tr></thead><tbody><tr><td>&quot;giti&quot;</td><td>2</td></tr><tr><td>&quot;candide&quot;</td><td>10</td></tr><tr><td>&quot;vissol&quot;</td><td>3</td></tr><tr><td>&quot;jura&quot;</td><td>24</td></tr><tr><td>&quot;bessey&quot;</td><td>1</td></tr><tr><td>&quot;converse&quot;</td><td>30</td></tr><tr><td>&quot;ariston&quot;</td><td>2003</td></tr><tr><td>&quot;aiken&quot;</td><td>8</td></tr><tr><td>&quot;hori&quot;</td><td>3</td></tr><tr><td>&quot;yunteng&quot;</td><td>7</td></tr></tbody></table></div>"
      ],
      "text/plain": [
       "shape: (10, 2)\n",
       "┌─────────┬───────┐\n",
       "│ brand   ┆ count │\n",
       "│ ---     ┆ ---   │\n",
       "│ str     ┆ u32   │\n",
       "╞═════════╪═══════╡\n",
       "│ giti    ┆ 2     │\n",
       "│ candide ┆ 10    │\n",
       "│ vissol  ┆ 3     │\n",
       "│ jura    ┆ 24    │\n",
       "│ …       ┆ …     │\n",
       "│ ariston ┆ 2003  │\n",
       "│ aiken   ┆ 8     │\n",
       "│ hori    ┆ 3     │\n",
       "│ yunteng ┆ 7     │\n",
       "└─────────┴───────┘"
      ]
     },
     "execution_count": 12,
     "metadata": {},
     "output_type": "execute_result"
    }
   ],
   "source": [
    "# agg nikalne ke liye count kiya hai\n",
    "df.groupby('brand').agg([\n",
    "    pl.count()\n",
    "]).head(10)"
   ]
  },
  {
   "cell_type": "code",
   "execution_count": 20,
   "id": "dc321de1",
   "metadata": {},
   "outputs": [
    {
     "data": {
      "text/html": [
       "<div><style>\n",
       ".dataframe > thead > tr > th,\n",
       ".dataframe > tbody > tr > td {\n",
       "  text-align: right;\n",
       "}\n",
       "</style>\n",
       "<small>shape: (2_246, 2)</small><table border=\"1\" class=\"dataframe\"><thead><tr><th>brand</th><th>count</th></tr><tr><td>str</td><td>u32</td></tr></thead><tbody><tr><td>null</td><td>155594</td></tr><tr><td>&quot;samsung&quot;</td><td>126027</td></tr><tr><td>&quot;apple&quot;</td><td>107634</td></tr><tr><td>&quot;xiaomi&quot;</td><td>72507</td></tr><tr><td>&quot;huawei&quot;</td><td>29360</td></tr><tr><td>&quot;lucente&quot;</td><td>17799</td></tr><tr><td>&quot;bosch&quot;</td><td>12959</td></tr><tr><td>&quot;lg&quot;</td><td>11495</td></tr><tr><td>&quot;acer&quot;</td><td>10214</td></tr><tr><td>&quot;sony&quot;</td><td>10015</td></tr><tr><td>&quot;lenovo&quot;</td><td>9582</td></tr><tr><td>&quot;oppo&quot;</td><td>8899</td></tr><tr><td>&hellip;</td><td>&hellip;</td></tr><tr><td>&quot;bombcat&quot;</td><td>1</td></tr><tr><td>&quot;mastercraft&quot;</td><td>1</td></tr><tr><td>&quot;provence&quot;</td><td>1</td></tr><tr><td>&quot;lovular&quot;</td><td>1</td></tr><tr><td>&quot;pinarello&quot;</td><td>1</td></tr><tr><td>&quot;coghlans&quot;</td><td>1</td></tr><tr><td>&quot;krosno&quot;</td><td>1</td></tr><tr><td>&quot;kingslong&quot;</td><td>1</td></tr><tr><td>&quot;worwo&quot;</td><td>1</td></tr><tr><td>&quot;jinma&quot;</td><td>1</td></tr><tr><td>&quot;mammie&quot;</td><td>1</td></tr><tr><td>&quot;libbey&quot;</td><td>1</td></tr></tbody></table></div>"
      ],
      "text/plain": [
       "shape: (2_246, 2)\n",
       "┌─────────┬────────┐\n",
       "│ brand   ┆ count  │\n",
       "│ ---     ┆ ---    │\n",
       "│ str     ┆ u32    │\n",
       "╞═════════╪════════╡\n",
       "│ null    ┆ 155594 │\n",
       "│ samsung ┆ 126027 │\n",
       "│ apple   ┆ 107634 │\n",
       "│ xiaomi  ┆ 72507  │\n",
       "│ …       ┆ …      │\n",
       "│ worwo   ┆ 1      │\n",
       "│ jinma   ┆ 1      │\n",
       "│ mammie  ┆ 1      │\n",
       "│ libbey  ┆ 1      │\n",
       "└─────────┴────────┘"
      ]
     },
     "execution_count": 20,
     "metadata": {},
     "output_type": "execute_result"
    }
   ],
   "source": [
    "df.groupby('brand').agg([\n",
    "    pl.count()\n",
    "]).sort(by='count',descending = True)"
   ]
  },
  {
   "cell_type": "code",
   "execution_count": 25,
   "id": "258369b6",
   "metadata": {},
   "outputs": [
    {
     "name": "stdout",
     "output_type": "stream",
     "text": [
      "(2246, 2)\n"
     ]
    },
    {
     "data": {
      "text/html": [
       "<div>\n",
       "<style scoped>\n",
       "    .dataframe tbody tr th:only-of-type {\n",
       "        vertical-align: middle;\n",
       "    }\n",
       "\n",
       "    .dataframe tbody tr th {\n",
       "        vertical-align: top;\n",
       "    }\n",
       "\n",
       "    .dataframe thead th {\n",
       "        text-align: right;\n",
       "    }\n",
       "</style>\n",
       "<table border=\"1\" class=\"dataframe\">\n",
       "  <thead>\n",
       "    <tr style=\"text-align: right;\">\n",
       "      <th></th>\n",
       "      <th>brand</th>\n",
       "      <th>count</th>\n",
       "    </tr>\n",
       "  </thead>\n",
       "  <tbody>\n",
       "    <tr>\n",
       "      <th>1674</th>\n",
       "      <td>None</td>\n",
       "      <td>155594</td>\n",
       "    </tr>\n",
       "    <tr>\n",
       "      <th>1919</th>\n",
       "      <td>samsung</td>\n",
       "      <td>126027</td>\n",
       "    </tr>\n",
       "    <tr>\n",
       "      <th>1795</th>\n",
       "      <td>apple</td>\n",
       "      <td>107634</td>\n",
       "    </tr>\n",
       "    <tr>\n",
       "      <th>343</th>\n",
       "      <td>xiaomi</td>\n",
       "      <td>72507</td>\n",
       "    </tr>\n",
       "    <tr>\n",
       "      <th>1305</th>\n",
       "      <td>huawei</td>\n",
       "      <td>29360</td>\n",
       "    </tr>\n",
       "  </tbody>\n",
       "</table>\n",
       "</div>"
      ],
      "text/plain": [
       "        brand   count\n",
       "1674     None  155594\n",
       "1919  samsung  126027\n",
       "1795    apple  107634\n",
       "343    xiaomi   72507\n",
       "1305   huawei   29360"
      ]
     },
     "execution_count": 25,
     "metadata": {},
     "output_type": "execute_result"
    }
   ],
   "source": [
    "# aggregate in polars and convert to pandas for sorting the aggregation\n",
    "df_count = df.groupby(\"brand\").agg([\n",
    "    pl.count()\n",
    "]).to_pandas().sort_values(\"count\", ascending=False)\n",
    "\n",
    "print(df_count.shape)\n",
    "\n",
    "df_count.head()"
   ]
  },
  {
   "cell_type": "code",
   "execution_count": 35,
   "id": "385de1a8",
   "metadata": {},
   "outputs": [
    {
     "data": {
      "text/html": [
       "<div><style>\n",
       ".dataframe > thead > tr > th,\n",
       ".dataframe > tbody > tr > td {\n",
       "  text-align: right;\n",
       "}\n",
       "</style>\n",
       "<small>shape: (8, 3)</small><table border=\"1\" class=\"dataframe\"><thead><tr><th>price</th><th>count</th><th>mean</th></tr><tr><td>f64</td><td>u32</td><td>f64</td></tr></thead><tbody><tr><td>975.56</td><td>7997</td><td>17547.0</td></tr><tr><td>975.57</td><td>7324</td><td>17547.0</td></tr><tr><td>130.7</td><td>6833</td><td>17547.0</td></tr><tr><td>1415.48</td><td>6384</td><td>17547.0</td></tr><tr><td>257.15</td><td>6240</td><td>17547.0</td></tr><tr><td>161.93</td><td>4830</td><td>17547.0</td></tr><tr><td>231.64</td><td>4627</td><td>17547.0</td></tr><tr><td>203.35</td><td>4409</td><td>17547.0</td></tr></tbody></table></div>"
      ],
      "text/plain": [
       "shape: (8, 3)\n",
       "┌─────────┬───────┬─────────┐\n",
       "│ price   ┆ count ┆ mean    │\n",
       "│ ---     ┆ ---   ┆ ---     │\n",
       "│ f64     ┆ u32   ┆ f64     │\n",
       "╞═════════╪═══════╪═════════╡\n",
       "│ 975.56  ┆ 7997  ┆ 17547.0 │\n",
       "│ 975.57  ┆ 7324  ┆ 17547.0 │\n",
       "│ 130.7   ┆ 6833  ┆ 17547.0 │\n",
       "│ 1415.48 ┆ 6384  ┆ 17547.0 │\n",
       "│ 257.15  ┆ 6240  ┆ 17547.0 │\n",
       "│ 161.93  ┆ 4830  ┆ 17547.0 │\n",
       "│ 231.64  ┆ 4627  ┆ 17547.0 │\n",
       "│ 203.35  ┆ 4409  ┆ 17547.0 │\n",
       "└─────────┴───────┴─────────┘"
      ]
     },
     "execution_count": 35,
     "metadata": {},
     "output_type": "execute_result"
    }
   ],
   "source": [
    "# Compute count and percent of instances\n",
    "(\n",
    "   df.groupby('price').agg([\n",
    "      pl.count()\n",
    "])\n",
    "    .sort(\"count\" , descending=True)\n",
    "    .with_columns([\n",
    "        (pl.col('count')/pl.col('count')).sum().alias('mean')\n",
    "    ])\n",
    ").head(8)"
   ]
  },
  {
   "cell_type": "code",
   "execution_count": 36,
   "id": "65b091fa",
   "metadata": {},
   "outputs": [
    {
     "data": {
      "text/html": [
       "<div><style>\n",
       ".dataframe > thead > tr > th,\n",
       ".dataframe > tbody > tr > td {\n",
       "  text-align: right;\n",
       "}\n",
       "</style>\n",
       "<small>shape: (5, 9)</small><table border=\"1\" class=\"dataframe\"><thead><tr><th>event_time</th><th>event_type</th><th>product_id</th><th>category_id</th><th>category_code</th><th>brand</th><th>price</th><th>user_id</th><th>user_session</th></tr><tr><td>str</td><td>str</td><td>i64</td><td>f64</td><td>str</td><td>str</td><td>f64</td><td>i64</td><td>str</td></tr></thead><tbody><tr><td>&quot;2019-10-01 13:…</td><td>&quot;view&quot;</td><td>2800432</td><td>2.0530e18</td><td>&quot;appliances.kit…</td><td>null</td><td>200.26</td><td>516111798</td><td>&quot;bedffb97-9368-…</td></tr><tr><td>&quot;2019-10-01 08:…</td><td>&quot;view&quot;</td><td>1004856</td><td>2.0530e18</td><td>&quot;electronics.sm…</td><td>&quot;samsung&quot;</td><td>130.7</td><td>537315270</td><td>&quot;20de1ee5-4496-…</td></tr><tr><td>&quot;2019-10-01 03:…</td><td>&quot;view&quot;</td><td>1002995</td><td>2.0530e18</td><td>&quot;electronics.sm…</td><td>&quot;apple&quot;</td><td>456.79</td><td>518437642</td><td>&quot;dbacda92-2d53-…</td></tr><tr><td>&quot;2019-10-01 15:…</td><td>&quot;view&quot;</td><td>3800545</td><td>2.0530e18</td><td>&quot;appliances.iro…</td><td>&quot;braun&quot;</td><td>190.46</td><td>515918427</td><td>&quot;69a8b639-1d1f-…</td></tr><tr><td>&quot;2019-10-01 11:…</td><td>&quot;view&quot;</td><td>1005157</td><td>2.0530e18</td><td>&quot;electronics.sm…</td><td>&quot;xiaomi&quot;</td><td>282.89</td><td>512407705</td><td>&quot;37c11309-135b-…</td></tr></tbody></table></div>"
      ],
      "text/plain": [
       "shape: (5, 9)\n",
       "┌─────────────────────┬────────────┬────────────┬─────────────┬───┬─────────┬────────┬───────────┬─────────────────────┐\n",
       "│ event_time          ┆ event_type ┆ product_id ┆ category_id ┆ … ┆ brand   ┆ price  ┆ user_id   ┆ user_session        │\n",
       "│ ---                 ┆ ---        ┆ ---        ┆ ---         ┆   ┆ ---     ┆ ---    ┆ ---       ┆ ---                 │\n",
       "│ str                 ┆ str        ┆ i64        ┆ f64         ┆   ┆ str     ┆ f64    ┆ i64       ┆ str                 │\n",
       "╞═════════════════════╪════════════╪════════════╪═════════════╪═══╪═════════╪════════╪═══════════╪═════════════════════╡\n",
       "│ 2019-10-01 13:54:11 ┆ view       ┆ 2800432    ┆ 2.0530e18   ┆ … ┆ null    ┆ 200.26 ┆ 516111798 ┆ bedffb97-9368-4ebe- │\n",
       "│ UTC                 ┆            ┆            ┆             ┆   ┆         ┆        ┆           ┆ 8dc4-44d8ea76…      │\n",
       "│ 2019-10-01 08:34:21 ┆ view       ┆ 1004856    ┆ 2.0530e18   ┆ … ┆ samsung ┆ 130.7  ┆ 537315270 ┆ 20de1ee5-4496-47ac- │\n",
       "│ UTC                 ┆            ┆            ┆             ┆   ┆         ┆        ┆           ┆ 957d-22208a50…      │\n",
       "│ 2019-10-01 03:38:14 ┆ view       ┆ 1002995    ┆ 2.0530e18   ┆ … ┆ apple   ┆ 456.79 ┆ 518437642 ┆ dbacda92-2d53-42cc- │\n",
       "│ UTC                 ┆            ┆            ┆             ┆   ┆         ┆        ┆           ┆ be70-f79b4270…      │\n",
       "│ 2019-10-01 15:40:09 ┆ view       ┆ 3800545    ┆ 2.0530e18   ┆ … ┆ braun   ┆ 190.46 ┆ 515918427 ┆ 69a8b639-1d1f-4d3c- │\n",
       "│ UTC                 ┆            ┆            ┆             ┆   ┆         ┆        ┆           ┆ 9ca1-39e8dd1d…      │\n",
       "│ 2019-10-01 11:28:41 ┆ view       ┆ 1005157    ┆ 2.0530e18   ┆ … ┆ xiaomi  ┆ 282.89 ┆ 512407705 ┆ 37c11309-135b-47f3- │\n",
       "│ UTC                 ┆            ┆            ┆             ┆   ┆         ┆        ┆           ┆ 9ef7-7d5eff94…      │\n",
       "└─────────────────────┴────────────┴────────────┴─────────────┴───┴─────────┴────────┴───────────┴─────────────────────┘"
      ]
     },
     "execution_count": 36,
     "metadata": {},
     "output_type": "execute_result"
    }
   ],
   "source": [
    "df.sample(5)"
   ]
  },
  {
   "cell_type": "markdown",
   "id": "21184e14",
   "metadata": {},
   "source": [
    "## Value Counts works as expected"
   ]
  },
  {
   "cell_type": "code",
   "execution_count": 37,
   "id": "2660b4d7",
   "metadata": {},
   "outputs": [
    {
     "data": {
      "text/html": [
       "<div><style>\n",
       ".dataframe > thead > tr > th,\n",
       ".dataframe > tbody > tr > td {\n",
       "  text-align: right;\n",
       "}\n",
       "</style>\n",
       "<small>shape: (3, 2)</small><table border=\"1\" class=\"dataframe\"><thead><tr><th>event_type</th><th>count</th></tr><tr><td>str</td><td>u32</td></tr></thead><tbody><tr><td>&quot;cart&quot;</td><td>15040</td></tr><tr><td>&quot;purchase&quot;</td><td>17296</td></tr><tr><td>&quot;view&quot;</td><td>1016239</td></tr></tbody></table></div>"
      ],
      "text/plain": [
       "shape: (3, 2)\n",
       "┌────────────┬─────────┐\n",
       "│ event_type ┆ count   │\n",
       "│ ---        ┆ ---     │\n",
       "│ str        ┆ u32     │\n",
       "╞════════════╪═════════╡\n",
       "│ cart       ┆ 15040   │\n",
       "│ purchase   ┆ 17296   │\n",
       "│ view       ┆ 1016239 │\n",
       "└────────────┴─────────┘"
      ]
     },
     "execution_count": 37,
     "metadata": {},
     "output_type": "execute_result"
    }
   ],
   "source": [
    "# this works!\n",
    "df['event_type'].value_counts()\n",
    "\n",
    "# More verbose version with groupby\n",
    "df.groupby(\"event_type\").agg(pl.count())"
   ]
  },
  {
   "cell_type": "markdown",
   "id": "68746f7c",
   "metadata": {},
   "source": [
    "# 2. Groupby - pl.count (two groups)"
   ]
  },
  {
   "cell_type": "code",
   "execution_count": 40,
   "id": "046f9733",
   "metadata": {},
   "outputs": [
    {
     "data": {
      "text/html": [
       "<div><style>\n",
       ".dataframe > thead > tr > th,\n",
       ".dataframe > tbody > tr > td {\n",
       "  text-align: right;\n",
       "}\n",
       "</style>\n",
       "<small>shape: (5, 3)</small><table border=\"1\" class=\"dataframe\"><thead><tr><th>brand</th><th>event_type</th><th>count</th></tr><tr><td>str</td><td>str</td><td>u32</td></tr></thead><tbody><tr><td>null</td><td>&quot;view&quot;</td><td>154052</td></tr><tr><td>&quot;pulser&quot;</td><td>&quot;view&quot;</td><td>2450</td></tr><tr><td>&quot;baden&quot;</td><td>&quot;view&quot;</td><td>2738</td></tr><tr><td>&quot;huawei&quot;</td><td>&quot;view&quot;</td><td>27856</td></tr><tr><td>&quot;elenberg&quot;</td><td>&quot;view&quot;</td><td>6939</td></tr></tbody></table></div>"
      ],
      "text/plain": [
       "shape: (5, 3)\n",
       "┌──────────┬────────────┬────────┐\n",
       "│ brand    ┆ event_type ┆ count  │\n",
       "│ ---      ┆ ---        ┆ ---    │\n",
       "│ str      ┆ str        ┆ u32    │\n",
       "╞══════════╪════════════╪════════╡\n",
       "│ null     ┆ view       ┆ 154052 │\n",
       "│ pulser   ┆ view       ┆ 2450   │\n",
       "│ baden    ┆ view       ┆ 2738   │\n",
       "│ huawei   ┆ view       ┆ 27856  │\n",
       "│ elenberg ┆ view       ┆ 6939   │\n",
       "└──────────┴────────────┴────────┘"
      ]
     },
     "execution_count": 40,
     "metadata": {},
     "output_type": "execute_result"
    }
   ],
   "source": [
    "df_brand_event = df.groupby('brand','event_type').agg([\n",
    "    pl.count()\n",
    "])\n",
    "df_brand_event.head()"
   ]
  },
  {
   "cell_type": "code",
   "execution_count": 49,
   "id": "8ee32d27",
   "metadata": {},
   "outputs": [
    {
     "name": "stderr",
     "output_type": "stream",
     "text": [
      "C:\\Users\\Khuzaima\\AppData\\Local\\Temp\\ipykernel_4492\\2015406592.py:2: DeprecationWarning: In a future version of polars, the default `aggregate_function` will change from `'first'` to `None`. Please pass `'first'` to keep the current behaviour, or `None` to accept the new one.\n",
      "  df_brand_event_wide = df_brand_event.pivot(values=[\"count\"],\n"
     ]
    },
    {
     "data": {
      "text/html": [
       "<div><style>\n",
       ".dataframe > thead > tr > th,\n",
       ".dataframe > tbody > tr > td {\n",
       "  text-align: right;\n",
       "}\n",
       "</style>\n",
       "<small>shape: (5, 4)</small><table border=\"1\" class=\"dataframe\"><thead><tr><th>brand</th><th>view</th><th>purchase</th><th>cart</th></tr><tr><td>str</td><td>u32</td><td>u32</td><td>u32</td></tr></thead><tbody><tr><td>null</td><td>154052</td><td>1388</td><td>154</td></tr><tr><td>&quot;pulser&quot;</td><td>2450</td><td>22</td><td>null</td></tr><tr><td>&quot;baden&quot;</td><td>2738</td><td>11</td><td>null</td></tr><tr><td>&quot;huawei&quot;</td><td>27856</td><td>617</td><td>887</td></tr><tr><td>&quot;elenberg&quot;</td><td>6939</td><td>167</td><td>null</td></tr></tbody></table></div>"
      ],
      "text/plain": [
       "shape: (5, 4)\n",
       "┌──────────┬────────┬──────────┬──────┐\n",
       "│ brand    ┆ view   ┆ purchase ┆ cart │\n",
       "│ ---      ┆ ---    ┆ ---      ┆ ---  │\n",
       "│ str      ┆ u32    ┆ u32      ┆ u32  │\n",
       "╞══════════╪════════╪══════════╪══════╡\n",
       "│ null     ┆ 154052 ┆ 1388     ┆ 154  │\n",
       "│ pulser   ┆ 2450   ┆ 22       ┆ null │\n",
       "│ baden    ┆ 2738   ┆ 11       ┆ null │\n",
       "│ huawei   ┆ 27856  ┆ 617      ┆ 887  │\n",
       "│ elenberg ┆ 6939   ┆ 167      ┆ null │\n",
       "└──────────┴────────┴──────────┴──────┘"
      ]
     },
     "execution_count": 49,
     "metadata": {},
     "output_type": "execute_result"
    }
   ],
   "source": [
    "# Convert from long to wide format\n",
    "df_brand_event_wide = df_brand_event.pivot(values=[\"count\"]ZZ, \n",
    "                                           index=[\"brand\"], \n",
    "                                           columns=['event_type'])\n",
    "df_brand_event_wide.head()"
   ]
  },
  {
   "cell_type": "code",
   "execution_count": 52,
   "id": "44bfd875",
   "metadata": {},
   "outputs": [
    {
     "name": "stderr",
     "output_type": "stream",
     "text": [
      "C:\\Users\\Khuzaima\\AppData\\Local\\Temp\\ipykernel_4492\\4258880573.py:3: DeprecationWarning: In a future version of polars, the default `aggregate_function` will change from `'first'` to `None`. Please pass `'first'` to keep the current behaviour, or `None` to accept the new one.\n",
      "  df_brand_event\n"
     ]
    },
    {
     "data": {
      "text/html": [
       "<div><style>\n",
       ".dataframe > thead > tr > th,\n",
       ".dataframe > tbody > tr > td {\n",
       "  text-align: right;\n",
       "}\n",
       "</style>\n",
       "<small>shape: (5, 4)</small><table border=\"1\" class=\"dataframe\"><thead><tr><th>brand</th><th>view</th><th>purchase</th><th>cart</th></tr><tr><td>str</td><td>u32</td><td>u32</td><td>u32</td></tr></thead><tbody><tr><td>&quot;samsung&quot;</td><td>116573</td><td>4053</td><td>5401</td></tr><tr><td>&quot;apple&quot;</td><td>99822</td><td>3565</td><td>4247</td></tr><tr><td>null</td><td>154052</td><td>1388</td><td>154</td></tr><tr><td>&quot;xiaomi&quot;</td><td>68918</td><td>1337</td><td>2252</td></tr><tr><td>&quot;huawei&quot;</td><td>27856</td><td>617</td><td>887</td></tr></tbody></table></div>"
      ],
      "text/plain": [
       "shape: (5, 4)\n",
       "┌─────────┬────────┬──────────┬──────┐\n",
       "│ brand   ┆ view   ┆ purchase ┆ cart │\n",
       "│ ---     ┆ ---    ┆ ---      ┆ ---  │\n",
       "│ str     ┆ u32    ┆ u32      ┆ u32  │\n",
       "╞═════════╪════════╪══════════╪══════╡\n",
       "│ samsung ┆ 116573 ┆ 4053     ┆ 5401 │\n",
       "│ apple   ┆ 99822  ┆ 3565     ┆ 4247 │\n",
       "│ null    ┆ 154052 ┆ 1388     ┆ 154  │\n",
       "│ xiaomi  ┆ 68918  ┆ 1337     ┆ 2252 │\n",
       "│ huawei  ┆ 27856  ┆ 617      ┆ 887  │\n",
       "└─────────┴────────┴──────────┴──────┘"
      ]
     },
     "execution_count": 52,
     "metadata": {},
     "output_type": "execute_result"
    }
   ],
   "source": [
    "# Pivot and sorting\n",
    "df_brand_event_wide = ( \n",
    "    df_brand_event\n",
    "    .pivot(values=\"count\", index=[\"brand\"], columns=['event_type'])\n",
    "    .sort(\"purchase\", descending=True)\n",
    ")\n",
    "\n",
    "df_brand_event_wide.head()"
   ]
  },
  {
   "cell_type": "code",
   "execution_count": 53,
   "id": "f997f068",
   "metadata": {},
   "outputs": [
    {
     "data": {
      "text/html": [
       "<div><style>\n",
       ".dataframe > thead > tr > th,\n",
       ".dataframe > tbody > tr > td {\n",
       "  text-align: right;\n",
       "}\n",
       "</style>\n",
       "<small>shape: (5, 7)</small><table border=\"1\" class=\"dataframe\"><thead><tr><th>brand</th><th>view</th><th>purchase</th><th>cart</th><th>cart_by_views</th><th>buy_by_cart</th><th>buy_by_views</th></tr><tr><td>str</td><td>u32</td><td>u32</td><td>u32</td><td>f64</td><td>f64</td><td>f64</td></tr></thead><tbody><tr><td>&quot;samsung&quot;</td><td>116573</td><td>4053</td><td>5401</td><td>0.046331</td><td>0.750417</td><td>0.034768</td></tr><tr><td>&quot;apple&quot;</td><td>99822</td><td>3565</td><td>4247</td><td>0.042546</td><td>0.839416</td><td>0.035714</td></tr><tr><td>null</td><td>154052</td><td>1388</td><td>154</td><td>0.001</td><td>9.012987</td><td>0.00901</td></tr><tr><td>&quot;xiaomi&quot;</td><td>68918</td><td>1337</td><td>2252</td><td>0.032677</td><td>0.593694</td><td>0.0194</td></tr><tr><td>&quot;huawei&quot;</td><td>27856</td><td>617</td><td>887</td><td>0.031842</td><td>0.695603</td><td>0.02215</td></tr></tbody></table></div>"
      ],
      "text/plain": [
       "shape: (5, 7)\n",
       "┌─────────┬────────┬──────────┬──────┬───────────────┬─────────────┬──────────────┐\n",
       "│ brand   ┆ view   ┆ purchase ┆ cart ┆ cart_by_views ┆ buy_by_cart ┆ buy_by_views │\n",
       "│ ---     ┆ ---    ┆ ---      ┆ ---  ┆ ---           ┆ ---         ┆ ---          │\n",
       "│ str     ┆ u32    ┆ u32      ┆ u32  ┆ f64           ┆ f64         ┆ f64          │\n",
       "╞═════════╪════════╪══════════╪══════╪═══════════════╪═════════════╪══════════════╡\n",
       "│ samsung ┆ 116573 ┆ 4053     ┆ 5401 ┆ 0.046331      ┆ 0.750417    ┆ 0.034768     │\n",
       "│ apple   ┆ 99822  ┆ 3565     ┆ 4247 ┆ 0.042546      ┆ 0.839416    ┆ 0.035714     │\n",
       "│ null    ┆ 154052 ┆ 1388     ┆ 154  ┆ 0.001         ┆ 9.012987    ┆ 0.00901      │\n",
       "│ xiaomi  ┆ 68918  ┆ 1337     ┆ 2252 ┆ 0.032677      ┆ 0.593694    ┆ 0.0194       │\n",
       "│ huawei  ┆ 27856  ┆ 617      ┆ 887  ┆ 0.031842      ┆ 0.695603    ┆ 0.02215      │\n",
       "└─────────┴────────┴──────────┴──────┴───────────────┴─────────────┴──────────────┘"
      ]
     },
     "execution_count": 53,
     "metadata": {},
     "output_type": "execute_result"
    }
   ],
   "source": [
    "# Keep original columns and compute % values\n",
    "agg_performance = df_brand_event_wide.with_columns([\n",
    "    (pl.col(\"cart\") / pl.col(\"view\")).alias(\"cart_by_views\"),\n",
    "    (pl.col(\"purchase\") / pl.col(\"cart\")).alias(\"buy_by_cart\"),\n",
    "    (pl.col(\"purchase\") / pl.col(\"view\")).alias(\"buy_by_views\"),\n",
    "])\n",
    "agg_performance.head()"
   ]
  },
  {
   "cell_type": "code",
   "execution_count": 62,
   "id": "e4c7e3dd",
   "metadata": {},
   "outputs": [
    {
     "data": {
      "text/html": [
       "<div>\n",
       "<style scoped>\n",
       "    .dataframe tbody tr th:only-of-type {\n",
       "        vertical-align: middle;\n",
       "    }\n",
       "\n",
       "    .dataframe tbody tr th {\n",
       "        vertical-align: top;\n",
       "    }\n",
       "\n",
       "    .dataframe thead th {\n",
       "        text-align: right;\n",
       "    }\n",
       "</style>\n",
       "<table border=\"1\" class=\"dataframe\">\n",
       "  <thead>\n",
       "    <tr style=\"text-align: right;\">\n",
       "      <th></th>\n",
       "      <th>buy_by_cart</th>\n",
       "      <th>buy_by_views</th>\n",
       "      <th>cart_by_views</th>\n",
       "    </tr>\n",
       "  </thead>\n",
       "  <tbody>\n",
       "    <tr>\n",
       "      <th>0.00</th>\n",
       "      <td>0.368421</td>\n",
       "      <td>0.002288</td>\n",
       "      <td>0.004577</td>\n",
       "    </tr>\n",
       "    <tr>\n",
       "      <th>0.25</th>\n",
       "      <td>0.500000</td>\n",
       "      <td>0.008299</td>\n",
       "      <td>0.013889</td>\n",
       "    </tr>\n",
       "    <tr>\n",
       "      <th>0.50</th>\n",
       "      <td>0.593694</td>\n",
       "      <td>0.011259</td>\n",
       "      <td>0.018860</td>\n",
       "    </tr>\n",
       "    <tr>\n",
       "      <th>0.75</th>\n",
       "      <td>0.750000</td>\n",
       "      <td>0.021958</td>\n",
       "      <td>0.032677</td>\n",
       "    </tr>\n",
       "    <tr>\n",
       "      <th>0.99</th>\n",
       "      <td>0.837956</td>\n",
       "      <td>0.062664</td>\n",
       "      <td>0.114017</td>\n",
       "    </tr>\n",
       "    <tr>\n",
       "      <th>1.00</th>\n",
       "      <td>0.839416</td>\n",
       "      <td>0.071174</td>\n",
       "      <td>0.124555</td>\n",
       "    </tr>\n",
       "  </tbody>\n",
       "</table>\n",
       "</div>"
      ],
      "text/plain": [
       "      buy_by_cart  buy_by_views  cart_by_views\n",
       "0.00     0.368421      0.002288       0.004577\n",
       "0.25     0.500000      0.008299       0.013889\n",
       "0.50     0.593694      0.011259       0.018860\n",
       "0.75     0.750000      0.021958       0.032677\n",
       "0.99     0.837956      0.062664       0.114017\n",
       "1.00     0.839416      0.071174       0.124555"
      ]
     },
     "execution_count": 62,
     "metadata": {},
     "output_type": "execute_result"
    }
   ],
   "source": [
    "agg_performance.filter(pl.col('buy_by_cart')<1)\\\n",
    ".select(['buy_by_cart','buy_by_views','cart_by_views'])\\\n",
    ".to_pandas().quantile([0, 0.25, 0.5, 0.75, 0.99, 1])\n",
    "\n",
    "# .boxplot()"
   ]
  },
  {
   "cell_type": "markdown",
   "id": "894586f8",
   "metadata": {},
   "source": [
    "## 3. Group By - UserId + 2 Groups"
   ]
  },
  {
   "cell_type": "code",
   "execution_count": 75,
   "id": "370080e9",
   "metadata": {},
   "outputs": [
    {
     "data": {
      "text/html": [
       "<div><style>\n",
       ".dataframe > thead > tr > th,\n",
       ".dataframe > tbody > tr > td {\n",
       "  text-align: right;\n",
       "}\n",
       "</style>\n",
       "<small>shape: (5, 4)</small><table border=\"1\" class=\"dataframe\"><thead><tr><th>user_id</th><th>brand</th><th>event_type</th><th>count</th></tr><tr><td>i64</td><td>str</td><td>str</td><td>u32</td></tr></thead><tbody><tr><td>541312140</td><td>&quot;shiseido&quot;</td><td>&quot;view&quot;</td><td>2</td></tr><tr><td>520571932</td><td>&quot;baden&quot;</td><td>&quot;view&quot;</td><td>2</td></tr><tr><td>555446365</td><td>&quot;brw&quot;</td><td>&quot;view&quot;</td><td>2</td></tr><tr><td>513642368</td><td>null</td><td>&quot;view&quot;</td><td>2</td></tr><tr><td>537192226</td><td>&quot;haier&quot;</td><td>&quot;view&quot;</td><td>1</td></tr></tbody></table></div>"
      ],
      "text/plain": [
       "shape: (5, 4)\n",
       "┌───────────┬──────────┬────────────┬───────┐\n",
       "│ user_id   ┆ brand    ┆ event_type ┆ count │\n",
       "│ ---       ┆ ---      ┆ ---        ┆ ---   │\n",
       "│ i64       ┆ str      ┆ str        ┆ u32   │\n",
       "╞═══════════╪══════════╪════════════╪═══════╡\n",
       "│ 541312140 ┆ shiseido ┆ view       ┆ 2     │\n",
       "│ 520571932 ┆ baden    ┆ view       ┆ 2     │\n",
       "│ 555446365 ┆ brw      ┆ view       ┆ 2     │\n",
       "│ 513642368 ┆ null     ┆ view       ┆ 2     │\n",
       "│ 537192226 ┆ haier    ┆ view       ┆ 1     │\n",
       "└───────────┴──────────┴────────────┴───────┘"
      ]
     },
     "execution_count": 75,
     "metadata": {},
     "output_type": "execute_result"
    }
   ],
   "source": [
    "# groupby \n",
    "# %%timeit\n",
    "# 8.72 s ± 246 ms per loop (mean ± std. dev. of 7 runs, 1 loop each)\n",
    "\n",
    "df_user_brand_event = df.groupby([\"user_id\", \"brand\", \"event_type\"]).agg([\n",
    "    pl.count()\n",
    "])\n",
    "\n",
    "df_user_brand_event.head()"
   ]
  },
  {
   "cell_type": "code",
   "execution_count": 64,
   "id": "e7fc1b79",
   "metadata": {},
   "outputs": [
    {
     "data": {
      "text/plain": [
       "(396699, 4)"
      ]
     },
     "execution_count": 64,
     "metadata": {},
     "output_type": "execute_result"
    }
   ],
   "source": [
    "df_user_brand_event.shape"
   ]
  },
  {
   "cell_type": "code",
   "execution_count": 77,
   "id": "abe57932",
   "metadata": {},
   "outputs": [
    {
     "name": "stderr",
     "output_type": "stream",
     "text": [
      "C:\\Users\\Khuzaima\\AppData\\Local\\Temp\\ipykernel_4492\\3434727870.py:2: DeprecationWarning: In a future version of polars, the default `aggregate_function` will change from `'first'` to `None`. Please pass `'first'` to keep the current behaviour, or `None` to accept the new one.\n",
      "  df_user_brand_event = (df_user_brand_event\n"
     ]
    },
    {
     "data": {
      "text/plain": [
       "(374482, 5)"
      ]
     },
     "execution_count": 77,
     "metadata": {},
     "output_type": "execute_result"
    }
   ],
   "source": [
    "# pivot and sort\n",
    "df_user_brand_event = (df_user_brand_event\n",
    "    .pivot(values=\"count\", index=[\"user_id\", \"brand\"], columns=['event_type'])\n",
    "    .sort(\"purchase\", descending=True)\n",
    ")\n",
    "df_user_brand_event.shape"
   ]
  },
  {
   "cell_type": "code",
   "execution_count": 79,
   "id": "7dcf15b8",
   "metadata": {},
   "outputs": [
    {
     "data": {
      "text/html": [
       "<div><style>\n",
       ".dataframe > thead > tr > th,\n",
       ".dataframe > tbody > tr > td {\n",
       "  text-align: right;\n",
       "}\n",
       "</style>\n",
       "<small>shape: (5, 5)</small><table border=\"1\" class=\"dataframe\"><thead><tr><th>user_id</th><th>brand</th><th>view</th><th>cart</th><th>purchase</th></tr><tr><td>i64</td><td>str</td><td>u32</td><td>u32</td><td>u32</td></tr></thead><tbody><tr><td>554090147</td><td>&quot;apple&quot;</td><td>37</td><td>24</td><td>26</td></tr><tr><td>548891541</td><td>&quot;ariston&quot;</td><td>33</td><td>17</td><td>19</td></tr><tr><td>541337272</td><td>&quot;samsung&quot;</td><td>34</td><td>24</td><td>17</td></tr><tr><td>520695559</td><td>&quot;apple&quot;</td><td>23</td><td>7</td><td>16</td></tr><tr><td>531974857</td><td>&quot;samsung&quot;</td><td>24</td><td>11</td><td>14</td></tr></tbody></table></div>"
      ],
      "text/plain": [
       "shape: (5, 5)\n",
       "┌───────────┬─────────┬──────┬──────┬──────────┐\n",
       "│ user_id   ┆ brand   ┆ view ┆ cart ┆ purchase │\n",
       "│ ---       ┆ ---     ┆ ---  ┆ ---  ┆ ---      │\n",
       "│ i64       ┆ str     ┆ u32  ┆ u32  ┆ u32      │\n",
       "╞═══════════╪═════════╪══════╪══════╪══════════╡\n",
       "│ 554090147 ┆ apple   ┆ 37   ┆ 24   ┆ 26       │\n",
       "│ 548891541 ┆ ariston ┆ 33   ┆ 17   ┆ 19       │\n",
       "│ 541337272 ┆ samsung ┆ 34   ┆ 24   ┆ 17       │\n",
       "│ 520695559 ┆ apple   ┆ 23   ┆ 7    ┆ 16       │\n",
       "│ 531974857 ┆ samsung ┆ 24   ┆ 11   ┆ 14       │\n",
       "└───────────┴─────────┴──────┴──────┴──────────┘"
      ]
     },
     "execution_count": 79,
     "metadata": {},
     "output_type": "execute_result"
    }
   ],
   "source": [
    "df_user_brand_event.head()"
   ]
  },
  {
   "cell_type": "code",
   "execution_count": 80,
   "id": "ff348613",
   "metadata": {},
   "outputs": [
    {
     "data": {
      "text/html": [
       "<div><style>\n",
       ".dataframe > thead > tr > th,\n",
       ".dataframe > tbody > tr > td {\n",
       "  text-align: right;\n",
       "}\n",
       "</style>\n",
       "<small>shape: (10, 5)</small><table border=\"1\" class=\"dataframe\"><thead><tr><th>user_id</th><th>brand</th><th>view</th><th>cart</th><th>purchase</th></tr><tr><td>i64</td><td>str</td><td>u32</td><td>u32</td><td>u32</td></tr></thead><tbody><tr><td>554870604</td><td>&quot;fassen&quot;</td><td>1</td><td>null</td><td>null</td></tr><tr><td>513194193</td><td>&quot;vitek&quot;</td><td>4</td><td>null</td><td>null</td></tr><tr><td>512421019</td><td>&quot;xiaomi&quot;</td><td>2</td><td>null</td><td>null</td></tr><tr><td>514168979</td><td>&quot;milwaukee&quot;</td><td>1</td><td>null</td><td>null</td></tr><tr><td>516029862</td><td>&quot;samsung&quot;</td><td>1</td><td>null</td><td>null</td></tr><tr><td>524566360</td><td>&quot;phoenix&quot;</td><td>1</td><td>null</td><td>null</td></tr><tr><td>514303423</td><td>&quot;samsung&quot;</td><td>2</td><td>null</td><td>null</td></tr><tr><td>517233496</td><td>&quot;apple&quot;</td><td>4</td><td>null</td><td>null</td></tr><tr><td>552869893</td><td>&quot;samsung&quot;</td><td>2</td><td>null</td><td>null</td></tr><tr><td>517261408</td><td>&quot;teknetics&quot;</td><td>1</td><td>null</td><td>null</td></tr></tbody></table></div>"
      ],
      "text/plain": [
       "shape: (10, 5)\n",
       "┌───────────┬───────────┬──────┬──────┬──────────┐\n",
       "│ user_id   ┆ brand     ┆ view ┆ cart ┆ purchase │\n",
       "│ ---       ┆ ---       ┆ ---  ┆ ---  ┆ ---      │\n",
       "│ i64       ┆ str       ┆ u32  ┆ u32  ┆ u32      │\n",
       "╞═══════════╪═══════════╪══════╪══════╪══════════╡\n",
       "│ 554870604 ┆ fassen    ┆ 1    ┆ null ┆ null     │\n",
       "│ 513194193 ┆ vitek     ┆ 4    ┆ null ┆ null     │\n",
       "│ 512421019 ┆ xiaomi    ┆ 2    ┆ null ┆ null     │\n",
       "│ 514168979 ┆ milwaukee ┆ 1    ┆ null ┆ null     │\n",
       "│ …         ┆ …         ┆ …    ┆ …    ┆ …        │\n",
       "│ 514303423 ┆ samsung   ┆ 2    ┆ null ┆ null     │\n",
       "│ 517233496 ┆ apple     ┆ 4    ┆ null ┆ null     │\n",
       "│ 552869893 ┆ samsung   ┆ 2    ┆ null ┆ null     │\n",
       "│ 517261408 ┆ teknetics ┆ 1    ┆ null ┆ null     │\n",
       "└───────────┴───────────┴──────┴──────┴──────────┘"
      ]
     },
     "execution_count": 80,
     "metadata": {},
     "output_type": "execute_result"
    }
   ],
   "source": [
    "df_user_brand_event.sample(10)\n"
   ]
  },
  {
   "cell_type": "code",
   "execution_count": 81,
   "id": "87f2615d",
   "metadata": {},
   "outputs": [],
   "source": [
    "df_user_brand_event = df_user_brand_event.with_columns([\n",
    "    pl.col('purchase').fill_null(strategy=\"zero\"),\n",
    "    pl.col('view').fill_null(strategy=\"zero\"),\n",
    "    pl.col('cart').fill_null(strategy=\"zero\"),\n",
    "])"
   ]
  },
  {
   "cell_type": "code",
   "execution_count": 83,
   "id": "503d84bf",
   "metadata": {},
   "outputs": [
    {
     "data": {
      "text/html": [
       "<div><style>\n",
       ".dataframe > thead > tr > th,\n",
       ".dataframe > tbody > tr > td {\n",
       "  text-align: right;\n",
       "}\n",
       "</style>\n",
       "<small>shape: (10, 5)</small><table border=\"1\" class=\"dataframe\"><thead><tr><th>user_id</th><th>brand</th><th>view</th><th>cart</th><th>purchase</th></tr><tr><td>i64</td><td>str</td><td>u32</td><td>u32</td><td>u32</td></tr></thead><tbody><tr><td>545567705</td><td>&quot;artmusical&quot;</td><td>1</td><td>0</td><td>0</td></tr><tr><td>512931831</td><td>&quot;bosch&quot;</td><td>23</td><td>0</td><td>0</td></tr><tr><td>535956210</td><td>&quot;samsung&quot;</td><td>3</td><td>0</td><td>0</td></tr><tr><td>514587373</td><td>null</td><td>7</td><td>0</td><td>0</td></tr><tr><td>544712254</td><td>&quot;autoprofi&quot;</td><td>1</td><td>0</td><td>0</td></tr><tr><td>552659763</td><td>&quot;xiaomi&quot;</td><td>3</td><td>2</td><td>1</td></tr><tr><td>555538036</td><td>&quot;huawei&quot;</td><td>2</td><td>0</td><td>0</td></tr><tr><td>513300400</td><td>&quot;apple&quot;</td><td>4</td><td>0</td><td>0</td></tr><tr><td>522373639</td><td>&quot;dometic&quot;</td><td>1</td><td>0</td><td>0</td></tr><tr><td>551302434</td><td>&quot;samsung&quot;</td><td>3</td><td>0</td><td>0</td></tr></tbody></table></div>"
      ],
      "text/plain": [
       "shape: (10, 5)\n",
       "┌───────────┬────────────┬──────┬──────┬──────────┐\n",
       "│ user_id   ┆ brand      ┆ view ┆ cart ┆ purchase │\n",
       "│ ---       ┆ ---        ┆ ---  ┆ ---  ┆ ---      │\n",
       "│ i64       ┆ str        ┆ u32  ┆ u32  ┆ u32      │\n",
       "╞═══════════╪════════════╪══════╪══════╪══════════╡\n",
       "│ 545567705 ┆ artmusical ┆ 1    ┆ 0    ┆ 0        │\n",
       "│ 512931831 ┆ bosch      ┆ 23   ┆ 0    ┆ 0        │\n",
       "│ 535956210 ┆ samsung    ┆ 3    ┆ 0    ┆ 0        │\n",
       "│ 514587373 ┆ null       ┆ 7    ┆ 0    ┆ 0        │\n",
       "│ …         ┆ …          ┆ …    ┆ …    ┆ …        │\n",
       "│ 555538036 ┆ huawei     ┆ 2    ┆ 0    ┆ 0        │\n",
       "│ 513300400 ┆ apple      ┆ 4    ┆ 0    ┆ 0        │\n",
       "│ 522373639 ┆ dometic    ┆ 1    ┆ 0    ┆ 0        │\n",
       "│ 551302434 ┆ samsung    ┆ 3    ┆ 0    ┆ 0        │\n",
       "└───────────┴────────────┴──────┴──────┴──────────┘"
      ]
     },
     "execution_count": 83,
     "metadata": {},
     "output_type": "execute_result"
    }
   ],
   "source": [
    "df_user_brand_event.sample(10)"
   ]
  },
  {
   "cell_type": "code",
   "execution_count": 84,
   "id": "eb2d32be",
   "metadata": {},
   "outputs": [
    {
     "data": {
      "text/html": [
       "<div><style>\n",
       ".dataframe > thead > tr > th,\n",
       ".dataframe > tbody > tr > td {\n",
       "  text-align: right;\n",
       "}\n",
       "</style>\n",
       "<small>shape: (10, 5)</small><table border=\"1\" class=\"dataframe\"><thead><tr><th>user_id</th><th>brand</th><th>view</th><th>cart</th><th>purchase</th></tr><tr><td>i64</td><td>str</td><td>u32</td><td>u32</td><td>u32</td></tr></thead><tbody><tr><td>554090147</td><td>&quot;apple&quot;</td><td>37</td><td>24</td><td>26</td></tr><tr><td>548891541</td><td>&quot;ariston&quot;</td><td>33</td><td>17</td><td>19</td></tr><tr><td>541337272</td><td>&quot;samsung&quot;</td><td>34</td><td>24</td><td>17</td></tr><tr><td>520695559</td><td>&quot;apple&quot;</td><td>23</td><td>7</td><td>16</td></tr><tr><td>531974857</td><td>&quot;samsung&quot;</td><td>24</td><td>11</td><td>14</td></tr><tr><td>512730829</td><td>&quot;samsung&quot;</td><td>22</td><td>19</td><td>14</td></tr><tr><td>543312954</td><td>&quot;samsung&quot;</td><td>25</td><td>13</td><td>13</td></tr><tr><td>541311429</td><td>&quot;xiaomi&quot;</td><td>25</td><td>0</td><td>12</td></tr><tr><td>524487175</td><td>&quot;redmond&quot;</td><td>16</td><td>0</td><td>12</td></tr><tr><td>513322839</td><td>&quot;samsung&quot;</td><td>35</td><td>13</td><td>11</td></tr></tbody></table></div>"
      ],
      "text/plain": [
       "shape: (10, 5)\n",
       "┌───────────┬─────────┬──────┬──────┬──────────┐\n",
       "│ user_id   ┆ brand   ┆ view ┆ cart ┆ purchase │\n",
       "│ ---       ┆ ---     ┆ ---  ┆ ---  ┆ ---      │\n",
       "│ i64       ┆ str     ┆ u32  ┆ u32  ┆ u32      │\n",
       "╞═══════════╪═════════╪══════╪══════╪══════════╡\n",
       "│ 554090147 ┆ apple   ┆ 37   ┆ 24   ┆ 26       │\n",
       "│ 548891541 ┆ ariston ┆ 33   ┆ 17   ┆ 19       │\n",
       "│ 541337272 ┆ samsung ┆ 34   ┆ 24   ┆ 17       │\n",
       "│ 520695559 ┆ apple   ┆ 23   ┆ 7    ┆ 16       │\n",
       "│ …         ┆ …       ┆ …    ┆ …    ┆ …        │\n",
       "│ 543312954 ┆ samsung ┆ 25   ┆ 13   ┆ 13       │\n",
       "│ 541311429 ┆ xiaomi  ┆ 25   ┆ 0    ┆ 12       │\n",
       "│ 524487175 ┆ redmond ┆ 16   ┆ 0    ┆ 12       │\n",
       "│ 513322839 ┆ samsung ┆ 35   ┆ 13   ┆ 11       │\n",
       "└───────────┴─────────┴──────┴──────┴──────────┘"
      ]
     },
     "execution_count": 84,
     "metadata": {},
     "output_type": "execute_result"
    }
   ],
   "source": [
    "# Looks like these user-ids are distributors (nobody need 400 samsung devices)\n",
    "df_user_brand_event.head(10)"
   ]
  },
  {
   "cell_type": "code",
   "execution_count": 85,
   "id": "19e41f75",
   "metadata": {},
   "outputs": [],
   "source": [
    "df_user_brand_event = df_user_brand_event.with_columns(\n",
    "    (pl.col(\"purchase\") / pl.col(\"view\")).alias(\"pct_buy_views\")\n",
    ")"
   ]
  },
  {
   "cell_type": "code",
   "execution_count": 87,
   "id": "712d5893",
   "metadata": {},
   "outputs": [
    {
     "data": {
      "text/html": [
       "<div><style>\n",
       ".dataframe > thead > tr > th,\n",
       ".dataframe > tbody > tr > td {\n",
       "  text-align: right;\n",
       "}\n",
       "</style>\n",
       "<small>shape: (5, 6)</small><table border=\"1\" class=\"dataframe\"><thead><tr><th>user_id</th><th>brand</th><th>view</th><th>cart</th><th>purchase</th><th>pct_buy_views</th></tr><tr><td>i64</td><td>str</td><td>u32</td><td>u32</td><td>u32</td><td>f64</td></tr></thead><tbody><tr><td>554090147</td><td>&quot;apple&quot;</td><td>37</td><td>24</td><td>26</td><td>0.702703</td></tr><tr><td>548891541</td><td>&quot;ariston&quot;</td><td>33</td><td>17</td><td>19</td><td>0.575758</td></tr><tr><td>541337272</td><td>&quot;samsung&quot;</td><td>34</td><td>24</td><td>17</td><td>0.5</td></tr><tr><td>520695559</td><td>&quot;apple&quot;</td><td>23</td><td>7</td><td>16</td><td>0.695652</td></tr><tr><td>531974857</td><td>&quot;samsung&quot;</td><td>24</td><td>11</td><td>14</td><td>0.583333</td></tr></tbody></table></div>"
      ],
      "text/plain": [
       "shape: (5, 6)\n",
       "┌───────────┬─────────┬──────┬──────┬──────────┬───────────────┐\n",
       "│ user_id   ┆ brand   ┆ view ┆ cart ┆ purchase ┆ pct_buy_views │\n",
       "│ ---       ┆ ---     ┆ ---  ┆ ---  ┆ ---      ┆ ---           │\n",
       "│ i64       ┆ str     ┆ u32  ┆ u32  ┆ u32      ┆ f64           │\n",
       "╞═══════════╪═════════╪══════╪══════╪══════════╪═══════════════╡\n",
       "│ 554090147 ┆ apple   ┆ 37   ┆ 24   ┆ 26       ┆ 0.702703      │\n",
       "│ 548891541 ┆ ariston ┆ 33   ┆ 17   ┆ 19       ┆ 0.575758      │\n",
       "│ 541337272 ┆ samsung ┆ 34   ┆ 24   ┆ 17       ┆ 0.5           │\n",
       "│ 520695559 ┆ apple   ┆ 23   ┆ 7    ┆ 16       ┆ 0.695652      │\n",
       "│ 531974857 ┆ samsung ┆ 24   ┆ 11   ┆ 14       ┆ 0.583333      │\n",
       "└───────────┴─────────┴──────┴──────┴──────────┴───────────────┘"
      ]
     },
     "execution_count": 87,
     "metadata": {},
     "output_type": "execute_result"
    }
   ],
   "source": [
    "df_user_brand_event.head()"
   ]
  },
  {
   "cell_type": "code",
   "execution_count": 88,
   "id": "9fcea351",
   "metadata": {},
   "outputs": [],
   "source": [
    "df_user_brand_event = df_user_brand_event.with_columns(\n",
    "    pl.when(pl.col(\"pct_buy_views\").is_infinite())\n",
    "      .then(None)\n",
    "      .otherwise(pl.col(\"pct_buy_views\"))\n",
    ")"
   ]
  },
  {
   "cell_type": "code",
   "execution_count": 90,
   "id": "ca7ce09b",
   "metadata": {},
   "outputs": [
    {
     "data": {
      "text/html": [
       "<div><style>\n",
       ".dataframe > thead > tr > th,\n",
       ".dataframe > tbody > tr > td {\n",
       "  text-align: right;\n",
       "}\n",
       "</style>\n",
       "<small>shape: (5, 7)</small><table border=\"1\" class=\"dataframe\"><thead><tr><th>user_id</th><th>brand</th><th>view</th><th>cart</th><th>purchase</th><th>pct_buy_views</th><th>literal</th></tr><tr><td>i64</td><td>str</td><td>u32</td><td>u32</td><td>u32</td><td>f64</td><td>f64</td></tr></thead><tbody><tr><td>526941786</td><td>&quot;brw&quot;</td><td>3</td><td>0</td><td>0</td><td>0.0</td><td>0.0</td></tr><tr><td>531746605</td><td>&quot;redmond&quot;</td><td>2</td><td>0</td><td>0</td><td>0.0</td><td>0.0</td></tr><tr><td>512821524</td><td>&quot;carters&quot;</td><td>3</td><td>0</td><td>1</td><td>0.333333</td><td>0.333333</td></tr><tr><td>551664150</td><td>&quot;elari&quot;</td><td>1</td><td>0</td><td>0</td><td>0.0</td><td>0.0</td></tr><tr><td>515669566</td><td>&quot;acer&quot;</td><td>4</td><td>0</td><td>0</td><td>0.0</td><td>0.0</td></tr></tbody></table></div>"
      ],
      "text/plain": [
       "shape: (5, 7)\n",
       "┌───────────┬─────────┬──────┬──────┬──────────┬───────────────┬──────────┐\n",
       "│ user_id   ┆ brand   ┆ view ┆ cart ┆ purchase ┆ pct_buy_views ┆ literal  │\n",
       "│ ---       ┆ ---     ┆ ---  ┆ ---  ┆ ---      ┆ ---           ┆ ---      │\n",
       "│ i64       ┆ str     ┆ u32  ┆ u32  ┆ u32      ┆ f64           ┆ f64      │\n",
       "╞═══════════╪═════════╪══════╪══════╪══════════╪═══════════════╪══════════╡\n",
       "│ 526941786 ┆ brw     ┆ 3    ┆ 0    ┆ 0        ┆ 0.0           ┆ 0.0      │\n",
       "│ 531746605 ┆ redmond ┆ 2    ┆ 0    ┆ 0        ┆ 0.0           ┆ 0.0      │\n",
       "│ 512821524 ┆ carters ┆ 3    ┆ 0    ┆ 1        ┆ 0.333333      ┆ 0.333333 │\n",
       "│ 551664150 ┆ elari   ┆ 1    ┆ 0    ┆ 0        ┆ 0.0           ┆ 0.0      │\n",
       "│ 515669566 ┆ acer    ┆ 4    ┆ 0    ┆ 0        ┆ 0.0           ┆ 0.0      │\n",
       "└───────────┴─────────┴──────┴──────┴──────────┴───────────────┴──────────┘"
      ]
     },
     "execution_count": 90,
     "metadata": {},
     "output_type": "execute_result"
    }
   ],
   "source": [
    "df_user_brand_event.sample(5)"
   ]
  }
 ],
 "metadata": {
  "kernelspec": {
   "display_name": "Python 3 (ipykernel)",
   "language": "python",
   "name": "python3"
  },
  "language_info": {
   "codemirror_mode": {
    "name": "ipython",
    "version": 3
   },
   "file_extension": ".py",
   "mimetype": "text/x-python",
   "name": "python",
   "nbconvert_exporter": "python",
   "pygments_lexer": "ipython3",
   "version": "3.9.13"
  }
 },
 "nbformat": 4,
 "nbformat_minor": 5
}
