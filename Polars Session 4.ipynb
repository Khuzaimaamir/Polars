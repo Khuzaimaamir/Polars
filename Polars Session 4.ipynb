{
 "cells": [
  {
   "cell_type": "code",
   "execution_count": 1,
   "id": "e92fdd3c",
   "metadata": {},
   "outputs": [],
   "source": [
    "import polars as pl\n",
    "import pandas as pd\n",
    "import numpy as np\n",
    "import pyarrow\n",
    "\n",
    "import matplotlib.pyplot as plt\n",
    "import seaborn as sns\n",
    "# https://github.com/martinbel/polars-tutorial/blob/master/04%20-%20Polars.ipynb"
   ]
  },
  {
   "cell_type": "code",
   "execution_count": 5,
   "id": "53164f2a",
   "metadata": {},
   "outputs": [],
   "source": [
    "df = pl.read_csv(\"2019-Oct-reduced.csv\")"
   ]
  },
  {
   "cell_type": "code",
   "execution_count": 6,
   "id": "090b064e",
   "metadata": {},
   "outputs": [
    {
     "data": {
      "text/html": [
       "<div>\n",
       "<style scoped>\n",
       "    .dataframe tbody tr th:only-of-type {\n",
       "        vertical-align: middle;\n",
       "    }\n",
       "\n",
       "    .dataframe tbody tr th {\n",
       "        vertical-align: top;\n",
       "    }\n",
       "\n",
       "    .dataframe thead th {\n",
       "        text-align: right;\n",
       "    }\n",
       "</style>\n",
       "<table border=\"1\" class=\"dataframe\">\n",
       "  <thead>\n",
       "    <tr style=\"text-align: right;\">\n",
       "      <th></th>\n",
       "      <th>event_time</th>\n",
       "      <th>event_type</th>\n",
       "      <th>product_id</th>\n",
       "      <th>category_id</th>\n",
       "      <th>category_code</th>\n",
       "      <th>brand</th>\n",
       "      <th>price</th>\n",
       "      <th>user_id</th>\n",
       "      <th>user_session</th>\n",
       "    </tr>\n",
       "  </thead>\n",
       "  <tbody>\n",
       "    <tr>\n",
       "      <th>0</th>\n",
       "      <td>2019-10-01 00:00:00 UTC</td>\n",
       "      <td>view</td>\n",
       "      <td>44600062</td>\n",
       "      <td>2.103810e+18</td>\n",
       "      <td>None</td>\n",
       "      <td>shiseido</td>\n",
       "      <td>35.79</td>\n",
       "      <td>541312140</td>\n",
       "      <td>72d76fde-8bb3-4e00-8c23-a032dfed738c</td>\n",
       "    </tr>\n",
       "    <tr>\n",
       "      <th>1</th>\n",
       "      <td>2019-10-01 00:00:00 UTC</td>\n",
       "      <td>view</td>\n",
       "      <td>3900821</td>\n",
       "      <td>2.053010e+18</td>\n",
       "      <td>appliances.environment.water_heater</td>\n",
       "      <td>aqua</td>\n",
       "      <td>33.20</td>\n",
       "      <td>554748717</td>\n",
       "      <td>9333dfbd-b87a-4708-9857-6336556b0fcc</td>\n",
       "    </tr>\n",
       "    <tr>\n",
       "      <th>2</th>\n",
       "      <td>2019-10-01 00:00:01 UTC</td>\n",
       "      <td>view</td>\n",
       "      <td>17200506</td>\n",
       "      <td>2.053010e+18</td>\n",
       "      <td>furniture.living_room.sofa</td>\n",
       "      <td>None</td>\n",
       "      <td>543.10</td>\n",
       "      <td>519107250</td>\n",
       "      <td>566511c2-e2e3-422b-b695-cf8e6e792ca8</td>\n",
       "    </tr>\n",
       "    <tr>\n",
       "      <th>3</th>\n",
       "      <td>2019-10-01 00:00:01 UTC</td>\n",
       "      <td>view</td>\n",
       "      <td>1307067</td>\n",
       "      <td>2.053010e+18</td>\n",
       "      <td>computers.notebook</td>\n",
       "      <td>lenovo</td>\n",
       "      <td>251.74</td>\n",
       "      <td>550050854</td>\n",
       "      <td>7c90fc70-0e80-4590-96f3-13c02c18c713</td>\n",
       "    </tr>\n",
       "    <tr>\n",
       "      <th>4</th>\n",
       "      <td>2019-10-01 00:00:04 UTC</td>\n",
       "      <td>view</td>\n",
       "      <td>1004237</td>\n",
       "      <td>2.053010e+18</td>\n",
       "      <td>electronics.smartphone</td>\n",
       "      <td>apple</td>\n",
       "      <td>1081.98</td>\n",
       "      <td>535871217</td>\n",
       "      <td>c6bd7419-2748-4c56-95b4-8cec9ff8b80d</td>\n",
       "    </tr>\n",
       "  </tbody>\n",
       "</table>\n",
       "</div>"
      ],
      "text/plain": [
       "                event_time event_type  product_id   category_id  \\\n",
       "0  2019-10-01 00:00:00 UTC       view    44600062  2.103810e+18   \n",
       "1  2019-10-01 00:00:00 UTC       view     3900821  2.053010e+18   \n",
       "2  2019-10-01 00:00:01 UTC       view    17200506  2.053010e+18   \n",
       "3  2019-10-01 00:00:01 UTC       view     1307067  2.053010e+18   \n",
       "4  2019-10-01 00:00:04 UTC       view     1004237  2.053010e+18   \n",
       "\n",
       "                         category_code     brand    price    user_id  \\\n",
       "0                                 None  shiseido    35.79  541312140   \n",
       "1  appliances.environment.water_heater      aqua    33.20  554748717   \n",
       "2           furniture.living_room.sofa      None   543.10  519107250   \n",
       "3                   computers.notebook    lenovo   251.74  550050854   \n",
       "4               electronics.smartphone     apple  1081.98  535871217   \n",
       "\n",
       "                           user_session  \n",
       "0  72d76fde-8bb3-4e00-8c23-a032dfed738c  \n",
       "1  9333dfbd-b87a-4708-9857-6336556b0fcc  \n",
       "2  566511c2-e2e3-422b-b695-cf8e6e792ca8  \n",
       "3  7c90fc70-0e80-4590-96f3-13c02c18c713  \n",
       "4  c6bd7419-2748-4c56-95b4-8cec9ff8b80d  "
      ]
     },
     "execution_count": 6,
     "metadata": {},
     "output_type": "execute_result"
    }
   ],
   "source": [
    "df.head().to_pandas()"
   ]
  },
  {
   "cell_type": "code",
   "execution_count": 7,
   "id": "5663bd8e",
   "metadata": {},
   "outputs": [],
   "source": [
    "# \"%Y\": Year with a four-digit representation (e.g., 2023).\n",
    "# \"%m\": Month with a zero-padded two-digit representation (e.g., 01 for January).\n",
    "# \"%d\": Day of the month with a zero-padded two-digit representation (e.g., 05).\n",
    "# \"%H\": Hour of the day in a 24-hour format with a zero-padded two-digit representation (e.g., 13 for 1 PM).\n",
    "# \"%M\": Minute of the hour with a zero-padded two-digit representation (e.g., 07).\n",
    "# \"%S\": Second of the minute with a zero-padded two-digit representation (e.g., 45).\n",
    "# \"%Z\": Time zone abbreviation or name, depending on the implementation.\n",
    "\n",
    "# The full form of strptime is \"string parse time"
   ]
  },
  {
   "cell_type": "code",
   "execution_count": 27,
   "id": "b576a80a",
   "metadata": {},
   "outputs": [
    {
     "data": {
      "text/html": [
       "<div><style>\n",
       ".dataframe > thead > tr > th,\n",
       ".dataframe > tbody > tr > td {\n",
       "  text-align: right;\n",
       "}\n",
       "</style>\n",
       "<small>shape: (10, 9)</small><table border=\"1\" class=\"dataframe\"><thead><tr><th>event_time</th><th>event_type</th><th>product_id</th><th>category_id</th><th>category_code</th><th>brand</th><th>price</th><th>user_id</th><th>user_session</th></tr><tr><td>datetime[μs]</td><td>str</td><td>i64</td><td>f64</td><td>str</td><td>str</td><td>f64</td><td>i64</td><td>str</td></tr></thead><tbody><tr><td>2019-10-01 00:00:00</td><td>&quot;view&quot;</td><td>44600062</td><td>2.1038e18</td><td>null</td><td>&quot;shiseido&quot;</td><td>35.79</td><td>541312140</td><td>&quot;72d76fde-8bb3-…</td></tr><tr><td>2019-10-01 00:00:00</td><td>&quot;view&quot;</td><td>3900821</td><td>2.0530e18</td><td>&quot;appliances.env…</td><td>&quot;aqua&quot;</td><td>33.2</td><td>554748717</td><td>&quot;9333dfbd-b87a-…</td></tr><tr><td>2019-10-01 00:00:01</td><td>&quot;view&quot;</td><td>17200506</td><td>2.0530e18</td><td>&quot;furniture.livi…</td><td>null</td><td>543.1</td><td>519107250</td><td>&quot;566511c2-e2e3-…</td></tr><tr><td>2019-10-01 00:00:01</td><td>&quot;view&quot;</td><td>1307067</td><td>2.0530e18</td><td>&quot;computers.note…</td><td>&quot;lenovo&quot;</td><td>251.74</td><td>550050854</td><td>&quot;7c90fc70-0e80-…</td></tr><tr><td>2019-10-01 00:00:04</td><td>&quot;view&quot;</td><td>1004237</td><td>2.0530e18</td><td>&quot;electronics.sm…</td><td>&quot;apple&quot;</td><td>1081.98</td><td>535871217</td><td>&quot;c6bd7419-2748-…</td></tr><tr><td>2019-10-01 00:00:05</td><td>&quot;view&quot;</td><td>1480613</td><td>2.0530e18</td><td>&quot;computers.desk…</td><td>&quot;pulser&quot;</td><td>908.62</td><td>512742880</td><td>&quot;0d0d91c2-c9c2-…</td></tr><tr><td>2019-10-01 00:00:08</td><td>&quot;view&quot;</td><td>17300353</td><td>2.0530e18</td><td>null</td><td>&quot;creed&quot;</td><td>380.96</td><td>555447699</td><td>&quot;4fe811e9-91de-…</td></tr><tr><td>2019-10-01 00:00:08</td><td>&quot;view&quot;</td><td>31500053</td><td>2.0530e18</td><td>null</td><td>&quot;luminarc&quot;</td><td>41.16</td><td>550978835</td><td>&quot;6280d577-25c8-…</td></tr><tr><td>2019-10-01 00:00:10</td><td>&quot;view&quot;</td><td>28719074</td><td>2.0530e18</td><td>&quot;apparel.shoes.…</td><td>&quot;baden&quot;</td><td>102.71</td><td>520571932</td><td>&quot;ac1cd4e5-a3ce-…</td></tr><tr><td>2019-10-01 00:00:11</td><td>&quot;view&quot;</td><td>1004545</td><td>2.0530e18</td><td>&quot;electronics.sm…</td><td>&quot;huawei&quot;</td><td>566.01</td><td>537918940</td><td>&quot;406c46ed-90a4-…</td></tr></tbody></table></div>"
      ],
      "text/plain": [
       "shape: (10, 9)\n",
       "┌──────────────┬────────────┬────────────┬─────────────┬───┬──────────┬────────┬───────────┬───────────────────────────┐\n",
       "│ event_time   ┆ event_type ┆ product_id ┆ category_id ┆ … ┆ brand    ┆ price  ┆ user_id   ┆ user_session              │\n",
       "│ ---          ┆ ---        ┆ ---        ┆ ---         ┆   ┆ ---      ┆ ---    ┆ ---       ┆ ---                       │\n",
       "│ datetime[μs] ┆ str        ┆ i64        ┆ f64         ┆   ┆ str      ┆ f64    ┆ i64       ┆ str                       │\n",
       "╞══════════════╪════════════╪════════════╪═════════════╪═══╪══════════╪════════╪═══════════╪═══════════════════════════╡\n",
       "│ 2019-10-01   ┆ view       ┆ 44600062   ┆ 2.1038e18   ┆ … ┆ shiseido ┆ 35.79  ┆ 541312140 ┆ 72d76fde-8bb3-4e00-8c23-a │\n",
       "│ 00:00:00     ┆            ┆            ┆             ┆   ┆          ┆        ┆           ┆ 032dfed…                  │\n",
       "│ 2019-10-01   ┆ view       ┆ 3900821    ┆ 2.0530e18   ┆ … ┆ aqua     ┆ 33.2   ┆ 554748717 ┆ 9333dfbd-b87a-4708-9857-6 │\n",
       "│ 00:00:00     ┆            ┆            ┆             ┆   ┆          ┆        ┆           ┆ 336556b…                  │\n",
       "│ 2019-10-01   ┆ view       ┆ 17200506   ┆ 2.0530e18   ┆ … ┆ null     ┆ 543.1  ┆ 519107250 ┆ 566511c2-e2e3-422b-b695-c │\n",
       "│ 00:00:01     ┆            ┆            ┆             ┆   ┆          ┆        ┆           ┆ f8e6e79…                  │\n",
       "│ 2019-10-01   ┆ view       ┆ 1307067    ┆ 2.0530e18   ┆ … ┆ lenovo   ┆ 251.74 ┆ 550050854 ┆ 7c90fc70-0e80-4590-96f3-1 │\n",
       "│ 00:00:01     ┆            ┆            ┆             ┆   ┆          ┆        ┆           ┆ 3c02c18…                  │\n",
       "│ …            ┆ …          ┆ …          ┆ …           ┆ … ┆ …        ┆ …      ┆ …         ┆ …                         │\n",
       "│ 2019-10-01   ┆ view       ┆ 17300353   ┆ 2.0530e18   ┆ … ┆ creed    ┆ 380.96 ┆ 555447699 ┆ 4fe811e9-91de-46da-90c3-b │\n",
       "│ 00:00:08     ┆            ┆            ┆             ┆   ┆          ┆        ┆           ┆ bd87ed3…                  │\n",
       "│ 2019-10-01   ┆ view       ┆ 31500053   ┆ 2.0530e18   ┆ … ┆ luminarc ┆ 41.16  ┆ 550978835 ┆ 6280d577-25c8-4147-99a7-a │\n",
       "│ 00:00:08     ┆            ┆            ┆             ┆   ┆          ┆        ┆           ┆ bc60484…                  │\n",
       "│ 2019-10-01   ┆ view       ┆ 28719074   ┆ 2.0530e18   ┆ … ┆ baden    ┆ 102.71 ┆ 520571932 ┆ ac1cd4e5-a3ce-4224-a2d7-f │\n",
       "│ 00:00:10     ┆            ┆            ┆             ┆   ┆          ┆        ┆           ┆ f660a10…                  │\n",
       "│ 2019-10-01   ┆ view       ┆ 1004545    ┆ 2.0530e18   ┆ … ┆ huawei   ┆ 566.01 ┆ 537918940 ┆ 406c46ed-90a4-4787-a43b-5 │\n",
       "│ 00:00:11     ┆            ┆            ┆             ┆   ┆          ┆        ┆           ┆ 9a410c1…                  │\n",
       "└──────────────┴────────────┴────────────┴─────────────┴───┴──────────┴────────┴───────────┴───────────────────────────┘"
      ]
     },
     "execution_count": 27,
     "metadata": {},
     "output_type": "execute_result"
    }
   ],
   "source": [
    "df.with_columns([\n",
    "    pl.col('event_time').str.strptime(pl.Datetime , \"%Y-%m-%d %H:%M:%S %Z\")\n",
    "]).head(10)"
   ]
  },
  {
   "cell_type": "code",
   "execution_count": 65,
   "id": "ec97955b",
   "metadata": {},
   "outputs": [
    {
     "data": {
      "text/html": [
       "<div>\n",
       "<style scoped>\n",
       "    .dataframe tbody tr th:only-of-type {\n",
       "        vertical-align: middle;\n",
       "    }\n",
       "\n",
       "    .dataframe tbody tr th {\n",
       "        vertical-align: top;\n",
       "    }\n",
       "\n",
       "    .dataframe thead th {\n",
       "        text-align: right;\n",
       "    }\n",
       "</style>\n",
       "<table border=\"1\" class=\"dataframe\">\n",
       "  <thead>\n",
       "    <tr style=\"text-align: right;\">\n",
       "      <th></th>\n",
       "      <th>event_time</th>\n",
       "      <th>event_type</th>\n",
       "      <th>product_id</th>\n",
       "      <th>category_id</th>\n",
       "      <th>category_code</th>\n",
       "      <th>brand</th>\n",
       "      <th>price</th>\n",
       "      <th>user_id</th>\n",
       "      <th>user_session</th>\n",
       "    </tr>\n",
       "  </thead>\n",
       "  <tbody>\n",
       "    <tr>\n",
       "      <th>19</th>\n",
       "      <td>2019-10-01 02:21:04 UTC</td>\n",
       "      <td>view</td>\n",
       "      <td>1480731</td>\n",
       "      <td>2.053010e+18</td>\n",
       "      <td>computers.desktop</td>\n",
       "      <td>pulser</td>\n",
       "      <td>975.55</td>\n",
       "      <td>512742880</td>\n",
       "      <td>dc4b4278-a623-4113-b76a-391e2b54e3ad</td>\n",
       "    </tr>\n",
       "    <tr>\n",
       "      <th>38</th>\n",
       "      <td>2019-10-01 06:05:45 UTC</td>\n",
       "      <td>view</td>\n",
       "      <td>1480731</td>\n",
       "      <td>2.053010e+18</td>\n",
       "      <td>computers.desktop</td>\n",
       "      <td>pulser</td>\n",
       "      <td>975.55</td>\n",
       "      <td>512742880</td>\n",
       "      <td>a8bd0b36-f6c0-4b99-a8ff-c28c78eec308</td>\n",
       "    </tr>\n",
       "    <tr>\n",
       "      <th>21</th>\n",
       "      <td>2019-10-01 02:21:18 UTC</td>\n",
       "      <td>view</td>\n",
       "      <td>1480731</td>\n",
       "      <td>2.053010e+18</td>\n",
       "      <td>computers.desktop</td>\n",
       "      <td>pulser</td>\n",
       "      <td>975.55</td>\n",
       "      <td>512742880</td>\n",
       "      <td>dc4b4278-a623-4113-b76a-391e2b54e3ad</td>\n",
       "    </tr>\n",
       "    <tr>\n",
       "      <th>11</th>\n",
       "      <td>2019-10-01 02:18:20 UTC</td>\n",
       "      <td>view</td>\n",
       "      <td>1480708</td>\n",
       "      <td>2.053010e+18</td>\n",
       "      <td>computers.desktop</td>\n",
       "      <td>pulser</td>\n",
       "      <td>548.25</td>\n",
       "      <td>512742880</td>\n",
       "      <td>dc4b4278-a623-4113-b76a-391e2b54e3ad</td>\n",
       "    </tr>\n",
       "    <tr>\n",
       "      <th>28</th>\n",
       "      <td>2019-10-01 03:42:56 UTC</td>\n",
       "      <td>view</td>\n",
       "      <td>1700675</td>\n",
       "      <td>2.053010e+18</td>\n",
       "      <td>computers.peripherals.monitor</td>\n",
       "      <td>samsung</td>\n",
       "      <td>257.12</td>\n",
       "      <td>512742880</td>\n",
       "      <td>3f1dc3b7-72f4-4733-864a-fb6e61ca067c</td>\n",
       "    </tr>\n",
       "  </tbody>\n",
       "</table>\n",
       "</div>"
      ],
      "text/plain": [
       "                 event_time event_type  product_id   category_id  \\\n",
       "19  2019-10-01 02:21:04 UTC       view     1480731  2.053010e+18   \n",
       "38  2019-10-01 06:05:45 UTC       view     1480731  2.053010e+18   \n",
       "21  2019-10-01 02:21:18 UTC       view     1480731  2.053010e+18   \n",
       "11  2019-10-01 02:18:20 UTC       view     1480708  2.053010e+18   \n",
       "28  2019-10-01 03:42:56 UTC       view     1700675  2.053010e+18   \n",
       "\n",
       "                    category_code    brand   price    user_id  \\\n",
       "19              computers.desktop   pulser  975.55  512742880   \n",
       "38              computers.desktop   pulser  975.55  512742880   \n",
       "21              computers.desktop   pulser  975.55  512742880   \n",
       "11              computers.desktop   pulser  548.25  512742880   \n",
       "28  computers.peripherals.monitor  samsung  257.12  512742880   \n",
       "\n",
       "                            user_session  \n",
       "19  dc4b4278-a623-4113-b76a-391e2b54e3ad  \n",
       "38  a8bd0b36-f6c0-4b99-a8ff-c28c78eec308  \n",
       "21  dc4b4278-a623-4113-b76a-391e2b54e3ad  \n",
       "11  dc4b4278-a623-4113-b76a-391e2b54e3ad  \n",
       "28  3f1dc3b7-72f4-4733-864a-fb6e61ca067c  "
      ]
     },
     "execution_count": 65,
     "metadata": {},
     "output_type": "execute_result"
    }
   ],
   "source": [
    "# 512742880 koi or value use karoge tou error aasakhata hai kiu ke o values bohat ziada hongi jabhi eror ayega\n",
    "df.filter(pl.col('user_id') ==512742880).to_pandas().sample(5)"
   ]
  },
  {
   "cell_type": "markdown",
   "id": "902183ad",
   "metadata": {},
   "source": [
    "# 1. Keep rows with purchases only"
   ]
  },
  {
   "cell_type": "code",
   "execution_count": 66,
   "id": "55adfe5b",
   "metadata": {},
   "outputs": [
    {
     "data": {
      "text/html": [
       "<div><style>\n",
       ".dataframe > thead > tr > th,\n",
       ".dataframe > tbody > tr > td {\n",
       "  text-align: right;\n",
       "}\n",
       "</style>\n",
       "<small>shape: (5, 9)</small><table border=\"1\" class=\"dataframe\"><thead><tr><th>event_time</th><th>event_type</th><th>product_id</th><th>category_id</th><th>category_code</th><th>brand</th><th>price</th><th>user_id</th><th>user_session</th></tr><tr><td>str</td><td>str</td><td>i64</td><td>f64</td><td>str</td><td>str</td><td>f64</td><td>i64</td><td>str</td></tr></thead><tbody><tr><td>&quot;2019-10-01 00:…</td><td>&quot;purchase&quot;</td><td>1004856</td><td>2.0530e18</td><td>&quot;electronics.sm…</td><td>&quot;samsung&quot;</td><td>130.76</td><td>543272936</td><td>&quot;8187d148-3c41-…</td></tr><tr><td>&quot;2019-10-01 00:…</td><td>&quot;purchase&quot;</td><td>1002532</td><td>2.0530e18</td><td>&quot;electronics.sm…</td><td>&quot;apple&quot;</td><td>642.69</td><td>551377651</td><td>&quot;3c80f0d6-e9ec-…</td></tr><tr><td>&quot;2019-10-01 00:…</td><td>&quot;purchase&quot;</td><td>5100816</td><td>2.0530e18</td><td>null</td><td>&quot;xiaomi&quot;</td><td>29.51</td><td>514591159</td><td>&quot;0e5dfc4b-2a55-…</td></tr><tr><td>&quot;2019-10-01 00:…</td><td>&quot;purchase&quot;</td><td>13800054</td><td>2.0530e18</td><td>&quot;furniture.bath…</td><td>&quot;santeri&quot;</td><td>54.42</td><td>555332717</td><td>&quot;1dea3ee2-2ded-…</td></tr><tr><td>&quot;2019-10-01 00:…</td><td>&quot;purchase&quot;</td><td>4804055</td><td>2.0530e18</td><td>&quot;electronics.au…</td><td>&quot;apple&quot;</td><td>189.91</td><td>524601178</td><td>&quot;2af9b570-0942-…</td></tr></tbody></table></div>"
      ],
      "text/plain": [
       "shape: (5, 9)\n",
       "┌─────────────────────┬────────────┬────────────┬─────────────┬───┬─────────┬────────┬───────────┬─────────────────────┐\n",
       "│ event_time          ┆ event_type ┆ product_id ┆ category_id ┆ … ┆ brand   ┆ price  ┆ user_id   ┆ user_session        │\n",
       "│ ---                 ┆ ---        ┆ ---        ┆ ---         ┆   ┆ ---     ┆ ---    ┆ ---       ┆ ---                 │\n",
       "│ str                 ┆ str        ┆ i64        ┆ f64         ┆   ┆ str     ┆ f64    ┆ i64       ┆ str                 │\n",
       "╞═════════════════════╪════════════╪════════════╪═════════════╪═══╪═════════╪════════╪═══════════╪═════════════════════╡\n",
       "│ 2019-10-01 00:02:14 ┆ purchase   ┆ 1004856    ┆ 2.0530e18   ┆ … ┆ samsung ┆ 130.76 ┆ 543272936 ┆ 8187d148-3c41-46d4- │\n",
       "│ UTC                 ┆            ┆            ┆             ┆   ┆         ┆        ┆           ┆ b0c0-9c08cd9d…      │\n",
       "│ 2019-10-01 00:04:37 ┆ purchase   ┆ 1002532    ┆ 2.0530e18   ┆ … ┆ apple   ┆ 642.69 ┆ 551377651 ┆ 3c80f0d6-e9ec-4181- │\n",
       "│ UTC                 ┆            ┆            ┆             ┆   ┆         ┆        ┆           ┆ 8c5c-837a30be…      │\n",
       "│ 2019-10-01 00:06:02 ┆ purchase   ┆ 5100816    ┆ 2.0530e18   ┆ … ┆ xiaomi  ┆ 29.51  ┆ 514591159 ┆ 0e5dfc4b-2a55-43e6- │\n",
       "│ UTC                 ┆            ┆            ┆             ┆   ┆         ┆        ┆           ┆ 8c05-97e1f07f…      │\n",
       "│ 2019-10-01 00:07:07 ┆ purchase   ┆ 13800054   ┆ 2.0530e18   ┆ … ┆ santeri ┆ 54.42  ┆ 555332717 ┆ 1dea3ee2-2ded-42e8- │\n",
       "│ UTC                 ┆            ┆            ┆             ┆   ┆         ┆        ┆           ┆ 8e7a-4e2ad6ae…      │\n",
       "│ 2019-10-01 00:09:26 ┆ purchase   ┆ 4804055    ┆ 2.0530e18   ┆ … ┆ apple   ┆ 189.91 ┆ 524601178 ┆ 2af9b570-0942-4dcd- │\n",
       "│ UTC                 ┆            ┆            ┆             ┆   ┆         ┆        ┆           ┆ 8f25-4d84fba8…      │\n",
       "└─────────────────────┴────────────┴────────────┴─────────────┴───┴─────────┴────────┴───────────┴─────────────────────┘"
      ]
     },
     "execution_count": 66,
     "metadata": {},
     "output_type": "execute_result"
    }
   ],
   "source": [
    "df_purchases = df.filter(pl.col('event_type')=='purchase')\n",
    "df_purchases.head()"
   ]
  },
  {
   "cell_type": "code",
   "execution_count": 67,
   "id": "db63c9ea",
   "metadata": {},
   "outputs": [
    {
     "data": {
      "text/plain": [
       "(17296, 9)"
      ]
     },
     "execution_count": 67,
     "metadata": {},
     "output_type": "execute_result"
    }
   ],
   "source": [
    "df_purchases.shape"
   ]
  },
  {
   "cell_type": "markdown",
   "id": "d154810c",
   "metadata": {},
   "source": [
    "## 2. Let's compute RFM"
   ]
  },
  {
   "cell_type": "code",
   "execution_count": 68,
   "id": "bc2bbe75",
   "metadata": {},
   "outputs": [],
   "source": [
    "# lets find out unique values\n",
    "df_purchases = df_purchases.select(['event_time', 'user_id', 'price']).unique()\n",
    "# df_purchases.head()\n",
    "# *\n",
    "df_purchases = df_purchases.to_pandas()"
   ]
  },
  {
   "cell_type": "code",
   "execution_count": 69,
   "id": "3645212e",
   "metadata": {},
   "outputs": [
    {
     "data": {
      "text/html": [
       "<div>\n",
       "<style scoped>\n",
       "    .dataframe tbody tr th:only-of-type {\n",
       "        vertical-align: middle;\n",
       "    }\n",
       "\n",
       "    .dataframe tbody tr th {\n",
       "        vertical-align: top;\n",
       "    }\n",
       "\n",
       "    .dataframe thead th {\n",
       "        text-align: right;\n",
       "    }\n",
       "</style>\n",
       "<table border=\"1\" class=\"dataframe\">\n",
       "  <thead>\n",
       "    <tr style=\"text-align: right;\">\n",
       "      <th></th>\n",
       "      <th>event_time</th>\n",
       "      <th>user_id</th>\n",
       "      <th>price</th>\n",
       "    </tr>\n",
       "  </thead>\n",
       "  <tbody>\n",
       "    <tr>\n",
       "      <th>0</th>\n",
       "      <td>2019-10-01 00:04:37 UTC</td>\n",
       "      <td>551377651</td>\n",
       "      <td>642.69</td>\n",
       "    </tr>\n",
       "    <tr>\n",
       "      <th>1</th>\n",
       "      <td>2019-10-01 00:06:02 UTC</td>\n",
       "      <td>514591159</td>\n",
       "      <td>29.51</td>\n",
       "    </tr>\n",
       "    <tr>\n",
       "      <th>2</th>\n",
       "      <td>2019-10-01 00:09:26 UTC</td>\n",
       "      <td>524601178</td>\n",
       "      <td>189.91</td>\n",
       "    </tr>\n",
       "    <tr>\n",
       "      <th>3</th>\n",
       "      <td>2019-10-01 00:10:08 UTC</td>\n",
       "      <td>524325294</td>\n",
       "      <td>515.67</td>\n",
       "    </tr>\n",
       "    <tr>\n",
       "      <th>4</th>\n",
       "      <td>2019-10-01 02:20:16 UTC</td>\n",
       "      <td>512550575</td>\n",
       "      <td>141.86</td>\n",
       "    </tr>\n",
       "  </tbody>\n",
       "</table>\n",
       "</div>"
      ],
      "text/plain": [
       "                event_time    user_id   price\n",
       "0  2019-10-01 00:04:37 UTC  551377651  642.69\n",
       "1  2019-10-01 00:06:02 UTC  514591159   29.51\n",
       "2  2019-10-01 00:09:26 UTC  524601178  189.91\n",
       "3  2019-10-01 00:10:08 UTC  524325294  515.67\n",
       "4  2019-10-01 02:20:16 UTC  512550575  141.86"
      ]
     },
     "execution_count": 69,
     "metadata": {},
     "output_type": "execute_result"
    }
   ],
   "source": [
    "df_purchases.head()"
   ]
  },
  {
   "cell_type": "markdown",
   "id": "56e0aa48",
   "metadata": {},
   "source": [
    "## Compute time difference"
   ]
  },
  {
   "cell_type": "code",
   "execution_count": 70,
   "id": "4d2262f6",
   "metadata": {},
   "outputs": [
    {
     "data": {
      "text/plain": [
       "datetime.datetime(2019, 11, 30, 0, 0)"
      ]
     },
     "execution_count": 70,
     "metadata": {},
     "output_type": "execute_result"
    }
   ],
   "source": [
    "from datetime import datetime\n",
    "anchor_date = datetime(2019, 11, 30)\n",
    "anchor_date"
   ]
  },
  {
   "cell_type": "code",
   "execution_count": 73,
   "id": "9aadeaaa",
   "metadata": {},
   "outputs": [],
   "source": [
    "# 1e6 : represents 1 million, which is the number of microseconds in a second.\n",
    "# 3600 : represents the number of seconds in an hour.\n",
    "# 24 : represents the number of hours in a day."
   ]
  },
  {
   "cell_type": "code",
   "execution_count": 74,
   "id": "38d90381",
   "metadata": {},
   "outputs": [],
   "source": [
    "date_diff = anchor_date - pl.col(\"event_time\") / (1e6 * 3600 * 24)\n",
    "df_purchases = date_diff"
   ]
  },
  {
   "cell_type": "code",
   "execution_count": 77,
   "id": "aeef32b0",
   "metadata": {},
   "outputs": [
    {
     "ename": "AttributeError",
     "evalue": "'Expr' object has no attribute 'groupby'",
     "output_type": "error",
     "traceback": [
      "\u001b[1;31m---------------------------------------------------------------------------\u001b[0m",
      "\u001b[1;31mAttributeError\u001b[0m                            Traceback (most recent call last)",
      "\u001b[1;32m~\\AppData\\Local\\Temp\\ipykernel_11164\\2791292448.py\u001b[0m in \u001b[0;36m<module>\u001b[1;34m\u001b[0m\n\u001b[1;32m----> 1\u001b[1;33m \u001b[0mget_ipython\u001b[0m\u001b[1;33m(\u001b[0m\u001b[1;33m)\u001b[0m\u001b[1;33m.\u001b[0m\u001b[0mrun_cell_magic\u001b[0m\u001b[1;33m(\u001b[0m\u001b[1;34m'timeit'\u001b[0m\u001b[1;33m,\u001b[0m \u001b[1;34m''\u001b[0m\u001b[1;33m,\u001b[0m \u001b[1;34m'df_agg = df_purchases.groupby(\\'user_id\\').agg([\\n    pl.col(\\'date_diff\\').min().alias(\"recency\"),\\n    pl.count(),\\n    pl.col(\\'price\\').sum(),\\n])\\n'\u001b[0m\u001b[1;33m)\u001b[0m\u001b[1;33m\u001b[0m\u001b[1;33m\u001b[0m\u001b[0m\n\u001b[0m",
      "\u001b[1;32mD:\\Anaconda\\lib\\site-packages\\IPython\\core\\interactiveshell.py\u001b[0m in \u001b[0;36mrun_cell_magic\u001b[1;34m(self, magic_name, line, cell)\u001b[0m\n\u001b[0;32m   2417\u001b[0m             \u001b[1;32mwith\u001b[0m \u001b[0mself\u001b[0m\u001b[1;33m.\u001b[0m\u001b[0mbuiltin_trap\u001b[0m\u001b[1;33m:\u001b[0m\u001b[1;33m\u001b[0m\u001b[1;33m\u001b[0m\u001b[0m\n\u001b[0;32m   2418\u001b[0m                 \u001b[0margs\u001b[0m \u001b[1;33m=\u001b[0m \u001b[1;33m(\u001b[0m\u001b[0mmagic_arg_s\u001b[0m\u001b[1;33m,\u001b[0m \u001b[0mcell\u001b[0m\u001b[1;33m)\u001b[0m\u001b[1;33m\u001b[0m\u001b[1;33m\u001b[0m\u001b[0m\n\u001b[1;32m-> 2419\u001b[1;33m                 \u001b[0mresult\u001b[0m \u001b[1;33m=\u001b[0m \u001b[0mfn\u001b[0m\u001b[1;33m(\u001b[0m\u001b[1;33m*\u001b[0m\u001b[0margs\u001b[0m\u001b[1;33m,\u001b[0m \u001b[1;33m**\u001b[0m\u001b[0mkwargs\u001b[0m\u001b[1;33m)\u001b[0m\u001b[1;33m\u001b[0m\u001b[1;33m\u001b[0m\u001b[0m\n\u001b[0m\u001b[0;32m   2420\u001b[0m             \u001b[1;32mreturn\u001b[0m \u001b[0mresult\u001b[0m\u001b[1;33m\u001b[0m\u001b[1;33m\u001b[0m\u001b[0m\n\u001b[0;32m   2421\u001b[0m \u001b[1;33m\u001b[0m\u001b[0m\n",
      "\u001b[1;32mD:\\Anaconda\\lib\\site-packages\\decorator.py\u001b[0m in \u001b[0;36mfun\u001b[1;34m(*args, **kw)\u001b[0m\n\u001b[0;32m    230\u001b[0m             \u001b[1;32mif\u001b[0m \u001b[1;32mnot\u001b[0m \u001b[0mkwsyntax\u001b[0m\u001b[1;33m:\u001b[0m\u001b[1;33m\u001b[0m\u001b[1;33m\u001b[0m\u001b[0m\n\u001b[0;32m    231\u001b[0m                 \u001b[0margs\u001b[0m\u001b[1;33m,\u001b[0m \u001b[0mkw\u001b[0m \u001b[1;33m=\u001b[0m \u001b[0mfix\u001b[0m\u001b[1;33m(\u001b[0m\u001b[0margs\u001b[0m\u001b[1;33m,\u001b[0m \u001b[0mkw\u001b[0m\u001b[1;33m,\u001b[0m \u001b[0msig\u001b[0m\u001b[1;33m)\u001b[0m\u001b[1;33m\u001b[0m\u001b[1;33m\u001b[0m\u001b[0m\n\u001b[1;32m--> 232\u001b[1;33m             \u001b[1;32mreturn\u001b[0m \u001b[0mcaller\u001b[0m\u001b[1;33m(\u001b[0m\u001b[0mfunc\u001b[0m\u001b[1;33m,\u001b[0m \u001b[1;33m*\u001b[0m\u001b[1;33m(\u001b[0m\u001b[0mextras\u001b[0m \u001b[1;33m+\u001b[0m \u001b[0margs\u001b[0m\u001b[1;33m)\u001b[0m\u001b[1;33m,\u001b[0m \u001b[1;33m**\u001b[0m\u001b[0mkw\u001b[0m\u001b[1;33m)\u001b[0m\u001b[1;33m\u001b[0m\u001b[1;33m\u001b[0m\u001b[0m\n\u001b[0m\u001b[0;32m    233\u001b[0m     \u001b[0mfun\u001b[0m\u001b[1;33m.\u001b[0m\u001b[0m__name__\u001b[0m \u001b[1;33m=\u001b[0m \u001b[0mfunc\u001b[0m\u001b[1;33m.\u001b[0m\u001b[0m__name__\u001b[0m\u001b[1;33m\u001b[0m\u001b[1;33m\u001b[0m\u001b[0m\n\u001b[0;32m    234\u001b[0m     \u001b[0mfun\u001b[0m\u001b[1;33m.\u001b[0m\u001b[0m__doc__\u001b[0m \u001b[1;33m=\u001b[0m \u001b[0mfunc\u001b[0m\u001b[1;33m.\u001b[0m\u001b[0m__doc__\u001b[0m\u001b[1;33m\u001b[0m\u001b[1;33m\u001b[0m\u001b[0m\n",
      "\u001b[1;32mD:\\Anaconda\\lib\\site-packages\\IPython\\core\\magic.py\u001b[0m in \u001b[0;36m<lambda>\u001b[1;34m(f, *a, **k)\u001b[0m\n\u001b[0;32m    185\u001b[0m     \u001b[1;31m# but it's overkill for just that one bit of state.\u001b[0m\u001b[1;33m\u001b[0m\u001b[1;33m\u001b[0m\u001b[0m\n\u001b[0;32m    186\u001b[0m     \u001b[1;32mdef\u001b[0m \u001b[0mmagic_deco\u001b[0m\u001b[1;33m(\u001b[0m\u001b[0marg\u001b[0m\u001b[1;33m)\u001b[0m\u001b[1;33m:\u001b[0m\u001b[1;33m\u001b[0m\u001b[1;33m\u001b[0m\u001b[0m\n\u001b[1;32m--> 187\u001b[1;33m         \u001b[0mcall\u001b[0m \u001b[1;33m=\u001b[0m \u001b[1;32mlambda\u001b[0m \u001b[0mf\u001b[0m\u001b[1;33m,\u001b[0m \u001b[1;33m*\u001b[0m\u001b[0ma\u001b[0m\u001b[1;33m,\u001b[0m \u001b[1;33m**\u001b[0m\u001b[0mk\u001b[0m\u001b[1;33m:\u001b[0m \u001b[0mf\u001b[0m\u001b[1;33m(\u001b[0m\u001b[1;33m*\u001b[0m\u001b[0ma\u001b[0m\u001b[1;33m,\u001b[0m \u001b[1;33m**\u001b[0m\u001b[0mk\u001b[0m\u001b[1;33m)\u001b[0m\u001b[1;33m\u001b[0m\u001b[1;33m\u001b[0m\u001b[0m\n\u001b[0m\u001b[0;32m    188\u001b[0m \u001b[1;33m\u001b[0m\u001b[0m\n\u001b[0;32m    189\u001b[0m         \u001b[1;32mif\u001b[0m \u001b[0mcallable\u001b[0m\u001b[1;33m(\u001b[0m\u001b[0marg\u001b[0m\u001b[1;33m)\u001b[0m\u001b[1;33m:\u001b[0m\u001b[1;33m\u001b[0m\u001b[1;33m\u001b[0m\u001b[0m\n",
      "\u001b[1;32mD:\\Anaconda\\lib\\site-packages\\IPython\\core\\magics\\execution.py\u001b[0m in \u001b[0;36mtimeit\u001b[1;34m(self, line, cell, local_ns)\u001b[0m\n\u001b[0;32m   1178\u001b[0m             \u001b[1;32mfor\u001b[0m \u001b[0mindex\u001b[0m \u001b[1;32min\u001b[0m \u001b[0mrange\u001b[0m\u001b[1;33m(\u001b[0m\u001b[1;36m0\u001b[0m\u001b[1;33m,\u001b[0m \u001b[1;36m10\u001b[0m\u001b[1;33m)\u001b[0m\u001b[1;33m:\u001b[0m\u001b[1;33m\u001b[0m\u001b[1;33m\u001b[0m\u001b[0m\n\u001b[0;32m   1179\u001b[0m                 \u001b[0mnumber\u001b[0m \u001b[1;33m=\u001b[0m \u001b[1;36m10\u001b[0m \u001b[1;33m**\u001b[0m \u001b[0mindex\u001b[0m\u001b[1;33m\u001b[0m\u001b[1;33m\u001b[0m\u001b[0m\n\u001b[1;32m-> 1180\u001b[1;33m                 \u001b[0mtime_number\u001b[0m \u001b[1;33m=\u001b[0m \u001b[0mtimer\u001b[0m\u001b[1;33m.\u001b[0m\u001b[0mtimeit\u001b[0m\u001b[1;33m(\u001b[0m\u001b[0mnumber\u001b[0m\u001b[1;33m)\u001b[0m\u001b[1;33m\u001b[0m\u001b[1;33m\u001b[0m\u001b[0m\n\u001b[0m\u001b[0;32m   1181\u001b[0m                 \u001b[1;32mif\u001b[0m \u001b[0mtime_number\u001b[0m \u001b[1;33m>=\u001b[0m \u001b[1;36m0.2\u001b[0m\u001b[1;33m:\u001b[0m\u001b[1;33m\u001b[0m\u001b[1;33m\u001b[0m\u001b[0m\n\u001b[0;32m   1182\u001b[0m                     \u001b[1;32mbreak\u001b[0m\u001b[1;33m\u001b[0m\u001b[1;33m\u001b[0m\u001b[0m\n",
      "\u001b[1;32mD:\\Anaconda\\lib\\site-packages\\IPython\\core\\magics\\execution.py\u001b[0m in \u001b[0;36mtimeit\u001b[1;34m(self, number)\u001b[0m\n\u001b[0;32m    167\u001b[0m         \u001b[0mgc\u001b[0m\u001b[1;33m.\u001b[0m\u001b[0mdisable\u001b[0m\u001b[1;33m(\u001b[0m\u001b[1;33m)\u001b[0m\u001b[1;33m\u001b[0m\u001b[1;33m\u001b[0m\u001b[0m\n\u001b[0;32m    168\u001b[0m         \u001b[1;32mtry\u001b[0m\u001b[1;33m:\u001b[0m\u001b[1;33m\u001b[0m\u001b[1;33m\u001b[0m\u001b[0m\n\u001b[1;32m--> 169\u001b[1;33m             \u001b[0mtiming\u001b[0m \u001b[1;33m=\u001b[0m \u001b[0mself\u001b[0m\u001b[1;33m.\u001b[0m\u001b[0minner\u001b[0m\u001b[1;33m(\u001b[0m\u001b[0mit\u001b[0m\u001b[1;33m,\u001b[0m \u001b[0mself\u001b[0m\u001b[1;33m.\u001b[0m\u001b[0mtimer\u001b[0m\u001b[1;33m)\u001b[0m\u001b[1;33m\u001b[0m\u001b[1;33m\u001b[0m\u001b[0m\n\u001b[0m\u001b[0;32m    170\u001b[0m         \u001b[1;32mfinally\u001b[0m\u001b[1;33m:\u001b[0m\u001b[1;33m\u001b[0m\u001b[1;33m\u001b[0m\u001b[0m\n\u001b[0;32m    171\u001b[0m             \u001b[1;32mif\u001b[0m \u001b[0mgcold\u001b[0m\u001b[1;33m:\u001b[0m\u001b[1;33m\u001b[0m\u001b[1;33m\u001b[0m\u001b[0m\n",
      "\u001b[1;32m<magic-timeit>\u001b[0m in \u001b[0;36minner\u001b[1;34m(_it, _timer)\u001b[0m\n",
      "\u001b[1;32mD:\\Anaconda\\lib\\site-packages\\polars\\utils\\decorators.py\u001b[0m in \u001b[0;36m_redirecting_getattr_\u001b[1;34m(obj, item)\u001b[0m\n\u001b[0;32m    176\u001b[0m             \u001b[0mitem\u001b[0m \u001b[1;33m=\u001b[0m \u001b[0mnew_item_name\u001b[0m\u001b[1;33m\u001b[0m\u001b[1;33m\u001b[0m\u001b[0m\n\u001b[0;32m    177\u001b[0m \u001b[1;33m\u001b[0m\u001b[0m\n\u001b[1;32m--> 178\u001b[1;33m         \u001b[0mattr\u001b[0m \u001b[1;33m=\u001b[0m \u001b[0mobj\u001b[0m\u001b[1;33m.\u001b[0m\u001b[0m__getattribute__\u001b[0m\u001b[1;33m(\u001b[0m\u001b[0mitem\u001b[0m\u001b[1;33m)\u001b[0m\u001b[1;33m\u001b[0m\u001b[1;33m\u001b[0m\u001b[0m\n\u001b[0m\u001b[0;32m    179\u001b[0m         \u001b[1;32mif\u001b[0m \u001b[0misinstance\u001b[0m\u001b[1;33m(\u001b[0m\u001b[0mnew_item\u001b[0m\u001b[1;33m,\u001b[0m \u001b[0mtuple\u001b[0m\u001b[1;33m)\u001b[0m\u001b[1;33m:\u001b[0m\u001b[1;33m\u001b[0m\u001b[1;33m\u001b[0m\u001b[0m\n\u001b[0;32m    180\u001b[0m             \u001b[0mattr\u001b[0m \u001b[1;33m=\u001b[0m \u001b[0mpartial\u001b[0m\u001b[1;33m(\u001b[0m\u001b[0mattr\u001b[0m\u001b[1;33m,\u001b[0m \u001b[1;33m**\u001b[0m\u001b[0mnew_item\u001b[0m\u001b[1;33m[\u001b[0m\u001b[1;36m1\u001b[0m\u001b[1;33m]\u001b[0m\u001b[1;33m)\u001b[0m\u001b[1;33m\u001b[0m\u001b[1;33m\u001b[0m\u001b[0m\n",
      "\u001b[1;31mAttributeError\u001b[0m: 'Expr' object has no attribute 'groupby'"
     ]
    }
   ],
   "source": [
    "%%timeit\n",
    "df_agg = df_purchases.groupby('user_id').agg([\n",
    "    pl.col('date_diff').min().alias(\"recency\"),\n",
    "    pl.count(),\n",
    "    pl.col('price').sum(),\n",
    "])"
   ]
  },
  {
   "cell_type": "code",
   "execution_count": null,
   "id": "67f22c40",
   "metadata": {},
   "outputs": [],
   "source": []
  },
  {
   "cell_type": "code",
   "execution_count": null,
   "id": "35d3e503",
   "metadata": {},
   "outputs": [],
   "source": []
  },
  {
   "cell_type": "code",
   "execution_count": null,
   "id": "322d9dc9",
   "metadata": {},
   "outputs": [],
   "source": []
  },
  {
   "cell_type": "code",
   "execution_count": null,
   "id": "f29727af",
   "metadata": {},
   "outputs": [],
   "source": []
  },
  {
   "cell_type": "code",
   "execution_count": null,
   "id": "418dd4a2",
   "metadata": {},
   "outputs": [],
   "source": []
  }
 ],
 "metadata": {
  "kernelspec": {
   "display_name": "Python 3 (ipykernel)",
   "language": "python",
   "name": "python3"
  },
  "language_info": {
   "codemirror_mode": {
    "name": "ipython",
    "version": 3
   },
   "file_extension": ".py",
   "mimetype": "text/x-python",
   "name": "python",
   "nbconvert_exporter": "python",
   "pygments_lexer": "ipython3",
   "version": "3.9.13"
  }
 },
 "nbformat": 4,
 "nbformat_minor": 5
}
